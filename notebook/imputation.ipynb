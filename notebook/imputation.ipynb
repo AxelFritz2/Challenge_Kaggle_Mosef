{
 "cells": [
  {
   "cell_type": "code",
   "execution_count": 1,
   "id": "initial_id",
   "metadata": {
    "collapsed": true,
    "ExecuteTime": {
     "end_time": "2023-11-01T12:18:32.732725Z",
     "start_time": "2023-11-01T12:18:32.730238Z"
    }
   },
   "outputs": [],
   "source": [
    "import pandas as pd"
   ]
  },
  {
   "cell_type": "code",
   "execution_count": 2,
   "outputs": [
    {
     "name": "stderr",
     "output_type": "stream",
     "text": [
      "/var/folders/12/33kq22951gn7jfpz3d32v_qc0000gn/T/ipykernel_15728/176984250.py:1: DtypeWarning: Columns (28) have mixed types. Specify dtype option on import or set low_memory=False.\n",
      "  train = pd.read_csv(\"../data/train.csv\")\n",
      "/var/folders/12/33kq22951gn7jfpz3d32v_qc0000gn/T/ipykernel_15728/176984250.py:2: DtypeWarning: Columns (27) have mixed types. Specify dtype option on import or set low_memory=False.\n",
      "  test = pd.read_csv(\"../data/test.csv\")\n"
     ]
    }
   ],
   "source": [
    "train = pd.read_csv(\"../data/train.csv\")\n",
    "test = pd.read_csv(\"../data/test.csv\")"
   ],
   "metadata": {
    "collapsed": false,
    "ExecuteTime": {
     "end_time": "2023-11-01T12:19:47.793723Z",
     "start_time": "2023-11-01T12:19:08.905262Z"
    }
   },
   "id": "a8da5b345afebb01"
  },
  {
   "cell_type": "code",
   "execution_count": 3,
   "outputs": [
    {
     "name": "stdout",
     "output_type": "stream",
     "text": [
      "Valeurs manquantes du train supprimées ✅\n"
     ]
    }
   ],
   "source": [
    "percentage = (train.isna().sum() / train.shape[0]) * 100\n",
    "columns_to_delete = [col for col in train.columns if\n",
    "                          col != \"Electric range (km)\" and percentage[col] >= 40]\n",
    "columns_to_delete.extend([\"r\", \"Status\", \"IT\", 'Date of registration', \"Mp\"])"
   ],
   "metadata": {
    "collapsed": false,
    "ExecuteTime": {
     "end_time": "2023-11-01T12:20:47.562938Z",
     "start_time": "2023-11-01T12:20:41.517016Z"
    }
   },
   "id": "c02e3f98cc9494f6"
  },
  {
   "cell_type": "code",
   "execution_count": 4,
   "outputs": [],
   "source": [
    "nan_table = pd.DataFrame(columns=[\"Variable\", \"Pourcentages de valeurs manquantes\"])\n",
    "\n",
    "for col in train:\n",
    "    pcentage = (train[col].isna().sum() / train.shape[0]) * 100\n",
    "    nan_table.loc[len(nan_table)] = [col, pcentage]\n",
    "\n",
    "nan_table = nan_table.sort_values(by=[\"Pourcentages de valeurs manquantes\"], ascending=False).reset_index(\n",
    "    drop=True)"
   ],
   "metadata": {
    "collapsed": false,
    "ExecuteTime": {
     "end_time": "2023-11-01T12:21:43.408740Z",
     "start_time": "2023-11-01T12:21:40.378840Z"
    }
   },
   "id": "e4a23bb2f482a564"
  },
  {
   "cell_type": "code",
   "execution_count": 5,
   "outputs": [
    {
     "data": {
      "text/plain": "               Variable  Pourcentages de valeurs manquantes\n0   Electric range (km)                           82.957451\n1     Fuel consumption                            23.506914\n2              ec (cm3)                           13.507824\n3                    Mt                           11.097134\n4                   VFN                            8.614134\n5              At2 (mm)                            2.341604\n6              At1 (mm)                            2.188229\n7                    Cn                            1.521888\n8                    Ve                            0.423646\n9               ep (KW)                            0.253406\n10                  Tan                            0.163782\n11               W (mm)                            0.162290\n12                   Ct                            0.156228\n13                   Va                            0.155052\n14                    T                            0.018477\n15                   Mk                            0.002800\n16               m (kg)                            0.001321\n17                   Fm                            0.000304\n18                   Ft                            0.000000\n19                   ID                            0.000000\n20         Ewltp (g/km)                            0.000000\n21              Country                            0.000000\n22                  Man                            0.000000\n23                   Mh                            0.000000\n24                   Cr                            0.000000",
      "text/html": "<div>\n<style scoped>\n    .dataframe tbody tr th:only-of-type {\n        vertical-align: middle;\n    }\n\n    .dataframe tbody tr th {\n        vertical-align: top;\n    }\n\n    .dataframe thead th {\n        text-align: right;\n    }\n</style>\n<table border=\"1\" class=\"dataframe\">\n  <thead>\n    <tr style=\"text-align: right;\">\n      <th></th>\n      <th>Variable</th>\n      <th>Pourcentages de valeurs manquantes</th>\n    </tr>\n  </thead>\n  <tbody>\n    <tr>\n      <th>0</th>\n      <td>Electric range (km)</td>\n      <td>82.957451</td>\n    </tr>\n    <tr>\n      <th>1</th>\n      <td>Fuel consumption</td>\n      <td>23.506914</td>\n    </tr>\n    <tr>\n      <th>2</th>\n      <td>ec (cm3)</td>\n      <td>13.507824</td>\n    </tr>\n    <tr>\n      <th>3</th>\n      <td>Mt</td>\n      <td>11.097134</td>\n    </tr>\n    <tr>\n      <th>4</th>\n      <td>VFN</td>\n      <td>8.614134</td>\n    </tr>\n    <tr>\n      <th>5</th>\n      <td>At2 (mm)</td>\n      <td>2.341604</td>\n    </tr>\n    <tr>\n      <th>6</th>\n      <td>At1 (mm)</td>\n      <td>2.188229</td>\n    </tr>\n    <tr>\n      <th>7</th>\n      <td>Cn</td>\n      <td>1.521888</td>\n    </tr>\n    <tr>\n      <th>8</th>\n      <td>Ve</td>\n      <td>0.423646</td>\n    </tr>\n    <tr>\n      <th>9</th>\n      <td>ep (KW)</td>\n      <td>0.253406</td>\n    </tr>\n    <tr>\n      <th>10</th>\n      <td>Tan</td>\n      <td>0.163782</td>\n    </tr>\n    <tr>\n      <th>11</th>\n      <td>W (mm)</td>\n      <td>0.162290</td>\n    </tr>\n    <tr>\n      <th>12</th>\n      <td>Ct</td>\n      <td>0.156228</td>\n    </tr>\n    <tr>\n      <th>13</th>\n      <td>Va</td>\n      <td>0.155052</td>\n    </tr>\n    <tr>\n      <th>14</th>\n      <td>T</td>\n      <td>0.018477</td>\n    </tr>\n    <tr>\n      <th>15</th>\n      <td>Mk</td>\n      <td>0.002800</td>\n    </tr>\n    <tr>\n      <th>16</th>\n      <td>m (kg)</td>\n      <td>0.001321</td>\n    </tr>\n    <tr>\n      <th>17</th>\n      <td>Fm</td>\n      <td>0.000304</td>\n    </tr>\n    <tr>\n      <th>18</th>\n      <td>Ft</td>\n      <td>0.000000</td>\n    </tr>\n    <tr>\n      <th>19</th>\n      <td>ID</td>\n      <td>0.000000</td>\n    </tr>\n    <tr>\n      <th>20</th>\n      <td>Ewltp (g/km)</td>\n      <td>0.000000</td>\n    </tr>\n    <tr>\n      <th>21</th>\n      <td>Country</td>\n      <td>0.000000</td>\n    </tr>\n    <tr>\n      <th>22</th>\n      <td>Man</td>\n      <td>0.000000</td>\n    </tr>\n    <tr>\n      <th>23</th>\n      <td>Mh</td>\n      <td>0.000000</td>\n    </tr>\n    <tr>\n      <th>24</th>\n      <td>Cr</td>\n      <td>0.000000</td>\n    </tr>\n  </tbody>\n</table>\n</div>"
     },
     "execution_count": 5,
     "metadata": {},
     "output_type": "execute_result"
    }
   ],
   "source": [
    "nan_table"
   ],
   "metadata": {
    "collapsed": false,
    "ExecuteTime": {
     "end_time": "2023-11-01T12:21:46.467834Z",
     "start_time": "2023-11-01T12:21:46.457719Z"
    }
   },
   "id": "ad4236fa0f8e5939"
  },
  {
   "cell_type": "markdown",
   "source": [
    "# Electric Range"
   ],
   "metadata": {
    "collapsed": false
   },
   "id": "9834c55966a88d"
  },
  {
   "cell_type": "code",
   "execution_count": 7,
   "outputs": [],
   "source": [
    "train['Electric range (km)'].fillna(0, inplace=True)"
   ],
   "metadata": {
    "collapsed": false,
    "ExecuteTime": {
     "end_time": "2023-11-01T12:22:52.783376Z",
     "start_time": "2023-11-01T12:22:52.740068Z"
    }
   },
   "id": "d1d85bbd1b90f04"
  },
  {
   "cell_type": "markdown",
   "source": [
    "# Ec (cm3)"
   ],
   "metadata": {
    "collapsed": false
   },
   "id": "656b424a445865c5"
  },
  {
   "cell_type": "code",
   "execution_count": 8,
   "outputs": [],
   "source": [
    "train['ec (cm3)'].fillna(0, inplace=True)"
   ],
   "metadata": {
    "collapsed": false,
    "ExecuteTime": {
     "end_time": "2023-11-01T12:23:30.169666Z",
     "start_time": "2023-11-01T12:23:30.141251Z"
    }
   },
   "id": "e38635af33715e0f"
  },
  {
   "cell_type": "markdown",
   "source": [
    "# Fuel Consumption"
   ],
   "metadata": {
    "collapsed": false
   },
   "id": "dcee3499ed66aaa3"
  },
  {
   "cell_type": "code",
   "execution_count": 34,
   "outputs": [],
   "source": [
    "train.loc[(train[\"Fuel consumption \"].isna()) & (train[\"Ft\"] == 'ELECTRIC'), \"Fuel consumption \"] = 0"
   ],
   "metadata": {
    "collapsed": false,
    "ExecuteTime": {
     "end_time": "2023-11-01T12:35:26.621684Z",
     "start_time": "2023-11-01T12:35:26.121409Z"
    }
   },
   "id": "1ad15802f4025217"
  },
  {
   "cell_type": "code",
   "execution_count": 37,
   "outputs": [
    {
     "data": {
      "text/plain": "Ft\nPETROL             497957\nDIESEL             166115\nPETROL/ELECTRIC     69183\nLPG                 20785\nDIESEL/ELECTRIC      3216\nNG                    547\nHYDROGEN              229\nNG-BIOMETHANE          46\nUNKNOWN                20\nE85                    15\nName: count, dtype: int64"
     },
     "execution_count": 37,
     "metadata": {},
     "output_type": "execute_result"
    }
   ],
   "source": [
    "train.loc[(train[\"Fuel consumption \"].isna())][\"Ft\"].value_counts()"
   ],
   "metadata": {
    "collapsed": false,
    "ExecuteTime": {
     "end_time": "2023-11-01T12:42:06.604821Z",
     "start_time": "2023-11-01T12:42:06.167768Z"
    }
   },
   "id": "43ba60aa625c9719"
  },
  {
   "cell_type": "code",
   "execution_count": 58,
   "outputs": [],
   "source": [
    "medians = train.groupby('Ft')['Fuel consumption '].median()"
   ],
   "metadata": {
    "collapsed": false,
    "ExecuteTime": {
     "end_time": "2023-11-01T14:02:41.682069Z",
     "start_time": "2023-11-01T14:02:41.241440Z"
    }
   },
   "id": "d444b29e40cdbdb7"
  },
  {
   "cell_type": "code",
   "execution_count": 59,
   "outputs": [],
   "source": [
    "for ft, median in medians.items():\n",
    "    train.loc[(train[\"Fuel consumption \"].isna()) & (train[\"Ft\"] == ft), 'Fuel consumption '] = median"
   ],
   "metadata": {
    "collapsed": false,
    "ExecuteTime": {
     "end_time": "2023-11-01T14:02:49.715711Z",
     "start_time": "2023-11-01T14:02:45.519378Z"
    }
   },
   "id": "f2fa63754a3eaa97"
  },
  {
   "cell_type": "code",
   "execution_count": 61,
   "outputs": [
    {
     "data": {
      "text/plain": "0"
     },
     "execution_count": 61,
     "metadata": {},
     "output_type": "execute_result"
    }
   ],
   "source": [
    "train[\"Fuel consumption \"].isna().sum()"
   ],
   "metadata": {
    "collapsed": false,
    "ExecuteTime": {
     "end_time": "2023-11-01T14:03:09.348870Z",
     "start_time": "2023-11-01T14:03:09.326122Z"
    }
   },
   "id": "eb877872ce20be0f"
  },
  {
   "cell_type": "markdown",
   "source": [
    "# Mt"
   ],
   "metadata": {
    "collapsed": false
   },
   "id": "d6cd5cdf9a9853cb"
  },
  {
   "cell_type": "code",
   "execution_count": 75,
   "outputs": [
    {
     "data": {
      "text/plain": "Cn\nPANDA                 80618\nYPSILON               32761\nPUMA                  28973\nTOYOTA YARIS CROSS    22380\nFIAT 500              22160\n                      ...  \nR RC740                   1\nBT7322                    1\nRDX                       1\nS-SERIES S 70SP           1\nZHIDOU. ZD                1\nName: count, Length: 3459, dtype: int64"
     },
     "execution_count": 75,
     "metadata": {},
     "output_type": "execute_result"
    }
   ],
   "source": [
    "train.loc[(train[\"Mt\"].isna())][\"Cn\"].value_counts()"
   ],
   "metadata": {
    "collapsed": false,
    "ExecuteTime": {
     "end_time": "2023-11-01T14:24:28.527975Z",
     "start_time": "2023-11-01T14:24:28.057852Z"
    }
   },
   "id": "4139caab8bed71e1"
  },
  {
   "cell_type": "code",
   "execution_count": 114,
   "outputs": [
    {
     "data": {
      "text/plain": "<Figure size 640x480 with 1 Axes>",
      "image/png": "[encoded data removed]"
     },
     "metadata": {},
     "output_type": "display_data"
    }
   ],
   "source": [
    "from matplotlib import pyplot as plt\n",
    "\n",
    "plt.hist(train[\"Mt\"], bins=100, label = \"Mt\")\n",
    "plt.hist(train[\"m (kg)\"], bins = 100, label= 'm')\n",
    "plt.legend()\n",
    "plt.show()"
   ],
   "metadata": {
    "collapsed": false,
    "ExecuteTime": {
     "end_time": "2023-11-01T17:43:00.674221Z",
     "start_time": "2023-11-01T17:42:59.931280Z"
    }
   },
   "id": "6c237863553eab3c"
  },
  {
   "cell_type": "code",
   "execution_count": 95,
   "outputs": [],
   "source": [
    "numericals = train.select_dtypes(exclude = [\"object\"]).columns.to_list()"
   ],
   "metadata": {
    "collapsed": false,
    "ExecuteTime": {
     "end_time": "2023-11-01T17:35:11.341530Z",
     "start_time": "2023-11-01T17:35:11.030991Z"
    }
   },
   "id": "2db3099245992660"
  },
  {
   "cell_type": "code",
   "execution_count": 96,
   "outputs": [
    {
     "data": {
      "text/plain": "ID                    -0.005225\nm (kg)                -0.235785\nMt                    -0.185097\nEwltp (g/km)           1.000000\nW (mm)                 0.053949\nAt1 (mm)               0.060442\nAt2 (mm)               0.061824\nec (cm3)               0.672611\nep (KW)                0.034477\nFuel consumption       0.933544\nElectric range (km)   -0.628966\nName: Ewltp (g/km), dtype: float64"
     },
     "execution_count": 96,
     "metadata": {},
     "output_type": "execute_result"
    }
   ],
   "source": [
    "train[numericals].corr()[\"Ewltp (g/km)\"]"
   ],
   "metadata": {
    "collapsed": false,
    "ExecuteTime": {
     "end_time": "2023-11-01T17:35:30.172472Z",
     "start_time": "2023-11-01T17:35:26.570909Z"
    }
   },
   "id": "895e1e935c1862a"
  },
  {
   "cell_type": "code",
   "execution_count": 99,
   "outputs": [],
   "source": [
    "na = train.loc[train[\"Mt\"].isna()][\"m (kg)\"]\n",
    "train.loc[train[\"Mt\"].isna(), \"Mt\"] = na"
   ],
   "metadata": {
    "collapsed": false,
    "ExecuteTime": {
     "end_time": "2023-11-01T17:37:18.672649Z",
     "start_time": "2023-11-01T17:37:18.059302Z"
    }
   },
   "id": "245eecadf3f7dc42"
  },
  {
   "cell_type": "code",
   "execution_count": 113,
   "outputs": [],
   "source": [
    "train[\"Mt\"].fillna(train[\"Mt\"].mean(), inplace = True)"
   ],
   "metadata": {
    "collapsed": false,
    "ExecuteTime": {
     "end_time": "2023-11-01T17:42:35.982566Z",
     "start_time": "2023-11-01T17:42:35.927507Z"
    }
   },
   "id": "f2333d7ccaa0c5f3"
  },
  {
   "cell_type": "markdown",
   "source": [
    "# AT1"
   ],
   "metadata": {
    "collapsed": false
   },
   "id": "a0780463b53999c9"
  },
  {
   "cell_type": "code",
   "execution_count": 124,
   "outputs": [],
   "source": [
    "mean_At1_by_Cn = train.groupby('Cn')['At1 (mm)'].transform('mean')"
   ],
   "metadata": {
    "collapsed": false,
    "ExecuteTime": {
     "end_time": "2023-11-01T17:59:15.075539Z",
     "start_time": "2023-11-01T17:59:14.376632Z"
    }
   },
   "id": "bb351da0e71f08c8"
  },
  {
   "cell_type": "code",
   "execution_count": 126,
   "outputs": [],
   "source": [
    "train['At1 (mm)'].fillna(mean_At1_by_Cn, inplace=True)"
   ],
   "metadata": {
    "collapsed": false,
    "ExecuteTime": {
     "end_time": "2023-11-01T17:59:43.908164Z",
     "start_time": "2023-11-01T17:59:43.871833Z"
    }
   },
   "id": "3394306d30b46ffe"
  },
  {
   "cell_type": "code",
   "execution_count": 127,
   "outputs": [
    {
     "data": {
      "text/plain": "4533"
     },
     "execution_count": 127,
     "metadata": {},
     "output_type": "execute_result"
    }
   ],
   "source": [
    "train[\"At1 (mm)\"].isna().sum()"
   ],
   "metadata": {
    "collapsed": false,
    "ExecuteTime": {
     "end_time": "2023-11-01T17:59:51.946858Z",
     "start_time": "2023-11-01T17:59:51.924086Z"
    }
   },
   "id": "2d093cd42412777a"
  },
  {
   "cell_type": "code",
   "execution_count": 132,
   "outputs": [],
   "source": [
    "train[\"At1 (mm)\"].fillna(train[\"At1 (mm)\"].mean(), inplace = True)"
   ],
   "metadata": {
    "collapsed": false,
    "ExecuteTime": {
     "end_time": "2023-11-01T18:01:03.071865Z",
     "start_time": "2023-11-01T18:01:03.024099Z"
    }
   },
   "id": "e1edbbad0ca20554"
  },
  {
   "cell_type": "code",
   "execution_count": 133,
   "outputs": [
    {
     "data": {
      "text/plain": "0"
     },
     "execution_count": 133,
     "metadata": {},
     "output_type": "execute_result"
    }
   ],
   "source": [
    "train[\"At1 (mm)\"].isna().sum()"
   ],
   "metadata": {
    "collapsed": false,
    "ExecuteTime": {
     "end_time": "2023-11-01T18:01:06.605029Z",
     "start_time": "2023-11-01T18:01:06.593029Z"
    }
   },
   "id": "987f4dd0006b8929"
  },
  {
   "cell_type": "markdown",
   "source": [
    "# AT2"
   ],
   "metadata": {
    "collapsed": false
   },
   "id": "646d93db326a300f"
  },
  {
   "cell_type": "code",
   "execution_count": 134,
   "outputs": [],
   "source": [
    "mean_At2_by_Cn = train.groupby('Cn')['At2 (mm)'].transform('mean')"
   ],
   "metadata": {
    "collapsed": false,
    "ExecuteTime": {
     "end_time": "2023-11-01T18:01:37.439031Z",
     "start_time": "2023-11-01T18:01:37.339801Z"
    }
   },
   "id": "c09e523544ab0e2f"
  },
  {
   "cell_type": "code",
   "execution_count": 135,
   "outputs": [],
   "source": [
    "train['At2 (mm)'].fillna(mean_At2_by_Cn, inplace=True)"
   ],
   "metadata": {
    "collapsed": false,
    "ExecuteTime": {
     "end_time": "2023-11-01T18:01:51.854332Z",
     "start_time": "2023-11-01T18:01:51.823913Z"
    }
   },
   "id": "3f61d7043081a8d3"
  },
  {
   "cell_type": "code",
   "execution_count": 136,
   "outputs": [
    {
     "data": {
      "text/plain": "5428"
     },
     "execution_count": 136,
     "metadata": {},
     "output_type": "execute_result"
    }
   ],
   "source": [
    "train[\"At2 (mm)\"].isna().sum()"
   ],
   "metadata": {
    "collapsed": false,
    "ExecuteTime": {
     "end_time": "2023-11-01T18:02:03.671951Z",
     "start_time": "2023-11-01T18:02:03.646872Z"
    }
   },
   "id": "1948cce1ef4a9e92"
  },
  {
   "cell_type": "code",
   "execution_count": 137,
   "outputs": [],
   "source": [
    "train[\"At2 (mm)\"].fillna(train[\"At2 (mm)\"].mean(), inplace = True)"
   ],
   "metadata": {
    "collapsed": false,
    "ExecuteTime": {
     "end_time": "2023-11-01T18:02:08.867892Z",
     "start_time": "2023-11-01T18:02:08.816115Z"
    }
   },
   "id": "d121b66bc61689c4"
  },
  {
   "cell_type": "code",
   "execution_count": 138,
   "outputs": [
    {
     "data": {
      "text/plain": "0"
     },
     "execution_count": 138,
     "metadata": {},
     "output_type": "execute_result"
    }
   ],
   "source": [
    "train[\"At2 (mm)\"].isna().sum()"
   ],
   "metadata": {
    "collapsed": false,
    "ExecuteTime": {
     "end_time": "2023-11-01T18:02:12.319277Z",
     "start_time": "2023-11-01T18:02:12.298512Z"
    }
   },
   "id": "b208f4003da2652c"
  },
  {
   "cell_type": "code",
   "execution_count": 140,
   "outputs": [
    {
     "name": "stdout",
     "output_type": "stream",
     "text": [
      "ID 0.0\n",
      "m (kg) 1.3207162666943489e-05\n",
      "Mt 0.0\n",
      "Ewltp (g/km) 0.0\n",
      "W (mm) 0.001622896148514016\n",
      "At1 (mm) 0.0\n",
      "At2 (mm) 0.0\n",
      "ec (cm3) 0.0\n",
      "ep (KW) 0.0025340583009064474\n",
      "Fuel consumption  0.0\n",
      "Electric range (km) 0.0\n"
     ]
    }
   ],
   "source": [
    "for col in numericals :\n",
    "    print(col, train[col].isna().sum()/train.shape[0])"
   ],
   "metadata": {
    "collapsed": false,
    "ExecuteTime": {
     "end_time": "2023-11-01T18:16:35.321699Z",
     "start_time": "2023-11-01T18:16:35.189458Z"
    }
   },
   "id": "a805426c5a152ac7"
  },
  {
   "cell_type": "markdown",
   "source": [
    "# m "
   ],
   "metadata": {
    "collapsed": false
   },
   "id": "6de3b746234c870c"
  },
  {
   "cell_type": "code",
   "execution_count": 141,
   "outputs": [],
   "source": [
    "mean_m_by_Cn = train.groupby('Cn')['m (kg)'].transform('mean')"
   ],
   "metadata": {
    "collapsed": false,
    "ExecuteTime": {
     "end_time": "2023-11-01T18:19:31.195381Z",
     "start_time": "2023-11-01T18:19:31.107225Z"
    }
   },
   "id": "9417d79dd775eeeb"
  },
  {
   "cell_type": "code",
   "execution_count": 142,
   "outputs": [],
   "source": [
    "train[\"m (kg)\"].fillna(mean_m_by_Cn, inplace = True)"
   ],
   "metadata": {
    "collapsed": false,
    "ExecuteTime": {
     "end_time": "2023-11-01T18:19:44.314732Z",
     "start_time": "2023-11-01T18:19:44.274446Z"
    }
   },
   "id": "78b3e0a8e0f01a14"
  },
  {
   "cell_type": "code",
   "execution_count": 143,
   "outputs": [
    {
     "data": {
      "text/plain": "18"
     },
     "execution_count": 143,
     "metadata": {},
     "output_type": "execute_result"
    }
   ],
   "source": [
    "train[\"m (kg)\"].isna().sum()"
   ],
   "metadata": {
    "collapsed": false,
    "ExecuteTime": {
     "end_time": "2023-11-01T18:19:54.735875Z",
     "start_time": "2023-11-01T18:19:54.682840Z"
    }
   },
   "id": "6dc840c2cbfa9e37"
  },
  {
   "cell_type": "code",
   "execution_count": 144,
   "outputs": [],
   "source": [
    "train[\"m (kg)\"].fillna(train[\"m (kg)\"].mean(), inplace = True)"
   ],
   "metadata": {
    "collapsed": false,
    "ExecuteTime": {
     "end_time": "2023-11-01T18:20:11.502576Z",
     "start_time": "2023-11-01T18:20:11.450508Z"
    }
   },
   "id": "36eb90ceab9cabe9"
  },
  {
   "cell_type": "code",
   "execution_count": 145,
   "outputs": [
    {
     "data": {
      "text/plain": "0"
     },
     "execution_count": 145,
     "metadata": {},
     "output_type": "execute_result"
    }
   ],
   "source": [
    "train[\"m (kg)\"].isna().sum()"
   ],
   "metadata": {
    "collapsed": false,
    "ExecuteTime": {
     "end_time": "2023-11-01T18:20:15.097284Z",
     "start_time": "2023-11-01T18:20:15.078505Z"
    }
   },
   "id": "21fd62dcd8ad9427"
  },
  {
   "cell_type": "markdown",
   "source": [
    "# W"
   ],
   "metadata": {
    "collapsed": false
   },
   "id": "aea379190aa0f699"
  },
  {
   "cell_type": "code",
   "execution_count": 146,
   "outputs": [
    {
     "data": {
      "text/plain": "0"
     },
     "execution_count": 146,
     "metadata": {},
     "output_type": "execute_result"
    }
   ],
   "source": [
    "mean_W_by_Cn = train.groupby('Cn')['W (mm)'].transform('mean')\n",
    "train[\"W (mm)\"].fillna(mean_m_by_Cn, inplace=True)\n",
    "train[\"W (mm)\"].isna().sum()\n",
    "train[\"W (mm)\"].fillna(train[\"W (mm)\"].mean(), inplace=True)\n",
    "train[\"W (mm)\"].isna().sum()"
   ],
   "metadata": {
    "collapsed": false,
    "ExecuteTime": {
     "end_time": "2023-11-01T18:21:26.078075Z",
     "start_time": "2023-11-01T18:21:25.918605Z"
    }
   },
   "id": "175661ae17cab0cf"
  },
  {
   "cell_type": "markdown",
   "source": [
    "# ep"
   ],
   "metadata": {
    "collapsed": false
   },
   "id": "f7afa396182fc41c"
  },
  {
   "cell_type": "code",
   "execution_count": 147,
   "outputs": [
    {
     "data": {
      "text/plain": "0"
     },
     "execution_count": 147,
     "metadata": {},
     "output_type": "execute_result"
    }
   ],
   "source": [
    "mean_W_by_Cn = train.groupby('Cn')[\"ep (KW)\"].transform('mean')\n",
    "train[\"ep (KW)\"].fillna(mean_m_by_Cn, inplace=True)\n",
    "train[\"ep (KW)\"].isna().sum()\n",
    "train[\"ep (KW)\"].fillna(train[\"ep (KW)\"].mean(), inplace=True)\n",
    "train[\"ep (KW)\"].isna().sum()"
   ],
   "metadata": {
    "collapsed": false,
    "ExecuteTime": {
     "end_time": "2023-11-01T18:22:44.191739Z",
     "start_time": "2023-11-01T18:22:44.007581Z"
    }
   },
   "id": "7a574624bf99bb6f"
  },
  {
   "cell_type": "code",
   "execution_count": null,
   "outputs": [],
   "source": [],
   "metadata": {
    "collapsed": false
   },
   "id": "55ae7c623ab2f37f"
  }
 ],
 "metadata": {
  "kernelspec": {
   "display_name": "Python 3",
   "language": "python",
   "name": "python3"
  },
  "language_info": {
   "codemirror_mode": {
    "name": "ipython",
    "version": 2
   },
   "file_extension": ".py",
   "mimetype": "text/x-python",
   "name": "python",
   "nbconvert_exporter": "python",
   "pygments_lexer": "ipython2",
   "version": "2.7.6"
  }
 },
 "nbformat": 4,
 "nbformat_minor": 5
}
