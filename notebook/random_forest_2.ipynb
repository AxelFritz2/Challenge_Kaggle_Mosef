{
 "cells": [
  {
   "cell_type": "code",
   "execution_count": 1,
   "id": "initial_id",
   "metadata": {
    "collapsed": true,
    "ExecuteTime": {
     "end_time": "2023-10-27T18:50:46.658744Z",
     "start_time": "2023-10-27T18:50:44.199158Z"
    }
   },
   "outputs": [],
   "source": [
    "import pandas as pd\n",
    "import matplotlib.pyplot as plt\n",
    "from tqdm import tqdm\n",
    "from sklearn.model_selection import train_test_split\n",
    "from sklearn.ensemble import RandomForestRegressor\n",
    "from sklearn.metrics import mean_absolute_error\n",
    "from sklearn.preprocessing import TargetEncoder\n",
    "from sklearn.preprocessing import LabelEncoder\n",
    "from joblib import dump\n",
    "\n",
    "import sys \n",
    "import os\n",
    "import json\n",
    "sys.path.append(\"../src\")\n",
    "from data_preparation import DataPreparation"
   ]
  },
  {
   "cell_type": "markdown",
   "source": [
    "# Import des données"
   ],
   "metadata": {
    "collapsed": false
   },
   "id": "6cc2c5c0668e68b3"
  },
  {
   "cell_type": "code",
   "execution_count": 2,
   "outputs": [
    {
     "name": "stderr",
     "output_type": "stream",
     "text": [
      "/var/folders/12/33kq22951gn7jfpz3d32v_qc0000gn/T/ipykernel_32725/176984250.py:1: DtypeWarning: Columns (28) have mixed types. Specify dtype option on import or set low_memory=False.\n",
      "  train = pd.read_csv(\"../data/train.csv\")\n",
      "/var/folders/12/33kq22951gn7jfpz3d32v_qc0000gn/T/ipykernel_32725/176984250.py:2: DtypeWarning: Columns (27) have mixed types. Specify dtype option on import or set low_memory=False.\n",
      "  test = pd.read_csv(\"../data/test.csv\")\n"
     ]
    }
   ],
   "source": [
    "train = pd.read_csv(\"../data/train.csv\")\n",
    "test = pd.read_csv(\"../data/test.csv\")"
   ],
   "metadata": {
    "collapsed": false,
    "ExecuteTime": {
     "end_time": "2023-10-27T11:10:37.320018Z",
     "start_time": "2023-10-27T11:10:01.930905Z"
    }
   },
   "id": "867594af876bc965"
  },
  {
   "cell_type": "markdown",
   "source": [
    "# Préparation des données"
   ],
   "metadata": {
    "collapsed": false
   },
   "id": "a74e4cf43c55b2ef"
  },
  {
   "cell_type": "code",
   "execution_count": 3,
   "outputs": [
    {
     "name": "stdout",
     "output_type": "stream",
     "text": [
      "Valeurs manquantes du train supprimées ✅\n",
      "Valeurs manquantes du test supprimées ✅\n",
      "Variables renommées ✅\n",
      "Valeurs manquantes numériques imputées ✅\n",
      "Valeurs manquantes catégorielles imputées ✅\n"
     ]
    }
   ],
   "source": [
    "preprocess = DataPreparation(train, test)\n",
    "train, test = preprocess.prepare_data()"
   ],
   "metadata": {
    "collapsed": false,
    "ExecuteTime": {
     "end_time": "2023-10-27T11:13:33.573394Z",
     "start_time": "2023-10-27T11:10:37.321784Z"
    }
   },
   "id": "8f338bf93557cebe"
  },
  {
   "cell_type": "code",
   "execution_count": 4,
   "outputs": [],
   "source": [
    "train.to_csv(\"../data/train_clean.csv\")\n",
    "test.to_csv(\"../data/test_clean.csv\")"
   ],
   "metadata": {
    "collapsed": false,
    "ExecuteTime": {
     "end_time": "2023-10-27T11:15:13.970861Z",
     "start_time": "2023-10-27T11:13:42.406169Z"
    }
   },
   "id": "4b23f9caa322ac6e"
  },
  {
   "cell_type": "code",
   "execution_count": 2,
   "outputs": [],
   "source": [
    "train = pd.read_csv(\"../data/train_clean.csv\")\n",
    "test = pd.read_csv(\"../data/test_clean.csv\")"
   ],
   "metadata": {
    "collapsed": false,
    "ExecuteTime": {
     "end_time": "2023-10-27T18:51:14.238854Z",
     "start_time": "2023-10-27T18:50:46.653287Z"
    }
   },
   "id": "a6a6275d5a6df0f6"
  },
  {
   "cell_type": "code",
   "execution_count": 6,
   "outputs": [
    {
     "data": {
      "text/plain": "   Unnamed: 0  ID  m_(kg)      Mt  Ewltp_(g/km)  W_(mm)  At1_(mm)  At2_(mm)  \\\n0           0   0  1387.0  1534.0    401.053306  2700.0    1571.0    1576.0   \n1           1   1  1172.0  1337.0    394.684459  2552.0    1500.0    1483.0   \n2           2   2  1204.0  1335.0    398.561951  2552.0    1500.0    1483.0   \n3           3   3  1438.0  1588.0    479.470056  2650.0    1555.0    1563.0   \n4           4   4  1207.0  1350.0    421.854820  2552.0    1500.0    1483.0   \n\n   ec_(cm3)  ep_(KW)  Fuel_consumption_  Electric_range_(km)  \n0     999.0     92.0                5.6                  0.0  \n1     999.0     70.0                5.5                  0.0  \n2     999.0     70.0                5.6                  0.0  \n3    1591.0    150.0                6.8                  0.0  \n4     999.0     81.0                5.9                  0.0  ",
      "text/html": "<div>\n<style scoped>\n    .dataframe tbody tr th:only-of-type {\n        vertical-align: middle;\n    }\n\n    .dataframe tbody tr th {\n        vertical-align: top;\n    }\n\n    .dataframe thead th {\n        text-align: right;\n    }\n</style>\n<table border=\"1\" class=\"dataframe\">\n  <thead>\n    <tr style=\"text-align: right;\">\n      <th></th>\n      <th>Unnamed: 0</th>\n      <th>ID</th>\n      <th>m_(kg)</th>\n      <th>Mt</th>\n      <th>Ewltp_(g/km)</th>\n      <th>W_(mm)</th>\n      <th>At1_(mm)</th>\n      <th>At2_(mm)</th>\n      <th>ec_(cm3)</th>\n      <th>ep_(KW)</th>\n      <th>Fuel_consumption_</th>\n      <th>Electric_range_(km)</th>\n    </tr>\n  </thead>\n  <tbody>\n    <tr>\n      <th>0</th>\n      <td>0</td>\n      <td>0</td>\n      <td>1387.0</td>\n      <td>1534.0</td>\n      <td>401.053306</td>\n      <td>2700.0</td>\n      <td>1571.0</td>\n      <td>1576.0</td>\n      <td>999.0</td>\n      <td>92.0</td>\n      <td>5.6</td>\n      <td>0.0</td>\n    </tr>\n    <tr>\n      <th>1</th>\n      <td>1</td>\n      <td>1</td>\n      <td>1172.0</td>\n      <td>1337.0</td>\n      <td>394.684459</td>\n      <td>2552.0</td>\n      <td>1500.0</td>\n      <td>1483.0</td>\n      <td>999.0</td>\n      <td>70.0</td>\n      <td>5.5</td>\n      <td>0.0</td>\n    </tr>\n    <tr>\n      <th>2</th>\n      <td>2</td>\n      <td>2</td>\n      <td>1204.0</td>\n      <td>1335.0</td>\n      <td>398.561951</td>\n      <td>2552.0</td>\n      <td>1500.0</td>\n      <td>1483.0</td>\n      <td>999.0</td>\n      <td>70.0</td>\n      <td>5.6</td>\n      <td>0.0</td>\n    </tr>\n    <tr>\n      <th>3</th>\n      <td>3</td>\n      <td>3</td>\n      <td>1438.0</td>\n      <td>1588.0</td>\n      <td>479.470056</td>\n      <td>2650.0</td>\n      <td>1555.0</td>\n      <td>1563.0</td>\n      <td>1591.0</td>\n      <td>150.0</td>\n      <td>6.8</td>\n      <td>0.0</td>\n    </tr>\n    <tr>\n      <th>4</th>\n      <td>4</td>\n      <td>4</td>\n      <td>1207.0</td>\n      <td>1350.0</td>\n      <td>421.854820</td>\n      <td>2552.0</td>\n      <td>1500.0</td>\n      <td>1483.0</td>\n      <td>999.0</td>\n      <td>81.0</td>\n      <td>5.9</td>\n      <td>0.0</td>\n    </tr>\n  </tbody>\n</table>\n</div>"
     },
     "execution_count": 6,
     "metadata": {},
     "output_type": "execute_result"
    }
   ],
   "source": [
    "train[train.select_dtypes(exclude=\"object\").columns.to_list()].head()"
   ],
   "metadata": {
    "collapsed": false,
    "ExecuteTime": {
     "end_time": "2023-10-27T18:53:00.619685Z",
     "start_time": "2023-10-27T18:53:00.391824Z"
    }
   },
   "id": "31a5261ae7705737"
  },
  {
   "cell_type": "code",
   "execution_count": 6,
   "outputs": [],
   "source": [
    "train.loc[train['Ewltp_(g/km)'] <= 0, 'Ewltp_(g/km)'] = 0"
   ],
   "metadata": {
    "collapsed": false,
    "ExecuteTime": {
     "end_time": "2023-10-27T11:15:54.278736Z",
     "start_time": "2023-10-27T11:15:54.025625Z"
    }
   },
   "id": "56fd806f3a03ce6b"
  },
  {
   "cell_type": "code",
   "execution_count": 7,
   "outputs": [],
   "source": [
    "var_explicatives = ['VFN', 'Tan', 'T', 'Va', 'Ve', 'Cn', 'Ft', 'Fm', 'Fuel_consumption_', 'Electric_range_(km)']"
   ],
   "metadata": {
    "collapsed": false,
    "ExecuteTime": {
     "end_time": "2023-10-27T11:16:00.100978Z",
     "start_time": "2023-10-27T11:16:00.091135Z"
    }
   },
   "id": "39a5ac5e3768d4bf"
  },
  {
   "cell_type": "code",
   "execution_count": 8,
   "outputs": [],
   "source": [
    "X = train[var_explicatives]\n",
    "test_rf = test[var_explicatives]\n",
    "y = train[\"Ewltp_(g/km)\"]"
   ],
   "metadata": {
    "collapsed": false,
    "ExecuteTime": {
     "end_time": "2023-10-27T11:16:04.789391Z",
     "start_time": "2023-10-27T11:16:04.076146Z"
    }
   },
   "id": "4bc1d4232b82a334"
  },
  {
   "cell_type": "code",
   "execution_count": 11,
   "outputs": [],
   "source": [
    "X_train, X_test, y_train, y_test = train_test_split(X, y, test_size=0.2, random_state=0)"
   ],
   "metadata": {
    "collapsed": false,
    "ExecuteTime": {
     "end_time": "2023-10-27T11:16:30.000803Z",
     "start_time": "2023-10-27T11:16:27.534110Z"
    }
   },
   "id": "24ebfbda4879d6d"
  },
  {
   "cell_type": "code",
   "execution_count": 12,
   "outputs": [
    {
     "name": "stderr",
     "output_type": "stream",
     "text": [
      "/var/folders/12/33kq22951gn7jfpz3d32v_qc0000gn/T/ipykernel_32725/2816646882.py:6: SettingWithCopyWarning: \n",
      "A value is trying to be set on a copy of a slice from a DataFrame.\n",
      "Try using .loc[row_indexer,col_indexer] = value instead\n",
      "\n",
      "See the caveats in the documentation: https://pandas.pydata.org/pandas-docs/stable/user_guide/indexing.html#returning-a-view-versus-a-copy\n",
      "  test_rf[col] = encoder.transform(test_rf[col].values.reshape(-1,1))\n",
      "/var/folders/12/33kq22951gn7jfpz3d32v_qc0000gn/T/ipykernel_32725/2816646882.py:6: SettingWithCopyWarning: \n",
      "A value is trying to be set on a copy of a slice from a DataFrame.\n",
      "Try using .loc[row_indexer,col_indexer] = value instead\n",
      "\n",
      "See the caveats in the documentation: https://pandas.pydata.org/pandas-docs/stable/user_guide/indexing.html#returning-a-view-versus-a-copy\n",
      "  test_rf[col] = encoder.transform(test_rf[col].values.reshape(-1,1))\n",
      "/var/folders/12/33kq22951gn7jfpz3d32v_qc0000gn/T/ipykernel_32725/2816646882.py:6: SettingWithCopyWarning: \n",
      "A value is trying to be set on a copy of a slice from a DataFrame.\n",
      "Try using .loc[row_indexer,col_indexer] = value instead\n",
      "\n",
      "See the caveats in the documentation: https://pandas.pydata.org/pandas-docs/stable/user_guide/indexing.html#returning-a-view-versus-a-copy\n",
      "  test_rf[col] = encoder.transform(test_rf[col].values.reshape(-1,1))\n",
      "/var/folders/12/33kq22951gn7jfpz3d32v_qc0000gn/T/ipykernel_32725/2816646882.py:6: SettingWithCopyWarning: \n",
      "A value is trying to be set on a copy of a slice from a DataFrame.\n",
      "Try using .loc[row_indexer,col_indexer] = value instead\n",
      "\n",
      "See the caveats in the documentation: https://pandas.pydata.org/pandas-docs/stable/user_guide/indexing.html#returning-a-view-versus-a-copy\n",
      "  test_rf[col] = encoder.transform(test_rf[col].values.reshape(-1,1))\n",
      "/var/folders/12/33kq22951gn7jfpz3d32v_qc0000gn/T/ipykernel_32725/2816646882.py:6: SettingWithCopyWarning: \n",
      "A value is trying to be set on a copy of a slice from a DataFrame.\n",
      "Try using .loc[row_indexer,col_indexer] = value instead\n",
      "\n",
      "See the caveats in the documentation: https://pandas.pydata.org/pandas-docs/stable/user_guide/indexing.html#returning-a-view-versus-a-copy\n",
      "  test_rf[col] = encoder.transform(test_rf[col].values.reshape(-1,1))\n",
      "/var/folders/12/33kq22951gn7jfpz3d32v_qc0000gn/T/ipykernel_32725/2816646882.py:6: SettingWithCopyWarning: \n",
      "A value is trying to be set on a copy of a slice from a DataFrame.\n",
      "Try using .loc[row_indexer,col_indexer] = value instead\n",
      "\n",
      "See the caveats in the documentation: https://pandas.pydata.org/pandas-docs/stable/user_guide/indexing.html#returning-a-view-versus-a-copy\n",
      "  test_rf[col] = encoder.transform(test_rf[col].values.reshape(-1,1))\n",
      "/var/folders/12/33kq22951gn7jfpz3d32v_qc0000gn/T/ipykernel_32725/2816646882.py:6: SettingWithCopyWarning: \n",
      "A value is trying to be set on a copy of a slice from a DataFrame.\n",
      "Try using .loc[row_indexer,col_indexer] = value instead\n",
      "\n",
      "See the caveats in the documentation: https://pandas.pydata.org/pandas-docs/stable/user_guide/indexing.html#returning-a-view-versus-a-copy\n",
      "  test_rf[col] = encoder.transform(test_rf[col].values.reshape(-1,1))\n",
      "/var/folders/12/33kq22951gn7jfpz3d32v_qc0000gn/T/ipykernel_32725/2816646882.py:6: SettingWithCopyWarning: \n",
      "A value is trying to be set on a copy of a slice from a DataFrame.\n",
      "Try using .loc[row_indexer,col_indexer] = value instead\n",
      "\n",
      "See the caveats in the documentation: https://pandas.pydata.org/pandas-docs/stable/user_guide/indexing.html#returning-a-view-versus-a-copy\n",
      "  test_rf[col] = encoder.transform(test_rf[col].values.reshape(-1,1))\n"
     ]
    }
   ],
   "source": [
    "encoder = TargetEncoder()\n",
    "cat_col = train[var_explicatives].select_dtypes(include=\"object\")\n",
    "for col in cat_col:\n",
    "    X_train[col] = encoder.fit_transform(X_train[col].values.reshape(-1,1),y_train)\n",
    "    X_test[col] = encoder.transform(X_test[col].values.reshape(-1,1))\n",
    "    test_rf[col] = encoder.transform(test_rf[col].values.reshape(-1,1))"
   ],
   "metadata": {
    "collapsed": false,
    "ExecuteTime": {
     "end_time": "2023-10-27T11:17:07.859299Z",
     "start_time": "2023-10-27T11:16:36.563865Z"
    }
   },
   "id": "3d045d8525f24aa1"
  },
  {
   "cell_type": "markdown",
   "source": [
    "# Modélisation Random Forest"
   ],
   "metadata": {
    "collapsed": false
   },
   "id": "a112c13593c9d6c5"
  },
  {
   "cell_type": "code",
   "execution_count": 13,
   "outputs": [],
   "source": [
    "N_ESTIMATORS = 100\n",
    "MAX_DEPTH = 20\n",
    "N_ITERATION = 100"
   ],
   "metadata": {
    "collapsed": false,
    "ExecuteTime": {
     "end_time": "2023-10-27T11:17:07.859759Z",
     "start_time": "2023-10-27T11:17:07.856446Z"
    }
   },
   "id": "27d004b55ca62292"
  },
  {
   "cell_type": "code",
   "execution_count": 14,
   "outputs": [
    {
     "name": "stdout",
     "output_type": "stream",
     "text": [
      "fit en cours... ⏳\n",
      "fit terminé ✅\n"
     ]
    }
   ],
   "source": [
    "rf_model = RandomForestRegressor(n_estimators=N_ESTIMATORS, max_depth=MAX_DEPTH, random_state=0)\n",
    "\n",
    "print(\"fit en cours... ⏳\")\n",
    "rf_model.fit(X_train, y_train)\n",
    "print(\"fit terminé ✅\")"
   ],
   "metadata": {
    "collapsed": false,
    "ExecuteTime": {
     "end_time": "2023-10-27T13:10:43.703882Z",
     "start_time": "2023-10-27T11:17:14.609Z"
    }
   },
   "id": "41ed3d48fa7df2fe"
  },
  {
   "cell_type": "code",
   "execution_count": 15,
   "outputs": [
    {
     "name": "stdout",
     "output_type": "stream",
     "text": [
      "predict en cours... ⏳\n",
      "predict terminé ✅\n"
     ]
    }
   ],
   "source": [
    "print(\"predict en cours... ⏳\")\n",
    "y_pred = rf_model.predict(X_test)\n",
    "print(\"predict terminé ✅\")"
   ],
   "metadata": {
    "collapsed": false,
    "ExecuteTime": {
     "end_time": "2023-10-27T13:20:18.289885Z",
     "start_time": "2023-10-27T13:19:43.826936Z"
    }
   },
   "id": "d3384cf0ee69b8ca"
  },
  {
   "cell_type": "code",
   "execution_count": 16,
   "outputs": [
    {
     "name": "stdout",
     "output_type": "stream",
     "text": [
      "MAE de la random forest : 2.9940168319148577\n"
     ]
    }
   ],
   "source": [
    "mae_rf = mean_absolute_error(y_test, y_pred)\n",
    "print(f\"MAE de la random forest : {mae_rf}\")"
   ],
   "metadata": {
    "collapsed": false,
    "ExecuteTime": {
     "end_time": "2023-10-27T13:20:18.313099Z",
     "start_time": "2023-10-27T13:20:18.288447Z"
    }
   },
   "id": "7134b4bc6e4f1bd7"
  },
  {
   "cell_type": "markdown",
   "source": [
    "# Sauvegarde des Artefacts"
   ],
   "metadata": {
    "collapsed": false
   },
   "id": "518ef747eb5c6708"
  },
  {
   "cell_type": "code",
   "execution_count": 17,
   "outputs": [],
   "source": [
    "parameters_dictionnary = {\"Model\" : \"RandomForest\", \n",
    "                          \"N_ESTIMATORS\" : N_ESTIMATORS, \n",
    "                          'MAX_DEPTH' : MAX_DEPTH,\n",
    "                          \"N_ITERATION\" : N_ITERATION,\n",
    "                          \"MAE\" : mae_rf}"
   ],
   "metadata": {
    "collapsed": false,
    "ExecuteTime": {
     "end_time": "2023-10-27T13:20:41.032975Z",
     "start_time": "2023-10-27T13:20:41.026964Z"
    }
   },
   "id": "ed8d9e280bb2221c"
  },
  {
   "cell_type": "code",
   "execution_count": 18,
   "outputs": [
    {
     "data": {
      "text/plain": "['../artefacts/RF_2.99/RF.joblib']"
     },
     "execution_count": 18,
     "metadata": {},
     "output_type": "execute_result"
    }
   ],
   "source": [
    "if not os.path.exists(\"../artefacts/\"):\n",
    "    os.makedirs(\"../artefacts/\")\n",
    "\n",
    "if not os.path.exists(f\"../artefacts/RF_{round(mae_rf,2)}\"):\n",
    "    os.makedirs(f\"../artefacts/RF_{round(mae_rf,2)}\")\n",
    "\n",
    "with open(f\"../artefacts/RF_{round(mae_rf,2)}/parameters\", \"w\") as json_file:\n",
    "    json.dump(parameters_dictionnary, json_file)\n",
    "\n",
    "dump(rf_model, f\"../artefacts/RF_{round(mae_rf,2)}/RF.joblib\")"
   ],
   "metadata": {
    "collapsed": false,
    "ExecuteTime": {
     "end_time": "2023-10-27T13:20:46.041121Z",
     "start_time": "2023-10-27T13:20:45.103049Z"
    }
   },
   "id": "fbf2b4c0e99f7605"
  },
  {
   "cell_type": "markdown",
   "source": [
    "# Submission"
   ],
   "metadata": {
    "collapsed": false
   },
   "id": "8c3275fa0edc0d5f"
  },
  {
   "cell_type": "code",
   "execution_count": 20,
   "outputs": [],
   "source": [
    "prediction = rf_model.predict(test_rf)\n",
    "\n",
    "submission = test[[\"ID\"]].copy()  \n",
    "submission[\"Ewltp (g/km)\"] = prediction\n",
    "submission.to_csv(\"../data/sample_submission5.csv\", index=False)"
   ],
   "metadata": {
    "collapsed": false,
    "ExecuteTime": {
     "end_time": "2023-10-27T13:21:45.841159Z",
     "start_time": "2023-10-27T13:21:19.428405Z"
    }
   },
   "id": "226faebfcc343d8c"
  },
  {
   "cell_type": "code",
   "execution_count": null,
   "outputs": [],
   "source": [],
   "metadata": {
    "collapsed": false
   },
   "id": "e09ecce6b142c8a3"
  }
 ],
 "metadata": {
  "kernelspec": {
   "display_name": "Python 3",
   "language": "python",
   "name": "python3"
  },
  "language_info": {
   "codemirror_mode": {
    "name": "ipython",
    "version": 2
   },
   "file_extension": ".py",
   "mimetype": "text/x-python",
   "name": "python",
   "nbconvert_exporter": "python",
   "pygments_lexer": "ipython2",
   "version": "2.7.6"
  }
 },
 "nbformat": 4,
 "nbformat_minor": 5
}
