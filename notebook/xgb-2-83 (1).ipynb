{
 "cells": [
  {
   "cell_type": "code",
   "execution_count": null,
   "outputs": [],
   "source": [],
   "metadata": {
    "collapsed": false
   },
   "id": "3f4779e5a3b76c6c"
  },
  {
   "cell_type": "code",
   "execution_count": 1,
   "id": "03a24fb2",
   "metadata": {
    "_cell_guid": "b1076dfc-b9ad-4769-8c92-a6c4dae69d19",
    "_uuid": "8f2839f25d086af736a60e9eeb907d3b93b6e0e5",
    "execution": {
     "iopub.execute_input": "2023-12-22T09:07:35.153249Z",
     "iopub.status.busy": "2023-12-22T09:07:35.152490Z",
     "iopub.status.idle": "2023-12-22T09:07:37.056323Z",
     "shell.execute_reply": "2023-12-22T09:07:37.055564Z"
    },
    "papermill": {
     "duration": 1.920058,
     "end_time": "2023-12-22T09:07:37.058796",
     "exception": false,
     "start_time": "2023-12-22T09:07:35.138738",
     "status": "completed"
    },
    "tags": []
   },
   "outputs": [
    {
     "name": "stderr",
     "output_type": "stream",
     "text": [
      "/opt/conda/lib/python3.10/site-packages/scipy/__init__.py:146: UserWarning: A NumPy version >=1.16.5 and <1.23.0 is required for this version of SciPy (detected version 1.24.3\n",
      "  warnings.warn(f\"A NumPy version >={np_minversion} and <{np_maxversion}\"\n"
     ]
    }
   ],
   "source": [
    "import pandas as pd\n",
    "from sklearn.model_selection import train_test_split"
   ]
  },
  {
   "cell_type": "code",
   "execution_count": 2,
   "id": "3a6adffc",
   "metadata": {
    "execution": {
     "iopub.execute_input": "2023-12-22T09:07:37.084009Z",
     "iopub.status.busy": "2023-12-22T09:07:37.083589Z",
     "iopub.status.idle": "2023-12-22T09:07:44.347489Z",
     "shell.execute_reply": "2023-12-22T09:07:44.346486Z"
    },
    "papermill": {
     "duration": 7.278876,
     "end_time": "2023-12-22T09:07:44.349914",
     "exception": false,
     "start_time": "2023-12-22T09:07:37.071038",
     "status": "completed"
    },
    "tags": []
   },
   "outputs": [],
   "source": [
    "train = pd.read_parquet(\"/kaggle/input/clean-datas/clean_train.gzip\")"
   ]
  },
  {
   "cell_type": "code",
   "execution_count": 3,
   "id": "824e0b96",
   "metadata": {
    "execution": {
     "iopub.execute_input": "2023-12-22T09:07:44.375047Z",
     "iopub.status.busy": "2023-12-22T09:07:44.374748Z",
     "iopub.status.idle": "2023-12-22T09:07:46.016211Z",
     "shell.execute_reply": "2023-12-22T09:07:46.015129Z"
    },
    "papermill": {
     "duration": 1.656641,
     "end_time": "2023-12-22T09:07:46.018977",
     "exception": false,
     "start_time": "2023-12-22T09:07:44.362336",
     "status": "completed"
    },
    "tags": []
   },
   "outputs": [],
   "source": [
    "clean_test = pd.read_parquet(\"/kaggle/input/clean-datas/clean_test.gzip\")"
   ]
  },
  {
   "cell_type": "code",
   "execution_count": 4,
   "id": "9ac1bcda",
   "metadata": {
    "execution": {
     "iopub.execute_input": "2023-12-22T09:07:46.046987Z",
     "iopub.status.busy": "2023-12-22T09:07:46.046638Z",
     "iopub.status.idle": "2023-12-22T09:07:46.051211Z",
     "shell.execute_reply": "2023-12-22T09:07:46.050071Z"
    },
    "papermill": {
     "duration": 0.02083,
     "end_time": "2023-12-22T09:07:46.053391",
     "exception": false,
     "start_time": "2023-12-22T09:07:46.032561",
     "status": "completed"
    },
    "tags": []
   },
   "outputs": [],
   "source": [
    "df_test = clean_test"
   ]
  },
  {
   "cell_type": "markdown",
   "id": "e6b482fe",
   "metadata": {
    "papermill": {
     "duration": 0.012802,
     "end_time": "2023-12-22T09:07:46.078561",
     "exception": false,
     "start_time": "2023-12-22T09:07:46.065759",
     "status": "completed"
    },
    "tags": []
   },
   "source": [
    "  # ENCODING"
   ]
  },
  {
   "cell_type": "markdown",
   "id": "00a657a1",
   "metadata": {
    "papermill": {
     "duration": 0.012019,
     "end_time": "2023-12-22T09:07:46.102939",
     "exception": false,
     "start_time": "2023-12-22T09:07:46.090920",
     "status": "completed"
    },
    "tags": []
   },
   "source": [
    "## OHE"
   ]
  },
  {
   "cell_type": "code",
   "execution_count": 5,
   "id": "b49652a1",
   "metadata": {
    "execution": {
     "iopub.execute_input": "2023-12-22T09:07:46.128825Z",
     "iopub.status.busy": "2023-12-22T09:07:46.128497Z",
     "iopub.status.idle": "2023-12-22T09:07:47.358894Z",
     "shell.execute_reply": "2023-12-22T09:07:47.357789Z"
    },
    "papermill": {
     "duration": 1.245764,
     "end_time": "2023-12-22T09:07:47.361018",
     "exception": false,
     "start_time": "2023-12-22T09:07:46.115254",
     "status": "completed"
    },
    "tags": []
   },
   "outputs": [],
   "source": [
    "categorical_columns = train.select_dtypes(include=['object'])\n",
    "categorical_columns = categorical_columns.columns"
   ]
  },
  {
   "cell_type": "code",
   "execution_count": 6,
   "id": "a22172f9",
   "metadata": {
    "execution": {
     "iopub.execute_input": "2023-12-22T09:07:47.385850Z",
     "iopub.status.busy": "2023-12-22T09:07:47.385301Z",
     "iopub.status.idle": "2023-12-22T09:08:07.732794Z",
     "shell.execute_reply": "2023-12-22T09:08:07.731781Z"
    },
    "papermill": {
     "duration": 20.36235,
     "end_time": "2023-12-22T09:08:07.735174",
     "exception": false,
     "start_time": "2023-12-22T09:07:47.372824",
     "status": "completed"
    },
    "tags": []
   },
   "outputs": [],
   "source": [
    "categorical_columns = ['Country', 'VFN', 'Mh', 'Man', 'Tan', 'T', 'Va', 'Ve', 'Mk', 'Cn', 'Ct',\n",
    "       'Cr', 'Ft', 'Fm']\n",
    "selected_categorical_columns_train = [col for col in categorical_columns if train[col].nunique() < 30]\n",
    "df_one_hot_train = pd.get_dummies(train[selected_categorical_columns_train],dtype=float, drop_first=True)\n",
    "clean_train = pd.concat([train, df_one_hot_train], axis=1)"
   ]
  },
  {
   "cell_type": "code",
   "execution_count": 7,
   "id": "ae4a9c7a",
   "metadata": {
    "execution": {
     "iopub.execute_input": "2023-12-22T09:08:07.760054Z",
     "iopub.status.busy": "2023-12-22T09:08:07.759733Z",
     "iopub.status.idle": "2023-12-22T09:08:12.604767Z",
     "shell.execute_reply": "2023-12-22T09:08:12.603920Z"
    },
    "papermill": {
     "duration": 4.86003,
     "end_time": "2023-12-22T09:08:12.607258",
     "exception": false,
     "start_time": "2023-12-22T09:08:07.747228",
     "status": "completed"
    },
    "tags": []
   },
   "outputs": [],
   "source": [
    "categorical_columns = ['Country', 'VFN', 'Mh', 'Man', 'Tan', 'T', 'Va', 'Ve', 'Mk', 'Cn', 'Ct',\n",
    "       'Cr', 'Ft', 'Fm']\n",
    "selected_categorical_columns_test = [col for col in categorical_columns if clean_test[col].nunique() < 30]\n",
    "df_one_hot_test = pd.get_dummies(clean_test[selected_categorical_columns_test],dtype=float, drop_first=True)\n",
    "clean_test = pd.concat([clean_test, df_one_hot_test], axis=1)"
   ]
  },
  {
   "cell_type": "markdown",
   "id": "5d3ff8f1",
   "metadata": {
    "papermill": {
     "duration": 0.011283,
     "end_time": "2023-12-22T09:08:12.631495",
     "exception": false,
     "start_time": "2023-12-22T09:08:12.620212",
     "status": "completed"
    },
    "tags": []
   },
   "source": [
    "## Impact encoding"
   ]
  },
  {
   "cell_type": "code",
   "execution_count": 8,
   "id": "71504c9c",
   "metadata": {
    "execution": {
     "iopub.execute_input": "2023-12-22T09:08:12.656967Z",
     "iopub.status.busy": "2023-12-22T09:08:12.656637Z",
     "iopub.status.idle": "2023-12-22T09:08:13.059671Z",
     "shell.execute_reply": "2023-12-22T09:08:13.058391Z"
    },
    "papermill": {
     "duration": 0.417979,
     "end_time": "2023-12-22T09:08:13.061300",
     "exception": true,
     "start_time": "2023-12-22T09:08:12.643321",
     "status": "failed"
    },
    "tags": []
   },
   "outputs": [
    {
     "ename": "NameError",
     "evalue": "name 'train_cat' is not defined",
     "output_type": "error",
     "traceback": [
      "\u001B[0;31m---------------------------------------------------------------------------\u001B[0m",
      "\u001B[0;31mNameError\u001B[0m                                 Traceback (most recent call last)",
      "Cell \u001B[0;32mIn[8], line 3\u001B[0m\n\u001B[1;32m      1\u001B[0m impact_dicts \u001B[38;5;241m=\u001B[39m {}\n\u001B[0;32m----> 3\u001B[0m \u001B[38;5;28;01mfor\u001B[39;00m categorical_feature \u001B[38;5;129;01min\u001B[39;00m \u001B[43mtrain_cat\u001B[49m\u001B[38;5;241m.\u001B[39mcolumns:\n\u001B[1;32m      4\u001B[0m     \u001B[38;5;66;03m# Calculer la moyenne de la valeur cible pour chaque catégorie\u001B[39;00m\n\u001B[1;32m      5\u001B[0m     category_means \u001B[38;5;241m=\u001B[39m clean_train\u001B[38;5;241m.\u001B[39mgroupby(categorical_feature)[\u001B[38;5;124m'\u001B[39m\u001B[38;5;124mEwltp_(g/km)\u001B[39m\u001B[38;5;124m'\u001B[39m]\u001B[38;5;241m.\u001B[39mmean()\n\u001B[1;32m      7\u001B[0m     \u001B[38;5;66;03m# Calculer la différence de la moyenne de la valeur cible entre chaque catégorie et la moyenne globale\u001B[39;00m\n",
      "\u001B[0;31mNameError\u001B[0m: name 'train_cat' is not defined"
     ]
    }
   ],
   "source": [
    "impact_dicts = {}\n",
    "\n",
    "for categorical_feature in train_cat.columns:\n",
    "    # Calculer la moyenne de la valeur cible pour chaque catégorie\n",
    "    category_means = clean_train.groupby(categorical_feature)['Ewltp_(g/km)'].mean()\n",
    "\n",
    "    # Calculer la différence de la moyenne de la valeur cible entre chaque catégorie et la moyenne globale\n",
    "    category_impacts = category_means - category_means.mean()\n",
    "\n",
    "    # Stocker l'impact de la catégorie dans un dictionnaire\n",
    "    impact_dicts[categorical_feature] = category_impacts.to_dict()\n",
    "\n",
    "    # Encoder la caractéristique catégorielle dans le jeu de données d'entraînement\n",
    "    clean_train['encoded_' + categorical_feature] = clean_train[categorical_feature].map(impact_dicts[categorical_feature])\n",
    "\n",
    "    # Supprimer la caractéristique catégorielle originale du jeu de données d'entraînement\n",
    "    # clean_train.drop(columns=categorical_feature, inplace=True)\n"
   ]
  },
  {
   "cell_type": "code",
   "execution_count": null,
   "id": "c77d4d4a",
   "metadata": {
    "execution": {
     "iopub.execute_input": "2023-12-21T17:07:58.305783Z",
     "iopub.status.busy": "2023-12-21T17:07:58.304855Z",
     "iopub.status.idle": "2023-12-21T17:07:58.773893Z",
     "shell.execute_reply": "2023-12-21T17:07:58.773032Z",
     "shell.execute_reply.started": "2023-12-21T17:07:58.305744Z"
    },
    "papermill": {
     "duration": null,
     "end_time": null,
     "exception": null,
     "start_time": null,
     "status": "pending"
    },
    "tags": []
   },
   "outputs": [],
   "source": [
    "clean_train.drop(columns = ['Country', 'VFN', 'Mh', 'Man', 'Tan', 'T', 'Va', 'Ve', 'Mk', 'Cn', 'Ct',\n",
    "       'Cr', 'Fm', \"Ft\"], inplace = True )\n",
    "#clean_test.drop(columns = ['Country', 'VFN', 'Mh', 'Man', 'Tan', 'T', 'Va', 'Ve', 'Mk', 'Cn', 'Ct',\n",
    "#       'Cr', 'Fm', \"Ft\"], inplace = True )\n"
   ]
  },
  {
   "cell_type": "code",
   "execution_count": null,
   "id": "980535fe",
   "metadata": {
    "execution": {
     "iopub.execute_input": "2023-12-21T15:07:38.248335Z",
     "iopub.status.busy": "2023-12-21T15:07:38.248042Z",
     "iopub.status.idle": "2023-12-21T15:07:52.049176Z",
     "shell.execute_reply": "2023-12-21T15:07:52.048248Z",
     "shell.execute_reply.started": "2023-12-21T15:07:38.248309Z"
    },
    "papermill": {
     "duration": null,
     "end_time": null,
     "exception": null,
     "start_time": null,
     "status": "pending"
    },
    "tags": []
   },
   "outputs": [],
   "source": [
    "\n",
    "# Appliquer les mêmes encodages aux données de test\n",
    "for categorical_feature in train_cat.columns:\n",
    "    # Si une valeur dans le jeu de données de test n'a pas été vue dans le jeu de données d'entraînement,\n",
    "    # on peut décider de la remplacer par 0 ou la moyenne globale des impacts calculés sur le jeu de données d'entraînement\n",
    "    default_impact = impact_dicts[categorical_feature].get(\"Default\", 0)\n",
    "\n",
    "    # Encoder la caractéristique catégorielle dans le jeu de données de test\n",
    "    clean_test['encoded_' + categorical_feature] = clean_test[categorical_feature].apply(lambda x: impact_dicts[categorical_feature].get(x, default_impact))\n",
    "\n",
    "    # Supprimer la caractéristique catégorielle originale du jeu de données de test\n",
    "    clean_test.drop(columns=categorical_feature, inplace=True)\n"
   ]
  },
  {
   "cell_type": "code",
   "execution_count": null,
   "id": "02a74da9",
   "metadata": {
    "execution": {
     "iopub.execute_input": "2023-12-21T20:44:55.403568Z",
     "iopub.status.busy": "2023-12-21T20:44:55.403193Z",
     "iopub.status.idle": "2023-12-21T20:44:55.412838Z",
     "shell.execute_reply": "2023-12-21T20:44:55.411892Z",
     "shell.execute_reply.started": "2023-12-21T20:44:55.403539Z"
    },
    "papermill": {
     "duration": null,
     "end_time": null,
     "exception": null,
     "start_time": null,
     "status": "pending"
    },
    "tags": []
   },
   "outputs": [],
   "source": [
    "clean_train.columns"
   ]
  },
  {
   "cell_type": "markdown",
   "id": "9baa2005",
   "metadata": {
    "papermill": {
     "duration": null,
     "end_time": null,
     "exception": null,
     "start_time": null,
     "status": "pending"
    },
    "tags": []
   },
   "source": [
    "## CountEncoder"
   ]
  },
  {
   "cell_type": "code",
   "execution_count": null,
   "id": "89469dc5",
   "metadata": {
    "execution": {
     "iopub.execute_input": "2023-12-21T20:50:30.442598Z",
     "iopub.status.busy": "2023-12-21T20:50:30.442203Z",
     "iopub.status.idle": "2023-12-21T20:53:34.234147Z",
     "shell.execute_reply": "2023-12-21T20:53:34.233121Z",
     "shell.execute_reply.started": "2023-12-21T20:50:30.442567Z"
    },
    "papermill": {
     "duration": null,
     "end_time": null,
     "exception": null,
     "start_time": null,
     "status": "pending"
    },
    "tags": []
   },
   "outputs": [],
   "source": [
    "from category_encoders import CountEncoder\n",
    "\n",
    "categorical_columns_with_values = clean_train.select_dtypes(include=['object']).columns[clean_train.select_dtypes(include=['object']).nunique() > 1].tolist()\n",
    "\n",
    "# Initialisez l'encodeur Count\n",
    "count_encoder = CountEncoder(cols=categorical_columns_with_values)\n",
    "\n",
    "# Appliquez Count Encoding sur le jeu de données d'entraînement\n",
    "clean_train_encoded = count_encoder.fit_transform(clean_train)"
   ]
  },
  {
   "cell_type": "code",
   "execution_count": null,
   "id": "2d0cad86",
   "metadata": {
    "execution": {
     "iopub.execute_input": "2023-12-21T20:39:51.342906Z",
     "iopub.status.busy": "2023-12-21T20:39:51.342608Z",
     "iopub.status.idle": "2023-12-21T20:40:34.523527Z",
     "shell.execute_reply": "2023-12-21T20:40:34.522533Z",
     "shell.execute_reply.started": "2023-12-21T20:39:51.342881Z"
    },
    "papermill": {
     "duration": null,
     "end_time": null,
     "exception": null,
     "start_time": null,
     "status": "pending"
    },
    "tags": []
   },
   "outputs": [],
   "source": [
    "categorical_columns_with_values = clean_test.select_dtypes(include=['object']).columns[clean_test.select_dtypes(include=['object']).nunique() > 1].tolist()\n",
    "\n",
    "# Initialisez l'encodeur Count\n",
    "count_encoder = CountEncoder(cols=categorical_columns_with_values)\n",
    "\n",
    "# Appliquez Count Encoding sur le jeu de données d'entraînement\n",
    "clean_test = count_encoder.fit_transform(clean_test)"
   ]
  },
  {
   "cell_type": "code",
   "execution_count": null,
   "id": "3a5639e8",
   "metadata": {
    "execution": {
     "iopub.execute_input": "2023-12-21T20:54:49.442163Z",
     "iopub.status.busy": "2023-12-21T20:54:49.441740Z",
     "iopub.status.idle": "2023-12-21T20:54:49.482892Z",
     "shell.execute_reply": "2023-12-21T20:54:49.481939Z",
     "shell.execute_reply.started": "2023-12-21T20:54:49.442131Z"
    },
    "papermill": {
     "duration": null,
     "end_time": null,
     "exception": null,
     "start_time": null,
     "status": "pending"
    },
    "tags": []
   },
   "outputs": [],
   "source": [
    "clean_train[\"rapport_poids_puissance\"] = clean_train[\"m_(kg)\"]/clean_train[\"ec_(cm3)\"]\n",
    "#clean_test[\"rapport_poids_puissance\"] = clean_test[\"m_(kg)\"]/clean_test[\"ec_(cm3)\"]\n"
   ]
  },
  {
   "cell_type": "code",
   "execution_count": null,
   "id": "f941647d",
   "metadata": {
    "execution": {
     "iopub.execute_input": "2023-12-21T20:55:37.235409Z",
     "iopub.status.busy": "2023-12-21T20:55:37.235007Z",
     "iopub.status.idle": "2023-12-21T20:55:37.273965Z",
     "shell.execute_reply": "2023-12-21T20:55:37.272811Z",
     "shell.execute_reply.started": "2023-12-21T20:55:37.235376Z"
    },
    "papermill": {
     "duration": null,
     "end_time": null,
     "exception": null,
     "start_time": null,
     "status": "pending"
    },
    "tags": []
   },
   "outputs": [],
   "source": [
    "clean_train.head()"
   ]
  },
  {
   "cell_type": "code",
   "execution_count": null,
   "id": "98a2d1d1",
   "metadata": {
    "execution": {
     "iopub.execute_input": "2023-12-21T20:56:32.094752Z",
     "iopub.status.busy": "2023-12-21T20:56:32.094386Z",
     "iopub.status.idle": "2023-12-21T20:56:32.977847Z",
     "shell.execute_reply": "2023-12-21T20:56:32.976836Z",
     "shell.execute_reply.started": "2023-12-21T20:56:32.094723Z"
    },
    "papermill": {
     "duration": null,
     "end_time": null,
     "exception": null,
     "start_time": null,
     "status": "pending"
    },
    "tags": []
   },
   "outputs": [],
   "source": [
    "categorical_columns = train.select_dtypes(include=['object'])\n",
    "categorical_columns.columns"
   ]
  },
  {
   "cell_type": "code",
   "execution_count": null,
   "id": "e613cf9a",
   "metadata": {
    "execution": {
     "iopub.execute_input": "2023-12-21T20:58:39.949197Z",
     "iopub.status.busy": "2023-12-21T20:58:39.948557Z",
     "iopub.status.idle": "2023-12-21T20:58:41.244409Z",
     "shell.execute_reply": "2023-12-21T20:58:41.243380Z",
     "shell.execute_reply.started": "2023-12-21T20:58:39.949158Z"
    },
    "papermill": {
     "duration": null,
     "end_time": null,
     "exception": null,
     "start_time": null,
     "status": "pending"
    },
    "tags": []
   },
   "outputs": [],
   "source": [
    "clean_train=clean_train.drop(['Country', 'VFN', 'Mh', 'Man', 'Tan', 'T', 'Va', 'Ve', 'Mk', 'Cn', 'Ct',\n",
    "       'Cr', 'Ft', 'Fm'], axis=1)"
   ]
  },
  {
   "cell_type": "code",
   "execution_count": null,
   "id": "82be90ac",
   "metadata": {
    "execution": {
     "iopub.execute_input": "2023-12-21T20:58:42.667560Z",
     "iopub.status.busy": "2023-12-21T20:58:42.666929Z",
     "iopub.status.idle": "2023-12-21T20:58:42.701515Z",
     "shell.execute_reply": "2023-12-21T20:58:42.700562Z",
     "shell.execute_reply.started": "2023-12-21T20:58:42.667526Z"
    },
    "papermill": {
     "duration": null,
     "end_time": null,
     "exception": null,
     "start_time": null,
     "status": "pending"
    },
    "tags": []
   },
   "outputs": [],
   "source": [
    "clean_train.head()"
   ]
  },
  {
   "cell_type": "markdown",
   "id": "53bcc8fa",
   "metadata": {
    "papermill": {
     "duration": null,
     "end_time": null,
     "exception": null,
     "start_time": null,
     "status": "pending"
    },
    "tags": []
   },
   "source": [
    "# Selection des variables"
   ]
  },
  {
   "cell_type": "markdown",
   "id": "99e3c594",
   "metadata": {
    "papermill": {
     "duration": null,
     "end_time": null,
     "exception": null,
     "start_time": null,
     "status": "pending"
    },
    "tags": []
   },
   "source": [
    "### Correlation"
   ]
  },
  {
   "cell_type": "code",
   "execution_count": null,
   "id": "9ca00810",
   "metadata": {
    "execution": {
     "iopub.execute_input": "2023-12-21T20:58:55.079672Z",
     "iopub.status.busy": "2023-12-21T20:58:55.079200Z",
     "iopub.status.idle": "2023-12-21T21:00:04.985612Z",
     "shell.execute_reply": "2023-12-21T21:00:04.984804Z",
     "shell.execute_reply.started": "2023-12-21T20:58:55.079641Z"
    },
    "papermill": {
     "duration": null,
     "end_time": null,
     "exception": null,
     "start_time": null,
     "status": "pending"
    },
    "tags": []
   },
   "outputs": [],
   "source": [
    "correlations = clean_train.corr()[\"Ewltp_(g/km)\"]\n",
    "positive_correlations = correlations[(abs(correlations) > 0.1)].index.tolist()\n",
    "clean_train_filtered = clean_train[positive_correlations]"
   ]
  },
  {
   "cell_type": "code",
   "execution_count": null,
   "id": "13f120e1",
   "metadata": {
    "execution": {
     "iopub.status.busy": "2023-12-21T17:31:34.547951Z",
     "iopub.status.idle": "2023-12-21T17:31:34.548289Z",
     "shell.execute_reply": "2023-12-21T17:31:34.548144Z",
     "shell.execute_reply.started": "2023-12-21T17:31:34.548129Z"
    },
    "papermill": {
     "duration": null,
     "end_time": null,
     "exception": null,
     "start_time": null,
     "status": "pending"
    },
    "tags": []
   },
   "outputs": [],
   "source": [
    "correlations"
   ]
  },
  {
   "cell_type": "code",
   "execution_count": null,
   "id": "d5d797f6",
   "metadata": {
    "execution": {
     "iopub.execute_input": "2023-12-21T21:00:23.753231Z",
     "iopub.status.busy": "2023-12-21T21:00:23.752554Z",
     "iopub.status.idle": "2023-12-21T21:00:23.757479Z",
     "shell.execute_reply": "2023-12-21T21:00:23.756453Z",
     "shell.execute_reply.started": "2023-12-21T21:00:23.753193Z"
    },
    "papermill": {
     "duration": null,
     "end_time": null,
     "exception": null,
     "start_time": null,
     "status": "pending"
    },
    "tags": []
   },
   "outputs": [],
   "source": [
    "positive_correlations.remove(\"Ewltp_(g/km)\")"
   ]
  },
  {
   "cell_type": "code",
   "execution_count": null,
   "id": "0b4a94ca",
   "metadata": {
    "execution": {
     "iopub.execute_input": "2023-12-21T21:00:25.564634Z",
     "iopub.status.busy": "2023-12-21T21:00:25.563900Z",
     "iopub.status.idle": "2023-12-21T21:00:25.569600Z",
     "shell.execute_reply": "2023-12-21T21:00:25.568594Z",
     "shell.execute_reply.started": "2023-12-21T21:00:25.564602Z"
    },
    "papermill": {
     "duration": null,
     "end_time": null,
     "exception": null,
     "start_time": null,
     "status": "pending"
    },
    "tags": []
   },
   "outputs": [],
   "source": [
    "print(positive_correlations)"
   ]
  },
  {
   "cell_type": "markdown",
   "id": "9e280295",
   "metadata": {
    "papermill": {
     "duration": null,
     "end_time": null,
     "exception": null,
     "start_time": null,
     "status": "pending"
    },
    "tags": []
   },
   "source": [
    "### Variance Threshold"
   ]
  },
  {
   "cell_type": "code",
   "execution_count": null,
   "id": "727f9403",
   "metadata": {
    "execution": {
     "iopub.execute_input": "2023-12-21T17:08:28.315739Z",
     "iopub.status.busy": "2023-12-21T17:08:28.314860Z",
     "iopub.status.idle": "2023-12-21T17:08:28.322139Z",
     "shell.execute_reply": "2023-12-21T17:08:28.321383Z",
     "shell.execute_reply.started": "2023-12-21T17:08:28.315702Z"
    },
    "papermill": {
     "duration": null,
     "end_time": null,
     "exception": null,
     "start_time": null,
     "status": "pending"
    },
    "tags": []
   },
   "outputs": [],
   "source": [
    "clean_train.columns"
   ]
  },
  {
   "cell_type": "code",
   "execution_count": null,
   "id": "a953d292",
   "metadata": {
    "execution": {
     "iopub.execute_input": "2023-12-21T17:31:03.147093Z",
     "iopub.status.busy": "2023-12-21T17:31:03.146278Z",
     "iopub.status.idle": "2023-12-21T17:31:06.505994Z",
     "shell.execute_reply": "2023-12-21T17:31:06.504978Z",
     "shell.execute_reply.started": "2023-12-21T17:31:03.147052Z"
    },
    "papermill": {
     "duration": null,
     "end_time": null,
     "exception": null,
     "start_time": null,
     "status": "pending"
    },
    "tags": []
   },
   "outputs": [],
   "source": [
    "from sklearn.feature_selection import VarianceThreshold\n",
    "\n",
    "explicatives = clean_train[['ID', 'm_(kg)', 'Mt', 'W_(mm)', 'At1_(mm)', 'At2_(mm)', 'ec_(cm3)',\n",
    "       'ep_(KW)', 'Fuel_consumption_',\n",
    "       'Ft_DIESEL/ELECTRIC', 'Ft_E85', 'Ft_ELECTRIC', 'Ft_HYDROGEN', 'Ft_LPG',\n",
    "       'Ft_NG', 'Ft_NG-BIOMETHANE', 'Ft_PETROL', 'Ft_PETROL/ELECTRIC',\n",
    "       'Ft_UNKNOWN', 'Ct_M1G', 'Ct_N1', 'Ct_N1G', 'Ct_N2',\n",
    "       'rapport_poids_puissance']]\n",
    "\n",
    "thresholder = VarianceThreshold(threshold=0.1) \n",
    "\n",
    "X_selected = thresholder.fit_transform(explicatives)\n",
    "\n",
    "feature_mask = thresholder.get_support()\n",
    "\n",
    "features_selected = explicatives.columns[feature_mask]\n",
    "\n",
    "print(features_selected)\n"
   ]
  },
  {
   "cell_type": "markdown",
   "id": "7b7310fc",
   "metadata": {
    "papermill": {
     "duration": null,
     "end_time": null,
     "exception": null,
     "start_time": null,
     "status": "pending"
    },
    "tags": []
   },
   "source": [
    "# Modele"
   ]
  },
  {
   "cell_type": "code",
   "execution_count": null,
   "id": "39995983",
   "metadata": {
    "execution": {
     "iopub.execute_input": "2023-12-21T12:50:19.840218Z",
     "iopub.status.busy": "2023-12-21T12:50:19.839939Z",
     "iopub.status.idle": "2023-12-21T12:50:19.846731Z",
     "shell.execute_reply": "2023-12-21T12:50:19.845737Z",
     "shell.execute_reply.started": "2023-12-21T12:50:19.840194Z"
    },
    "papermill": {
     "duration": null,
     "end_time": null,
     "exception": null,
     "start_time": null,
     "status": "pending"
    },
    "tags": []
   },
   "outputs": [],
   "source": [
    "clean_train.columns"
   ]
  },
  {
   "cell_type": "code",
   "execution_count": null,
   "id": "4d96c9b2",
   "metadata": {
    "execution": {
     "iopub.execute_input": "2023-12-21T21:00:57.455542Z",
     "iopub.status.busy": "2023-12-21T21:00:57.454697Z",
     "iopub.status.idle": "2023-12-21T21:00:59.728385Z",
     "shell.execute_reply": "2023-12-21T21:00:59.727270Z",
     "shell.execute_reply.started": "2023-12-21T21:00:57.455508Z"
    },
    "papermill": {
     "duration": null,
     "end_time": null,
     "exception": null,
     "start_time": null,
     "status": "pending"
    },
    "tags": []
   },
   "outputs": [],
   "source": [
    "X = clean_train[['m_(kg)', 'Mt', 'Fuel_consumption_', 'Electric_range_(km)',\n",
    "                 'Country_NO', 'Country_PL', 'Country_SE', 'Ct_M1G', 'Cr_M1G',\n",
    "                 'Ft_ELECTRIC', 'Ft_PETROL', 'Ft_PETROL/ELECTRIC', 'Fm_E',\n",
    "                 'Fm_H', 'Fm_M', 'Fm_P']]\n",
    "y = train[\"Ewltp_(g/km)\"]\n",
    "X_train, X_test, y_train, y_test = train_test_split(X, y, test_size=0.2, random_state=762)"
   ]
  },
  {
   "cell_type": "markdown",
   "id": "75078d28",
   "metadata": {
    "papermill": {
     "duration": null,
     "end_time": null,
     "exception": null,
     "start_time": null,
     "status": "pending"
    },
    "tags": []
   },
   "source": [
    "quach"
   ]
  },
  {
   "cell_type": "code",
   "execution_count": null,
   "id": "d7fdcdd3",
   "metadata": {
    "execution": {
     "iopub.execute_input": "2023-12-21T21:03:11.990822Z",
     "iopub.status.busy": "2023-12-21T21:03:11.990423Z"
    },
    "papermill": {
     "duration": null,
     "end_time": null,
     "exception": null,
     "start_time": null,
     "status": "pending"
    },
    "tags": []
   },
   "outputs": [],
   "source": [
    "from sklearn.model_selection import GridSearchCV\n",
    "import xgboost as xgb\n",
    "from sklearn.metrics import make_scorer, mean_absolute_error\n",
    "\n",
    "xgb_model = xgb.XGBRegressor(\n",
    "    n_estimators=3000,\n",
    "    max_depth=35,  \n",
    "    learning_rate=0.005, \n",
    "    colsample_bytree=0.80,  \n",
    "    gamma=10,  \n",
    "    reg_alpha=0.8,\n",
    "    reg_lambda=0.1,\n",
    "    objective='reg:squarederror',  # de base reg:squarederror\n",
    "    # eval_metric=\"mae\",\n",
    "    tree_method='gpu_hist', gpu_id=1, verbosity = 1)\n",
    "\n",
    "\n",
    "xgb_model.fit(X_train, y_train)\n",
    "\n",
    "y_pred = xgb_model.predict(X_test)\n",
    "\n",
    "mae_best_xgb = mean_absolute_error(y_test, y_pred)\n",
    "print(f\"MAE du meilleur modèle XGBoost : {mae_best_xgb}\")\n"
   ]
  },
  {
   "cell_type": "code",
   "execution_count": null,
   "id": "939e1d3c",
   "metadata": {
    "execution": {
     "iopub.execute_input": "2023-12-21T21:01:12.775155Z",
     "iopub.status.busy": "2023-12-21T21:01:12.774678Z",
     "iopub.status.idle": "2023-12-21T21:02:45.149224Z",
     "shell.execute_reply": "2023-12-21T21:02:45.148255Z",
     "shell.execute_reply.started": "2023-12-21T21:01:12.775116Z"
    },
    "papermill": {
     "duration": null,
     "end_time": null,
     "exception": null,
     "start_time": null,
     "status": "pending"
    },
    "tags": []
   },
   "outputs": [],
   "source": [
    "from sklearn.model_selection import GridSearchCV\n",
    "import xgboost as xgb\n",
    "from sklearn.metrics import make_scorer, mean_absolute_error\n",
    "\n",
    "# Définir les hyperparamètres à rechercher\n",
    "param_grid = {\n",
    "    'n_estimators': [500],\n",
    "    'max_depth': [40],\n",
    "    'learning_rate': [0.2],\n",
    "    'gamma':[6],\n",
    "    # \"sampling_method\": [\"uniform\",\"gradient_based\"],\n",
    "    \"lambda\": [3]\n",
    "    # \"booster\": [\"dart\",\"gbtree\"]\n",
    "}\n",
    "\n",
    "# Créer le modèle XGBRegressor\n",
    "xgb_model = xgb.XGBRegressor(verbosity=0, tree_method='gpu_hist',\n",
    "                             gpu_id=0, random_state=1, eval_metric=\"mae\",\n",
    "                            objective=\"reg:absoluteerror\")\n",
    "\n",
    "# Définir la métrique à optimiser\n",
    "scorer = make_scorer(mean_absolute_error, greater_is_better=False)\n",
    "\n",
    "# Créer l'objet GridSearchCV\n",
    "grid_search = GridSearchCV(estimator=xgb_model, param_grid=param_grid, scoring=scorer, cv=2)\n",
    "\n",
    "# Effectuer la recherche sur grille (fit sur les données d'entraînement)\n",
    "grid_search.fit(X_train, y_train)\n",
    "\n",
    "# Afficher les meilleurs paramètres trouvés\n",
    "print(\"Meilleurs paramètres:\", grid_search.best_params_)\n",
    "\n",
    "best_xgb_model = grid_search.best_estimator_\n",
    "y_pred = best_xgb_model.predict(X_test)\n",
    "\n",
    "mae_best_xgb = mean_absolute_error(y_test, y_pred)\n",
    "print(f\"MAE du meilleur modèle XGBoost : {mae_best_xgb}\")\n"
   ]
  },
  {
   "cell_type": "markdown",
   "id": "e6df5765",
   "metadata": {
    "papermill": {
     "duration": null,
     "end_time": null,
     "exception": null,
     "start_time": null,
     "status": "pending"
    },
    "tags": []
   },
   "source": [
    "# sauvegarde des artefacts"
   ]
  },
  {
   "cell_type": "code",
   "execution_count": null,
   "id": "5c9bf8c3",
   "metadata": {
    "execution": {
     "iopub.execute_input": "2023-12-20T11:07:32.558815Z",
     "iopub.status.busy": "2023-12-20T11:07:32.558441Z",
     "iopub.status.idle": "2023-12-20T11:07:32.563595Z",
     "shell.execute_reply": "2023-12-20T11:07:32.562601Z",
     "shell.execute_reply.started": "2023-12-20T11:07:32.558785Z"
    },
    "papermill": {
     "duration": null,
     "end_time": null,
     "exception": null,
     "start_time": null,
     "status": "pending"
    },
    "tags": []
   },
   "outputs": [],
   "source": [
    "parameters_dictionnary = {\"Model\" : \"XGBoost\", \n",
    "                          \"LAMBDA\":3,\n",
    "                          \"N_ESTIMATORS\" : 200, \n",
    "                          'MAX_DEPTH' : 20,\n",
    "                          'LEARNING_RATE' : 0.1,\n",
    "                          \"MAE\" : mae_best_xgb}"
   ]
  },
  {
   "cell_type": "code",
   "execution_count": null,
   "id": "ec2be36c",
   "metadata": {
    "execution": {
     "iopub.execute_input": "2023-12-20T11:07:34.651022Z",
     "iopub.status.busy": "2023-12-20T11:07:34.650654Z",
     "iopub.status.idle": "2023-12-20T11:07:35.429692Z",
     "shell.execute_reply": "2023-12-20T11:07:35.428838Z",
     "shell.execute_reply.started": "2023-12-20T11:07:34.650996Z"
    },
    "papermill": {
     "duration": null,
     "end_time": null,
     "exception": null,
     "start_time": null,
     "status": "pending"
    },
    "tags": []
   },
   "outputs": [],
   "source": [
    "import os\n",
    "import json\n",
    "from joblib import dump\n",
    "\n",
    "\n",
    "\n",
    "dump(best_xgb_model, f\"xgboost_{round(mae_best_xgb,2)}.joblib\")"
   ]
  },
  {
   "cell_type": "markdown",
   "id": "c9430a8c",
   "metadata": {
    "papermill": {
     "duration": null,
     "end_time": null,
     "exception": null,
     "start_time": null,
     "status": "pending"
    },
    "tags": []
   },
   "source": [
    "# submission"
   ]
  },
  {
   "cell_type": "code",
   "execution_count": null,
   "id": "e77cadd7",
   "metadata": {
    "execution": {
     "iopub.execute_input": "2023-12-21T12:00:59.665846Z",
     "iopub.status.busy": "2023-12-21T12:00:59.664751Z",
     "iopub.status.idle": "2023-12-21T12:00:59.818635Z",
     "shell.execute_reply": "2023-12-21T12:00:59.817671Z",
     "shell.execute_reply.started": "2023-12-21T12:00:59.665808Z"
    },
    "papermill": {
     "duration": null,
     "end_time": null,
     "exception": null,
     "start_time": null,
     "status": "pending"
    },
    "tags": []
   },
   "outputs": [],
   "source": [
    "vars_exp = ['m_(kg)', 'Mt', 'W_(mm)', 'At1_(mm)', 'At2_(mm)', 'ec_(cm3)',\n",
    "       'ep_(KW)', 'Fuel_consumption_', 'Electric_range_(km)', 'Ft_PETROL',\n",
    "       'encoded_VFN', 'encoded_Mh', 'encoded_Man', 'encoded_Tan', 'encoded_T',\n",
    "       'encoded_Va', 'encoded_Ve', 'encoded_Mk', 'encoded_Cn', 'encoded_Ct',\n",
    "       'encoded_Cr', 'encoded_Fm', 'rapport_poids_puissance']\n",
    "test_rf = clean_test[vars_exp]\n"
   ]
  },
  {
   "cell_type": "code",
   "execution_count": null,
   "id": "4992cb64",
   "metadata": {
    "execution": {
     "iopub.execute_input": "2023-12-21T12:01:00.980332Z",
     "iopub.status.busy": "2023-12-21T12:01:00.979332Z",
     "iopub.status.idle": "2023-12-21T12:01:00.988340Z",
     "shell.execute_reply": "2023-12-21T12:01:00.987139Z",
     "shell.execute_reply.started": "2023-12-21T12:01:00.980289Z"
    },
    "papermill": {
     "duration": null,
     "end_time": null,
     "exception": null,
     "start_time": null,
     "status": "pending"
    },
    "tags": []
   },
   "outputs": [],
   "source": [
    "test_rf.columns"
   ]
  },
  {
   "cell_type": "code",
   "execution_count": null,
   "id": "68c71de3",
   "metadata": {
    "execution": {
     "iopub.execute_input": "2023-12-21T12:01:21.604551Z",
     "iopub.status.busy": "2023-12-21T12:01:21.603464Z",
     "iopub.status.idle": "2023-12-21T12:01:30.167396Z",
     "shell.execute_reply": "2023-12-21T12:01:30.166481Z",
     "shell.execute_reply.started": "2023-12-21T12:01:21.604501Z"
    },
    "papermill": {
     "duration": null,
     "end_time": null,
     "exception": null,
     "start_time": null,
     "status": "pending"
    },
    "tags": []
   },
   "outputs": [],
   "source": [
    "prediction = xgb_model.predict(test_rf)\n",
    "\n",
    "submission = df_test[[\"ID\"]].copy()  \n",
    "submission[\"Ewltp (g/km)\"] = prediction\n"
   ]
  },
  {
   "cell_type": "code",
   "execution_count": null,
   "id": "3846b42d",
   "metadata": {
    "execution": {
     "iopub.execute_input": "2023-12-21T12:01:33.637331Z",
     "iopub.status.busy": "2023-12-21T12:01:33.636624Z",
     "iopub.status.idle": "2023-12-21T12:01:33.658352Z",
     "shell.execute_reply": "2023-12-21T12:01:33.657436Z",
     "shell.execute_reply.started": "2023-12-21T12:01:33.637298Z"
    },
    "papermill": {
     "duration": null,
     "end_time": null,
     "exception": null,
     "start_time": null,
     "status": "pending"
    },
    "tags": []
   },
   "outputs": [],
   "source": [
    "submission"
   ]
  },
  {
   "cell_type": "code",
   "execution_count": null,
   "id": "3e633db0",
   "metadata": {
    "execution": {
     "iopub.execute_input": "2023-12-21T12:01:34.979271Z",
     "iopub.status.busy": "2023-12-21T12:01:34.978847Z",
     "iopub.status.idle": "2023-12-21T12:01:40.925311Z",
     "shell.execute_reply": "2023-12-21T12:01:40.924271Z",
     "shell.execute_reply.started": "2023-12-21T12:01:34.979237Z"
    },
    "papermill": {
     "duration": null,
     "end_time": null,
     "exception": null,
     "start_time": null,
     "status": "pending"
    },
    "tags": []
   },
   "outputs": [],
   "source": [
    "submission.to_csv(\"xgb_2_79.csv\", index=False)"
   ]
  }
 ],
 "metadata": {
  "kaggle": {
   "accelerator": "nvidiaTeslaT4",
   "dataSources": [
    {
     "datasetId": 3963958,
     "sourceId": 6900790,
     "sourceType": "datasetVersion"
    },
    {
     "datasetId": 3964343,
     "sourceId": 6901497,
     "sourceType": "datasetVersion"
    },
    {
     "datasetId": 4186560,
     "sourceId": 7230670,
     "sourceType": "datasetVersion"
    },
    {
     "datasetId": 4199325,
     "sourceId": 7248392,
     "sourceType": "datasetVersion"
    },
    {
     "datasetId": 4199357,
     "sourceId": 7248432,
     "sourceType": "datasetVersion"
    }
   ],
   "dockerImageVersionId": 30580,
   "isGpuEnabled": true,
   "isInternetEnabled": true,
   "language": "python",
   "sourceType": "notebook"
  },
  "kernelspec": {
   "display_name": "Python 3",
   "language": "python",
   "name": "python3"
  },
  "language_info": {
   "codemirror_mode": {
    "name": "ipython",
    "version": 3
   },
   "file_extension": ".py",
   "mimetype": "text/x-python",
   "name": "python",
   "nbconvert_exporter": "python",
   "pygments_lexer": "ipython3",
   "version": "3.10.12"
  },
  "papermill": {
   "default_parameters": {},
   "duration": 42.699752,
   "end_time": "2023-12-22T09:08:14.494335",
   "environment_variables": {},
   "exception": true,
   "input_path": "__notebook__.ipynb",
   "output_path": "__notebook__.ipynb",
   "parameters": {},
   "start_time": "2023-12-22T09:07:31.794583",
   "version": "2.4.0"
  }
 },
 "nbformat": 4,
 "nbformat_minor": 5
}
