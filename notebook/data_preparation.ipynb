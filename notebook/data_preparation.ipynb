{
 "cells": [
  {
   "cell_type": "code",
   "execution_count": 1,
   "id": "initial_id",
   "metadata": {
    "collapsed": true,
    "ExecuteTime": {
     "end_time": "2023-10-24T08:13:40.155658Z",
     "start_time": "2023-10-24T08:13:39.002918Z"
    }
   },
   "outputs": [],
   "source": [
    "import pandas as pd\n",
    "import  sys \n",
    "sys.path.append(\"../src/\")\n",
    "import data_preparation as dp\n",
    "import matplotlib.pyplot as plt"
   ]
  },
  {
   "cell_type": "code",
   "execution_count": 2,
   "outputs": [
    {
     "name": "stderr",
     "output_type": "stream",
     "text": [
      "/var/folders/12/33kq22951gn7jfpz3d32v_qc0000gn/T/ipykernel_7138/176984250.py:1: DtypeWarning: Columns (28) have mixed types. Specify dtype option on import or set low_memory=False.\n",
      "  train = pd.read_csv(\"../data/train.csv\")\n",
      "/var/folders/12/33kq22951gn7jfpz3d32v_qc0000gn/T/ipykernel_7138/176984250.py:2: DtypeWarning: Columns (27) have mixed types. Specify dtype option on import or set low_memory=False.\n",
      "  test = pd.read_csv(\"../data/test.csv\")\n"
     ]
    }
   ],
   "source": [
    "train = pd.read_csv(\"../data/train.csv\")\n",
    "test = pd.read_csv(\"../data/test.csv\")"
   ],
   "metadata": {
    "collapsed": false,
    "ExecuteTime": {
     "end_time": "2023-10-24T08:14:14.924842Z",
     "start_time": "2023-10-24T08:13:40.157494Z"
    }
   },
   "id": "bf83eded41bc726d"
  },
  {
   "cell_type": "code",
   "execution_count": 3,
   "outputs": [],
   "source": [
    "preprocess = dp.DataPreparation(train, test)"
   ],
   "metadata": {
    "collapsed": false,
    "ExecuteTime": {
     "end_time": "2023-10-24T08:14:17.344469Z",
     "start_time": "2023-10-24T08:14:14.925715Z"
    }
   },
   "id": "a4c60bfa244d9de3"
  },
  {
   "cell_type": "code",
   "execution_count": 4,
   "outputs": [
    {
     "name": "stdout",
     "output_type": "stream",
     "text": [
      "Valeurs manquantes du train supprimées ✅\n",
      "Valeurs manquantes du test supprimées ✅\n",
      "Outliers traités ✅\n",
      "Valeurs manquantes numériques imputées ✅\n",
      "Valeurs manquantes catégorielles imputées ✅\n"
     ]
    }
   ],
   "source": [
    "train_clean, test_clean = preprocess.prepare_data()"
   ],
   "metadata": {
    "collapsed": false,
    "ExecuteTime": {
     "end_time": "2023-10-24T08:17:29.119286Z",
     "start_time": "2023-10-24T08:14:17.346708Z"
    }
   },
   "id": "df57d003133079d0"
  },
  {
   "cell_type": "code",
   "execution_count": 6,
   "outputs": [
    {
     "data": {
      "text/plain": "0"
     },
     "execution_count": 6,
     "metadata": {},
     "output_type": "execute_result"
    }
   ],
   "source": [
    "test_clean.isna().sum().sum()"
   ],
   "metadata": {
    "collapsed": false,
    "ExecuteTime": {
     "end_time": "2023-10-24T08:18:01.727209Z",
     "start_time": "2023-10-24T08:18:00.972254Z"
    }
   },
   "id": "abae4aadb914e074"
  }
 ],
 "metadata": {
  "kernelspec": {
   "display_name": "Python 3",
   "language": "python",
   "name": "python3"
  },
  "language_info": {
   "codemirror_mode": {
    "name": "ipython",
    "version": 2
   },
   "file_extension": ".py",
   "mimetype": "text/x-python",
   "name": "python",
   "nbconvert_exporter": "python",
   "pygments_lexer": "ipython2",
   "version": "2.7.6"
  }
 },
 "nbformat": 4,
 "nbformat_minor": 5
}
