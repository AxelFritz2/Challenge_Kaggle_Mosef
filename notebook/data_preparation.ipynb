{
 "cells": [
  {
   "cell_type": "code",
   "execution_count": 1,
   "id": "initial_id",
   "metadata": {
    "collapsed": true,
    "ExecuteTime": {
     "end_time": "2023-10-24T08:13:40.155658Z",
     "start_time": "2023-10-24T08:13:39.002918Z"
    }
   },
   "outputs": [],
   "source": [
    "import pandas as pd\n",
    "import  sys \n",
    "sys.path.append(\"../src/\")\n",
    "import data_preparation as dp\n",
    "import matplotlib.pyplot as plt"
   ]
  },
  {
   "cell_type": "code",
   "execution_count": 2,
   "outputs": [
    {
     "name": "stderr",
     "output_type": "stream",
     "text": [
      "/var/folders/12/33kq22951gn7jfpz3d32v_qc0000gn/T/ipykernel_7138/176984250.py:1: DtypeWarning: Columns (28) have mixed types. Specify dtype option on import or set low_memory=False.\n",
      "  train = pd.read_csv(\"../data/train.csv\")\n",
      "/var/folders/12/33kq22951gn7jfpz3d32v_qc0000gn/T/ipykernel_7138/176984250.py:2: DtypeWarning: Columns (27) have mixed types. Specify dtype option on import or set low_memory=False.\n",
      "  test = pd.read_csv(\"../data/test.csv\")\n"
     ]
    }
   ],
   "source": [
    "train = pd.read_csv(\"../data/train.csv\")\n",
    "test = pd.read_csv(\"../data/test.csv\")"
   ],
   "metadata": {
    "collapsed": false,
    "ExecuteTime": {
     "end_time": "2023-10-24T08:14:14.924842Z",
     "start_time": "2023-10-24T08:13:40.157494Z"
    }
   },
   "id": "bf83eded41bc726d"
  },
  {
   "cell_type": "code",
   "execution_count": 3,
   "outputs": [],
   "source": [
    "preprocess = dp.DataPreparation(train, test)"
   ],
   "metadata": {
    "collapsed": false,
    "ExecuteTime": {
     "end_time": "2023-10-24T08:14:17.344469Z",
     "start_time": "2023-10-24T08:14:14.925715Z"
    }
   },
   "id": "a4c60bfa244d9de3"
  },
  {
   "cell_type": "code",
   "execution_count": 4,
   "outputs": [
    {
     "name": "stdout",
     "output_type": "stream",
     "text": [
      "Valeurs manquantes du train supprimées ✅\n",
      "Valeurs manquantes du test supprimées ✅\n",
      "Outliers traités ✅\n",
      "Valeurs manquantes numériques imputées ✅\n",
      "Valeurs manquantes catégorielles imputées ✅\n"
     ]
    }
   ],
   "source": [
    "train_clean, test_clean = preprocess.prepare_data()"
   ],
   "metadata": {
    "collapsed": false,
    "ExecuteTime": {
     "end_time": "2023-10-24T08:17:29.119286Z",
     "start_time": "2023-10-24T08:14:17.346708Z"
    }
   },
   "id": "df57d003133079d0"
  },
  {
   "cell_type": "code",
   "execution_count": 6,
   "outputs": [
    {
     "data": {
      "text/plain": "0"
     },
     "execution_count": 6,
     "metadata": {},
     "output_type": "execute_result"
    }
   ],
   "source": [
    "test_clean.isna().sum().sum()"
   ],
   "metadata": {
    "collapsed": false,
    "ExecuteTime": {
     "end_time": "2023-10-24T08:18:01.727209Z",
     "start_time": "2023-10-24T08:18:00.972254Z"
    }
   },
   "id": "abae4aadb914e074"
  },
  {
   "cell_type": "code",
   "execution_count": 8,
   "outputs": [],
   "source": [
    "train_clean.to_csv(\"../data/train_clean.csv\")\n",
    "test_clean.to_csv(\"../data/test_clean.csv\")"
   ],
   "metadata": {
    "collapsed": false,
    "ExecuteTime": {
     "end_time": "2023-10-24T13:23:29.631220Z",
     "start_time": "2023-10-24T13:22:24.358540Z"
    }
   },
   "id": "75890086761498a3"
  },
  {
   "cell_type": "code",
   "execution_count": 37,
   "outputs": [],
   "source": [
    "gbtrain = train_clean.groupby(['T']).apply(lambda a: a[:])"
   ],
   "metadata": {
    "collapsed": false,
    "ExecuteTime": {
     "end_time": "2023-10-24T13:37:19.973764Z",
     "start_time": "2023-10-24T13:37:14.200351Z"
    }
   },
   "id": "60264efe3f5835d6"
  },
  {
   "cell_type": "code",
   "execution_count": 39,
   "outputs": [
    {
     "data": {
      "text/plain": "0    3008\nName: Cn, dtype: object"
     },
     "execution_count": 39,
     "metadata": {},
     "output_type": "execute_result"
    }
   ],
   "source": [
    "gbtrain[gbtrain['T']=='M']['Cn'].mode()"
   ],
   "metadata": {
    "collapsed": false,
    "ExecuteTime": {
     "end_time": "2023-10-24T13:38:08.099506Z",
     "start_time": "2023-10-24T13:38:08.065607Z"
    }
   },
   "id": "e4dd883bbef8dde6"
  },
  {
   "cell_type": "code",
   "execution_count": 42,
   "outputs": [
    {
     "data": {
      "text/plain": "Cn\nFENGON 5             53\nFENGON5               5\nDFSK MOTOR CO LTD     1\nName: count, dtype: int64"
     },
     "execution_count": 42,
     "metadata": {},
     "output_type": "execute_result"
    }
   ],
   "source": [
    "gbtrain[gbtrain['T']=='DXK6471AS3H'][\"Cn\"].value_counts()"
   ],
   "metadata": {
    "collapsed": false,
    "ExecuteTime": {
     "end_time": "2023-10-24T13:39:45.887766Z",
     "start_time": "2023-10-24T13:39:45.879755Z"
    }
   },
   "id": "2f65b76a6a1e2734"
  },
  {
   "cell_type": "code",
   "execution_count": null,
   "outputs": [],
   "source": [],
   "metadata": {
    "collapsed": false
   },
   "id": "82975191743a89a5"
  },
  {
   "cell_type": "code",
   "execution_count": 46,
   "outputs": [
    {
     "data": {
      "text/plain": "             Mk                         Mp\n5         SKODA                 VOLKSWAGEN\n8         SKODA                 VOLKSWAGEN\n10        SKODA                 VOLKSWAGEN\n18        SKODA                 VOLKSWAGEN\n19        SKODA                 VOLKSWAGEN\n...         ...                        ...\n7571643    AUDI                 VOLKSWAGEN\n7571644    AUDI                 VOLKSWAGEN\n7571645    AUDI                 VOLKSWAGEN\n7571646    AUDI                 VOLKSWAGEN\n7571647  NISSAN  RENAULT-NISSAN-MITSUBISHI\n\n[5675979 rows x 2 columns]",
      "text/html": "<div>\n<style scoped>\n    .dataframe tbody tr th:only-of-type {\n        vertical-align: middle;\n    }\n\n    .dataframe tbody tr th {\n        vertical-align: top;\n    }\n\n    .dataframe thead th {\n        text-align: right;\n    }\n</style>\n<table border=\"1\" class=\"dataframe\">\n  <thead>\n    <tr style=\"text-align: right;\">\n      <th></th>\n      <th>Mk</th>\n      <th>Mp</th>\n    </tr>\n  </thead>\n  <tbody>\n    <tr>\n      <th>5</th>\n      <td>SKODA</td>\n      <td>VOLKSWAGEN</td>\n    </tr>\n    <tr>\n      <th>8</th>\n      <td>SKODA</td>\n      <td>VOLKSWAGEN</td>\n    </tr>\n    <tr>\n      <th>10</th>\n      <td>SKODA</td>\n      <td>VOLKSWAGEN</td>\n    </tr>\n    <tr>\n      <th>18</th>\n      <td>SKODA</td>\n      <td>VOLKSWAGEN</td>\n    </tr>\n    <tr>\n      <th>19</th>\n      <td>SKODA</td>\n      <td>VOLKSWAGEN</td>\n    </tr>\n    <tr>\n      <th>...</th>\n      <td>...</td>\n      <td>...</td>\n    </tr>\n    <tr>\n      <th>7571643</th>\n      <td>AUDI</td>\n      <td>VOLKSWAGEN</td>\n    </tr>\n    <tr>\n      <th>7571644</th>\n      <td>AUDI</td>\n      <td>VOLKSWAGEN</td>\n    </tr>\n    <tr>\n      <th>7571645</th>\n      <td>AUDI</td>\n      <td>VOLKSWAGEN</td>\n    </tr>\n    <tr>\n      <th>7571646</th>\n      <td>AUDI</td>\n      <td>VOLKSWAGEN</td>\n    </tr>\n    <tr>\n      <th>7571647</th>\n      <td>NISSAN</td>\n      <td>RENAULT-NISSAN-MITSUBISHI</td>\n    </tr>\n  </tbody>\n</table>\n<p>5675979 rows × 2 columns</p>\n</div>"
     },
     "execution_count": 46,
     "metadata": {},
     "output_type": "execute_result"
    }
   ],
   "source": [
    "train_clean[train_clean[\"Mk\"]!=train_clean[\"Mp\"]][[\"Mk\", \"Mp\"]]"
   ],
   "metadata": {
    "collapsed": false,
    "ExecuteTime": {
     "end_time": "2023-10-24T13:43:36.887989Z",
     "start_time": "2023-10-24T13:43:35.454059Z"
    }
   },
   "id": "c2a77d7eb0f4bd8e"
  },
  {
   "cell_type": "code",
   "execution_count": null,
   "outputs": [],
   "source": [],
   "metadata": {
    "collapsed": false
   },
   "id": "d090bd949a6ea08c"
  }
 ],
 "metadata": {
  "kernelspec": {
   "display_name": "Python 3",
   "language": "python",
   "name": "python3"
  },
  "language_info": {
   "codemirror_mode": {
    "name": "ipython",
    "version": 2
   },
   "file_extension": ".py",
   "mimetype": "text/x-python",
   "name": "python",
   "nbconvert_exporter": "python",
   "pygments_lexer": "ipython2",
   "version": "2.7.6"
  }
 },
 "nbformat": 4,
 "nbformat_minor": 5
}
