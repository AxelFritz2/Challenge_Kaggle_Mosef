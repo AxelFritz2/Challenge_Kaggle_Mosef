{
 "cells": [
  {
   "cell_type": "code",
   "execution_count": 2,
   "id": "initial_id",
   "metadata": {
    "collapsed": true,
    "ExecuteTime": {
     "end_time": "2023-11-01T18:58:07.156247Z",
     "start_time": "2023-11-01T18:58:05.859184Z"
    }
   },
   "outputs": [],
   "source": [
    "import pandas as pd\n",
    "import  sys \n",
    "sys.path.append(\"../src/\")\n",
    "import data_preparation as dp\n",
    "import matplotlib.pyplot as plt"
   ]
  },
  {
   "cell_type": "code",
   "execution_count": 3,
   "outputs": [
    {
     "name": "stderr",
     "output_type": "stream",
     "text": [
      "/var/folders/12/33kq22951gn7jfpz3d32v_qc0000gn/T/ipykernel_22391/176984250.py:1: DtypeWarning: Columns (28) have mixed types. Specify dtype option on import or set low_memory=False.\n",
      "  train = pd.read_csv(\"../data/train.csv\")\n",
      "/var/folders/12/33kq22951gn7jfpz3d32v_qc0000gn/T/ipykernel_22391/176984250.py:2: DtypeWarning: Columns (27) have mixed types. Specify dtype option on import or set low_memory=False.\n",
      "  test = pd.read_csv(\"../data/test.csv\")\n"
     ]
    }
   ],
   "source": [
    "train = pd.read_csv(\"../data/train.csv\")\n",
    "test = pd.read_csv(\"../data/test.csv\")"
   ],
   "metadata": {
    "collapsed": false,
    "ExecuteTime": {
     "end_time": "2023-11-01T18:58:44.800741Z",
     "start_time": "2023-11-01T18:58:07.158641Z"
    }
   },
   "id": "bf83eded41bc726d"
  },
  {
   "cell_type": "code",
   "execution_count": 4,
   "outputs": [],
   "source": [
    "preprocess = dp.DataPreparation(train, test)"
   ],
   "metadata": {
    "collapsed": false,
    "ExecuteTime": {
     "end_time": "2023-11-01T18:58:47.727209Z",
     "start_time": "2023-11-01T18:58:44.802155Z"
    }
   },
   "id": "a4c60bfa244d9de3"
  },
  {
   "cell_type": "code",
   "execution_count": 5,
   "outputs": [
    {
     "name": "stdout",
     "output_type": "stream",
     "text": [
      "Valeurs manquantes du train supprimées ✅\n",
      "Valeurs manquantes du test supprimées ✅\n",
      "Variables renommées ✅\n",
      "Valeurs manquantes numériques imputées ✅\n",
      "Valeurs manquantes catégorielles imputées ✅\n"
     ]
    }
   ],
   "source": [
    "train_clean, test_clean = preprocess.prepare_data()"
   ],
   "metadata": {
    "collapsed": false,
    "ExecuteTime": {
     "end_time": "2023-11-01T19:00:24.709464Z",
     "start_time": "2023-11-01T18:58:47.729177Z"
    }
   },
   "id": "df57d003133079d0"
  },
  {
   "cell_type": "code",
   "execution_count": 6,
   "outputs": [
    {
     "data": {
      "text/plain": "0"
     },
     "execution_count": 6,
     "metadata": {},
     "output_type": "execute_result"
    }
   ],
   "source": [
    "train_clean.isna().sum().sum()"
   ],
   "metadata": {
    "collapsed": false,
    "ExecuteTime": {
     "end_time": "2023-11-01T19:00:36.101827Z",
     "start_time": "2023-11-01T19:00:33.028324Z"
    }
   },
   "id": "f31dea3bfb15c967"
  },
  {
   "cell_type": "code",
   "execution_count": 7,
   "outputs": [
    {
     "data": {
      "text/plain": "0"
     },
     "execution_count": 7,
     "metadata": {},
     "output_type": "execute_result"
    }
   ],
   "source": [
    "test_clean.isna().sum().sum()"
   ],
   "metadata": {
    "collapsed": false,
    "ExecuteTime": {
     "end_time": "2023-11-01T19:00:36.920175Z",
     "start_time": "2023-11-01T19:00:36.153200Z"
    }
   },
   "id": "ce2c3279f1b42d03"
  },
  {
   "cell_type": "code",
   "execution_count": 14,
   "outputs": [
    {
     "data": {
      "text/plain": "Fuel_consumption_\n0.0    254719\nName: count, dtype: int64"
     },
     "execution_count": 14,
     "metadata": {},
     "output_type": "execute_result"
    }
   ],
   "source": [
    "test_clean.loc[test_clean[\"Ft\"] == \"ELECTRIC\"][\"Fuel_consumption_\"].value_counts()"
   ],
   "metadata": {
    "collapsed": false,
    "ExecuteTime": {
     "end_time": "2023-11-01T18:52:10.566504Z",
     "start_time": "2023-11-01T18:52:10.445837Z"
    }
   },
   "id": "754501bdf5369495"
  },
  {
   "cell_type": "code",
   "execution_count": 9,
   "outputs": [
    {
     "data": {
      "text/plain": "0          e13*2007/46*1911*15\n1           e1*2007/46*1783*29\n2           e1*2007/46*1783*29\n3           e4*2007/46*1299*18\n4           e1*2007/46*1783*29\n                  ...         \n7571644     e1*2007/46*1550*35\n7571645     e1*2007/46*1550*35\n7571646     e1*2007/46*1550*35\n7571647     e3*2007/46*0523*03\n7571648     e6*2007/46*0415*02\nName: Tan, Length: 7571649, dtype: object"
     },
     "execution_count": 9,
     "metadata": {},
     "output_type": "execute_result"
    }
   ],
   "source": [
    "train_clean.Tan"
   ],
   "metadata": {
    "collapsed": false,
    "ExecuteTime": {
     "end_time": "2023-10-24T17:38:26.715535Z",
     "start_time": "2023-10-24T17:38:26.702770Z"
    }
   },
   "id": "6a925c317a1e7e0e"
  },
  {
   "cell_type": "code",
   "execution_count": 11,
   "outputs": [
    {
     "data": {
      "text/plain": "673.388754474024"
     },
     "execution_count": 11,
     "metadata": {},
     "output_type": "execute_result"
    }
   ],
   "source": [
    "import numpy as np\n",
    "\n",
    "(np.exp(13)*2007)/(46*1911*15)"
   ],
   "metadata": {
    "collapsed": false,
    "ExecuteTime": {
     "end_time": "2023-10-24T17:39:12.965620Z",
     "start_time": "2023-10-24T17:39:12.962239Z"
    }
   },
   "id": "74ea9390fd801ae5"
  },
  {
   "cell_type": "code",
   "execution_count": 12,
   "outputs": [
    {
     "data": {
      "text/plain": "0.0022936897912726067"
     },
     "execution_count": 12,
     "metadata": {},
     "output_type": "execute_result"
    }
   ],
   "source": [
    "\n",
    "(np.exp(1)*2007)/(46*1783*29)"
   ],
   "metadata": {
    "collapsed": false,
    "ExecuteTime": {
     "end_time": "2023-10-24T17:39:30.688799Z",
     "start_time": "2023-10-24T17:39:30.678770Z"
    }
   },
   "id": "30769865defa91f8"
  },
  {
   "cell_type": "code",
   "execution_count": null,
   "outputs": [],
   "source": [],
   "metadata": {
    "collapsed": false
   },
   "id": "98ea2ea7511fd5ec"
  }
 ],
 "metadata": {
  "kernelspec": {
   "display_name": "Python 3",
   "language": "python",
   "name": "python3"
  },
  "language_info": {
   "codemirror_mode": {
    "name": "ipython",
    "version": 2
   },
   "file_extension": ".py",
   "mimetype": "text/x-python",
   "name": "python",
   "nbconvert_exporter": "python",
   "pygments_lexer": "ipython2",
   "version": "2.7.6"
  }
 },
 "nbformat": 4,
 "nbformat_minor": 5
}
