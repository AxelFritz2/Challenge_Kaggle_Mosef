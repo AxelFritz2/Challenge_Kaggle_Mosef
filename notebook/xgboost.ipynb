{
 "cells": [
  {
   "cell_type": "code",
   "execution_count": 1,
   "metadata": {},
   "outputs": [],
   "source": [
    "import pandas as pd\n",
    "from sklearn.model_selection import train_test_split\n",
    "from sklearn.metrics import mean_absolute_error\n",
    "from sklearn.preprocessing import TargetEncoder\n",
    "from sklearn.ensemble import GradientBoostingRegressor\n"
   ]
  },
  {
   "cell_type": "markdown",
   "metadata": {},
   "source": [
    "# chargement datasets"
   ]
  },
  {
   "cell_type": "code",
   "execution_count": 2,
   "metadata": {},
   "outputs": [],
   "source": [
    "clean_train = pd.read_pickle(\"../data/clean_train.p\")\n",
    "clean_test = pd.read_pickle(\"../data/clean_test.p\")"
   ]
  },
  {
   "cell_type": "markdown",
   "metadata": {},
   "source": [
    "# features selection et encoding"
   ]
  },
  {
   "cell_type": "code",
   "execution_count": 5,
   "metadata": {},
   "outputs": [],
   "source": [
    "var_explicatives = ['VFN', 'Tan', 'T', 'Va', 'Ve', 'Cn', 'Ft', 'Fm', 'Fuel_consumption_', 'Electric_range_(km)']\n",
    "\n",
    "X = clean_train[var_explicatives]\n",
    "test_rf = clean_test[var_explicatives]\n",
    "y = clean_train[\"Ewltp_(g/km)\"]\n"
   ]
  },
  {
   "cell_type": "code",
   "execution_count": 6,
   "metadata": {},
   "outputs": [],
   "source": [
    "X_train, X_test, y_train, y_test = train_test_split(X, y, test_size=0.2, random_state=12)"
   ]
  },
  {
   "cell_type": "code",
   "execution_count": 7,
   "metadata": {},
   "outputs": [
    {
     "name": "stderr",
     "output_type": "stream",
     "text": [
      "/var/folders/cs/hh3_26_57sx7l8sdk574zbdh0000gn/T/ipykernel_21695/1731381253.py:6: SettingWithCopyWarning: \n",
      "A value is trying to be set on a copy of a slice from a DataFrame.\n",
      "Try using .loc[row_indexer,col_indexer] = value instead\n",
      "\n",
      "See the caveats in the documentation: https://pandas.pydata.org/pandas-docs/stable/user_guide/indexing.html#returning-a-view-versus-a-copy\n",
      "  test_rf[col] = encoder.transform(test_rf[col].values.reshape(-1,1))\n",
      "/var/folders/cs/hh3_26_57sx7l8sdk574zbdh0000gn/T/ipykernel_21695/1731381253.py:6: SettingWithCopyWarning: \n",
      "A value is trying to be set on a copy of a slice from a DataFrame.\n",
      "Try using .loc[row_indexer,col_indexer] = value instead\n",
      "\n",
      "See the caveats in the documentation: https://pandas.pydata.org/pandas-docs/stable/user_guide/indexing.html#returning-a-view-versus-a-copy\n",
      "  test_rf[col] = encoder.transform(test_rf[col].values.reshape(-1,1))\n",
      "/var/folders/cs/hh3_26_57sx7l8sdk574zbdh0000gn/T/ipykernel_21695/1731381253.py:6: SettingWithCopyWarning: \n",
      "A value is trying to be set on a copy of a slice from a DataFrame.\n",
      "Try using .loc[row_indexer,col_indexer] = value instead\n",
      "\n",
      "See the caveats in the documentation: https://pandas.pydata.org/pandas-docs/stable/user_guide/indexing.html#returning-a-view-versus-a-copy\n",
      "  test_rf[col] = encoder.transform(test_rf[col].values.reshape(-1,1))\n",
      "/var/folders/cs/hh3_26_57sx7l8sdk574zbdh0000gn/T/ipykernel_21695/1731381253.py:6: SettingWithCopyWarning: \n",
      "A value is trying to be set on a copy of a slice from a DataFrame.\n",
      "Try using .loc[row_indexer,col_indexer] = value instead\n",
      "\n",
      "See the caveats in the documentation: https://pandas.pydata.org/pandas-docs/stable/user_guide/indexing.html#returning-a-view-versus-a-copy\n",
      "  test_rf[col] = encoder.transform(test_rf[col].values.reshape(-1,1))\n",
      "/var/folders/cs/hh3_26_57sx7l8sdk574zbdh0000gn/T/ipykernel_21695/1731381253.py:6: SettingWithCopyWarning: \n",
      "A value is trying to be set on a copy of a slice from a DataFrame.\n",
      "Try using .loc[row_indexer,col_indexer] = value instead\n",
      "\n",
      "See the caveats in the documentation: https://pandas.pydata.org/pandas-docs/stable/user_guide/indexing.html#returning-a-view-versus-a-copy\n",
      "  test_rf[col] = encoder.transform(test_rf[col].values.reshape(-1,1))\n",
      "/var/folders/cs/hh3_26_57sx7l8sdk574zbdh0000gn/T/ipykernel_21695/1731381253.py:6: SettingWithCopyWarning: \n",
      "A value is trying to be set on a copy of a slice from a DataFrame.\n",
      "Try using .loc[row_indexer,col_indexer] = value instead\n",
      "\n",
      "See the caveats in the documentation: https://pandas.pydata.org/pandas-docs/stable/user_guide/indexing.html#returning-a-view-versus-a-copy\n",
      "  test_rf[col] = encoder.transform(test_rf[col].values.reshape(-1,1))\n",
      "/var/folders/cs/hh3_26_57sx7l8sdk574zbdh0000gn/T/ipykernel_21695/1731381253.py:6: SettingWithCopyWarning: \n",
      "A value is trying to be set on a copy of a slice from a DataFrame.\n",
      "Try using .loc[row_indexer,col_indexer] = value instead\n",
      "\n",
      "See the caveats in the documentation: https://pandas.pydata.org/pandas-docs/stable/user_guide/indexing.html#returning-a-view-versus-a-copy\n",
      "  test_rf[col] = encoder.transform(test_rf[col].values.reshape(-1,1))\n",
      "/var/folders/cs/hh3_26_57sx7l8sdk574zbdh0000gn/T/ipykernel_21695/1731381253.py:6: SettingWithCopyWarning: \n",
      "A value is trying to be set on a copy of a slice from a DataFrame.\n",
      "Try using .loc[row_indexer,col_indexer] = value instead\n",
      "\n",
      "See the caveats in the documentation: https://pandas.pydata.org/pandas-docs/stable/user_guide/indexing.html#returning-a-view-versus-a-copy\n",
      "  test_rf[col] = encoder.transform(test_rf[col].values.reshape(-1,1))\n"
     ]
    }
   ],
   "source": [
    "encoder = TargetEncoder()\n",
    "cat_col = clean_train[var_explicatives].select_dtypes(include=\"object\")\n",
    "for col in cat_col:\n",
    "    X_train[col] = encoder.fit_transform(X_train[col].values.reshape(-1,1),y_train)\n",
    "    X_test[col] = encoder.transform(X_test[col].values.reshape(-1,1))\n",
    "    test_rf[col] = encoder.transform(test_rf[col].values.reshape(-1,1))"
   ]
  },
  {
   "cell_type": "markdown",
   "metadata": {},
   "source": [
    "# Modélisation"
   ]
  },
  {
   "cell_type": "code",
   "execution_count": 10,
   "metadata": {},
   "outputs": [
    {
     "name": "stdout",
     "output_type": "stream",
     "text": [
      "lancement !\n",
      "fit en cours... ⏳\n",
      "fit terminé 🎉\n",
      "predict en cours... ⏳\n",
      "predict effectué 🎉\n",
      "MAE de XBG : 3.1017684945523114\n"
     ]
    }
   ],
   "source": [
    "N_ESTIMATORS = 100\n",
    "MAX_DEPTH = 20\n",
    "N_ITERATION = 100\n",
    "print(\"lancement !\")\n",
    "model_xgboost = GradientBoostingRegressor(n_estimators=N_ESTIMATORS, max_depth=MAX_DEPTH,random_state=10)\n",
    "print(\"fit en cours... ⏳\")\n",
    "model_xgboost.fit(X_train,y_train)\n",
    "print(\"fit terminé 🎉\")\n",
    "print(\"predict en cours... ⏳\")\n",
    "y_pred = model_xgboost.predict(X_test)\n",
    "print(\"predict effectué 🎉\")\n",
    "mae_xgb = mean_absolute_error(y_test, y_pred)\n",
    "print(f\"MAE de XBG : {mae_xgb}\")"
   ]
  },
  {
   "cell_type": "markdown",
   "metadata": {},
   "source": [
    "# sauvegarde des artefacts"
   ]
  },
  {
   "cell_type": "code",
   "execution_count": 11,
   "metadata": {},
   "outputs": [],
   "source": [
    "parameters_dictionnary = {\"Model\" : \"XGBoost\", \n",
    "                          \"N_ESTIMATORS\" : N_ESTIMATORS, \n",
    "                          'MAX_DEPTH' : MAX_DEPTH,\n",
    "                          'N_ITERATIONS' : N_ITERATION,\n",
    "                          \"MAE\" : mae_xgb}"
   ]
  },
  {
   "cell_type": "code",
   "execution_count": 12,
   "metadata": {},
   "outputs": [
    {
     "data": {
      "text/plain": [
       "['../artefacts/XGBoost_3.1/RF.joblib']"
      ]
     },
     "execution_count": 12,
     "metadata": {},
     "output_type": "execute_result"
    }
   ],
   "source": [
    "import os\n",
    "import json\n",
    "from joblib import dump\n",
    "\n",
    "if not os.path.exists(\"../artefacts/\"):\n",
    "    os.makedirs(\"../artefacts/\")\n",
    "\n",
    "if not os.path.exists(f\"../artefacts/XGBoost_{round(mae_xgb,2)}\"):\n",
    "    os.makedirs(f\"../artefacts/XGBoost_{round(mae_xgb,2)}\")\n",
    "\n",
    "with open(f\"../artefacts/XGBoost_{round(mae_xgb,2)}/parameters\", \"w\") as json_file:\n",
    "    json.dump(parameters_dictionnary, json_file)\n",
    "\n",
    "dump(model_xgboost, f\"../artefacts/XGBoost_{round(mae_xgb,2)}/RF.joblib\")"
   ]
  },
  {
   "cell_type": "markdown",
   "metadata": {},
   "source": [
    "# Submission"
   ]
  },
  {
   "cell_type": "code",
   "execution_count": 13,
   "metadata": {},
   "outputs": [],
   "source": [
    "prediction = model_xgboost.predict(test_rf)\n",
    "\n",
    "submission = clean_test[[\"ID\"]].copy()  \n",
    "submission[\"Ewltp (g/km)\"] = prediction\n",
    "submission.to_csv(\"../data/sample_submission6.csv\", index=False)"
   ]
  }
 ],
 "metadata": {
  "kernelspec": {
   "display_name": ".env",
   "language": "python",
   "name": "python3"
  },
  "language_info": {
   "codemirror_mode": {
    "name": "ipython",
    "version": 3
   },
   "file_extension": ".py",
   "mimetype": "text/x-python",
   "name": "python",
   "nbconvert_exporter": "python",
   "pygments_lexer": "ipython3",
   "version": "3.9.13"
  }
 },
 "nbformat": 4,
 "nbformat_minor": 2
}
