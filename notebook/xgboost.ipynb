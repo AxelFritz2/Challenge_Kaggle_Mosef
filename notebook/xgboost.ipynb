{
 "metadata": {
  "kernelspec": {
   "language": "python",
   "display_name": "Python 3",
   "name": "python3"
  },
  "language_info": {
   "name": "python",
   "version": "3.10.12",
   "mimetype": "text/x-python",
   "codemirror_mode": {
    "name": "ipython",
    "version": 3
   },
   "pygments_lexer": "ipython3",
   "nbconvert_exporter": "python",
   "file_extension": ".py"
  },
  "kaggle": {
   "accelerator": "none",
   "dataSources": [],
   "dockerImageVersionId": 30626,
   "isInternetEnabled": true,
   "language": "python",
   "sourceType": "notebook",
   "isGpuEnabled": false
  }
 },
 "nbformat_minor": 4,
 "nbformat": 4,
 "cells": [
  {
   "cell_type": "code",
   "source": [
    "import pandas as pd\n",
    "from sklearn.model_selection import train_test_split\n",
    "from sklearn.metrics import mean_absolute_error\n",
    "from joblib import dump\n",
    "import xgboost as xgb\n",
    "import numpy as np\n",
    "from sklearn.model_selection import KFold\n",
    "import sys \n",
    "sys.path.append(\"../src\")\n",
    "from data_preparation import DataPreparation\n",
    "\n",
    "import os\n",
    "import json"
   ],
   "metadata": {
    "_uuid": "8f2839f25d086af736a60e9eeb907d3b93b6e0e5",
    "_cell_guid": "b1076dfc-b9ad-4769-8c92-a6c4dae69d19",
    "trusted": true,
    "ExecuteTime": {
     "end_time": "2023-12-27T16:31:24.844427Z",
     "start_time": "2023-12-27T16:31:24.832276Z"
    }
   },
   "execution_count": 19,
   "outputs": []
  },
  {
   "cell_type": "markdown",
   "source": [
    "# Import des données"
   ],
   "metadata": {}
  },
  {
   "cell_type": "code",
   "source": [
    "train = pd.read_csv(\"../data/train.csv\")\n",
    "test = pd.read_csv(\"../data/test.csv\")"
   ],
   "metadata": {
    "ExecuteTime": {
     "end_time": "2023-12-27T16:25:46.364211Z",
     "start_time": "2023-12-27T16:25:05.249456Z"
    }
   },
   "execution_count": 9,
   "outputs": [
    {
     "name": "stderr",
     "output_type": "stream",
     "text": [
      "/var/folders/12/33kq22951gn7jfpz3d32v_qc0000gn/T/ipykernel_26330/176984250.py:1: DtypeWarning: Columns (28) have mixed types. Specify dtype option on import or set low_memory=False.\n",
      "  train = pd.read_csv(\"../data/train.csv\")\n",
      "/var/folders/12/33kq22951gn7jfpz3d32v_qc0000gn/T/ipykernel_26330/176984250.py:2: DtypeWarning: Columns (27) have mixed types. Specify dtype option on import or set low_memory=False.\n",
      "  test = pd.read_csv(\"../data/test.csv\")\n"
     ]
    }
   ]
  },
  {
   "cell_type": "markdown",
   "source": [
    "# Data Preparation"
   ],
   "metadata": {
    "collapsed": false
   }
  },
  {
   "cell_type": "code",
   "execution_count": 10,
   "outputs": [
    {
     "name": "stdout",
     "output_type": "stream",
     "text": [
      "Valeurs manquantes du train supprimées ✅\n",
      "Valeurs manquantes du test supprimées ✅\n",
      "Variables renommées ✅\n",
      "Valeurs manquantes numériques imputées ✅\n",
      "Valeurs manquantes catégorielles imputées ✅\n"
     ]
    }
   ],
   "source": [
    "preprocess = DataPreparation(train, test)\n",
    "train, test = preprocess.prepare_data()"
   ],
   "metadata": {
    "collapsed": false,
    "ExecuteTime": {
     "end_time": "2023-12-27T16:27:34.082942Z",
     "start_time": "2023-12-27T16:25:46.364564Z"
    }
   }
  },
  {
   "cell_type": "markdown",
   "source": [
    "## Encoding\n",
    "### One Hot Encoding"
   ],
   "metadata": {}
  },
  {
   "cell_type": "code",
   "execution_count": 11,
   "outputs": [],
   "source": [
    "categorical_columns = train.select_dtypes(include = 'object')\n",
    "\n",
    "selected_categoricals = [col for col in categorical_columns if train[col].nunique() < 20]\n",
    "\n",
    "train = pd.get_dummies(train, columns=selected_categoricals, dtype = 'int')\n",
    "test = pd.get_dummies(test, columns=selected_categoricals, dtype = 'int')"
   ],
   "metadata": {
    "collapsed": false,
    "ExecuteTime": {
     "end_time": "2023-12-27T16:28:00.034834Z",
     "start_time": "2023-12-27T16:27:44.528208Z"
    }
   }
  },
  {
   "cell_type": "markdown",
   "source": [
    "### Impact encoding"
   ],
   "metadata": {}
  },
  {
   "cell_type": "code",
   "source": [
    "impact_dicts = {}\n",
    "categorical_columns = train.select_dtypes(include = 'object')\n",
    "\n",
    "for categorical_feature in categorical_columns :\n",
    "\n",
    "    category_means = train.groupby(categorical_feature)['Ewltp_(g/km)'].mean()\n",
    "    category_impacts = category_means - category_means.mean()\n",
    "\n",
    "    impact_dicts[categorical_feature] = category_impacts.to_dict()\n",
    "\n",
    "    train['encoded_' + categorical_feature] = train[categorical_feature].map(impact_dicts[categorical_feature])\n",
    "    train.drop(columns= categorical_feature, inplace=True)    "
   ],
   "metadata": {
    "ExecuteTime": {
     "end_time": "2023-12-27T16:28:31.694343Z",
     "start_time": "2023-12-27T16:28:11.748680Z"
    }
   },
   "execution_count": 12,
   "outputs": []
  },
  {
   "cell_type": "code",
   "source": [
    "for categorical_feature in categorical_columns.columns:\n",
    "    \n",
    "    default_impact = impact_dicts[categorical_feature].get(\"Default\", 0)\n",
    "\n",
    "    test['encoded_' + categorical_feature] = test[categorical_feature].apply(lambda x: impact_dicts[categorical_feature].get(x, default_impact))\n",
    "\n",
    "    test.drop(columns=categorical_feature, inplace=True)\n"
   ],
   "metadata": {
    "ExecuteTime": {
     "end_time": "2023-12-27T16:28:37.646600Z",
     "start_time": "2023-12-27T16:28:31.697448Z"
    }
   },
   "execution_count": 13,
   "outputs": []
  },
  {
   "cell_type": "markdown",
   "source": [
    "## Feature Selection"
   ],
   "metadata": {}
  },
  {
   "cell_type": "code",
   "source": [
    "train[\"rapport_poids_puissance\"] = train[\"m_(kg)\"]/train[\"ec_(cm3)\"]\n",
    "test[\"rapport_poids_puissance\"] = test[\"m_(kg)\"]/test[\"ec_(cm3)\"]"
   ],
   "metadata": {
    "ExecuteTime": {
     "end_time": "2023-12-27T16:28:48.480315Z",
     "start_time": "2023-12-27T16:28:48.431641Z"
    }
   },
   "execution_count": 14,
   "outputs": []
  },
  {
   "cell_type": "markdown",
   "source": [
    "## Feature selection"
   ],
   "metadata": {}
  },
  {
   "cell_type": "code",
   "source": [
    "correlations = train.corr()[\"Ewltp_(g/km)\"]\n",
    "positive_correlations = correlations[(abs(correlations) > 0.20)].index.tolist()\n",
    "clean_train_filtered = train[positive_correlations]\n",
    "positive_correlations.remove(\"Ewltp_(g/km)\")"
   ],
   "metadata": {
    "ExecuteTime": {
     "end_time": "2023-12-27T16:29:40.680876Z",
     "start_time": "2023-12-27T16:29:01.148331Z"
    }
   },
   "execution_count": 15,
   "outputs": []
  },
  {
   "cell_type": "markdown",
   "source": [
    "# Model"
   ],
   "metadata": {}
  },
  {
   "cell_type": "code",
   "source": [
    "X = train[positive_correlations]\n",
    "y = train[\"Ewltp_(g/km)\"]\n",
    "\n",
    "X_train, X_test, y_train, y_test = train_test_split(X, y, test_size=0.2, random_state=889)"
   ],
   "metadata": {
    "ExecuteTime": {
     "end_time": "2023-12-27T16:29:48.358860Z",
     "start_time": "2023-12-27T16:29:45.019686Z"
    }
   },
   "execution_count": 16,
   "outputs": []
  },
  {
   "cell_type": "code",
   "source": [
    "N_ESTIMATORS = 500\n",
    "MAX_DEPTH = 30\n",
    "\n",
    "xgb_model = xgb.XGBRegressor(\n",
    "    n_estimators=N_ESTIMATORS,\n",
    "    max_depth=MAX_DEPTH)"
   ],
   "metadata": {
    "ExecuteTime": {
     "end_time": "2023-12-27T16:44:09.191658Z",
     "start_time": "2023-12-27T16:44:09.168556Z"
    }
   },
   "execution_count": 21,
   "outputs": []
  },
  {
   "cell_type": "code",
   "execution_count": 22,
   "outputs": [
    {
     "name": "stdout",
     "output_type": "stream",
     "text": [
      "lancement !\n",
      "fit en cours... ⏳\n",
      "fit terminé 🎉\n",
      "predict en cours... ⏳\n",
      "predict effectué 🎉\n",
      "MAE 2.9082179798084393\n",
      "fit en cours... ⏳\n",
      "fit terminé 🎉\n",
      "predict en cours... ⏳\n",
      "predict effectué 🎉\n",
      "MAE 2.911776395534477\n",
      "MAE moyenne de XGBoost avec 2 plis : 2.909997187671458\n"
     ]
    }
   ],
   "source": [
    "print(\"lancement !\")\n",
    "\n",
    "n_splits = 2\n",
    "kfold = KFold(n_splits=n_splits)\n",
    "\n",
    "mae_scores = []\n",
    "best_mae = float('inf')\n",
    "\n",
    "# Effectuez la validation croisée\n",
    "for train_index, test_index in kfold.split(X_train):\n",
    "    X_train_fold, X_test_fold = X_train.iloc[train_index], X_train.iloc[test_index]\n",
    "    y_train_fold, y_test_fold = y_train.iloc[train_index], y_train.iloc[test_index]\n",
    "\n",
    "    # Fit en cours\n",
    "    print(\"fit en cours... ⏳\")\n",
    "    xgb_model.fit(X_train_fold, y_train_fold)\n",
    "    print(\"fit terminé 🎉\")\n",
    "\n",
    "    # Predict en cours\n",
    "    print(\"predict en cours... ⏳\")\n",
    "    y_pred_fold = xgb_model.predict(X_test_fold)\n",
    "    print(\"predict effectué 🎉\")\n",
    "    \n",
    "    # Calcul de la MAE pour ce pli\n",
    "    mae_fold = mean_absolute_error(y_test_fold, y_pred_fold)\n",
    "    mae_scores.append(mae_fold)\n",
    "    print(f\"MAE {mae_fold}\")\n",
    "    \n",
    "    # Sauvegarde du modèle si le score MAE actuel est meilleur que le meilleur enregistré jusqu'à présent\n",
    "    if mae_fold < best_mae:\n",
    "        best_mae = mae_fold\n",
    "        best_model = xgb_model\n",
    "\n",
    "mae_mean = np.mean(mae_scores)\n",
    "print(f\"MAE moyenne de XGBoost avec {n_splits} plis : {mae_mean}\")"
   ],
   "metadata": {
    "collapsed": false,
    "ExecuteTime": {
     "end_time": "2023-12-27T16:52:24.195061Z",
     "start_time": "2023-12-27T16:44:17.102136Z"
    }
   }
  },
  {
   "cell_type": "markdown",
   "source": [
    "# Artefacts"
   ],
   "metadata": {}
  },
  {
   "cell_type": "code",
   "source": [
    "parameters_dictionnary = {\"Model\" : \"XGBoost\", \n",
    "                          'N_ESTIMATORS':N_ESTIMATORS,\n",
    "                          \"MAX_DEPTH\":MAX_DEPTH}"
   ],
   "metadata": {
    "ExecuteTime": {
     "end_time": "2023-12-27T16:52:43.480643Z",
     "start_time": "2023-12-27T16:52:43.469959Z"
    }
   },
   "execution_count": 23,
   "outputs": []
  },
  {
   "cell_type": "code",
   "execution_count": 24,
   "outputs": [
    {
     "data": {
      "text/plain": "['../artefacts/XGB_2.91/XGB.joblib']"
     },
     "execution_count": 24,
     "metadata": {},
     "output_type": "execute_result"
    }
   ],
   "source": [
    "if not os.path.exists(\"../artefacts/\"):\n",
    "    os.makedirs(\"../artefacts/\")\n",
    "\n",
    "if not os.path.exists(f\"../artefacts/XGB_{round(mae_mean,2)}\"):\n",
    "    os.makedirs(f\"../artefacts/XGB_{round(mae_mean,2)}\")\n",
    "\n",
    "with open(f\"../artefacts/XGB_{round(mae_mean,2)}/parameters\", \"w\") as json_file:\n",
    "    json.dump(parameters_dictionnary, json_file)\n",
    "\n",
    "dump(best_model, f\"../artefacts/XGB_{round(mae_mean,2)}/XGB.joblib\")"
   ],
   "metadata": {
    "collapsed": false,
    "ExecuteTime": {
     "end_time": "2023-12-27T16:52:52.663705Z",
     "start_time": "2023-12-27T16:52:51.346234Z"
    }
   }
  },
  {
   "cell_type": "markdown",
   "source": [
    "# Prediction"
   ],
   "metadata": {
    "collapsed": false
   }
  },
  {
   "cell_type": "code",
   "execution_count": null,
   "outputs": [],
   "source": [
    "test_rf = test[positive_correlations]\n",
    "prediction = best_model.predict(test_rf)"
   ],
   "metadata": {
    "collapsed": false
   }
  },
  {
   "cell_type": "code",
   "execution_count": null,
   "outputs": [],
   "source": [
    "submission = test[[\"ID\"]].copy()\n",
    "submission[\"Ewltp (g/km)\"] = prediction\n",
    "submission.to_csv(\"../data/submission_XGB.csv\", index=False)"
   ],
   "metadata": {
    "collapsed": false
   }
  }
 ]
}
