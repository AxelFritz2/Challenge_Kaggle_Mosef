{
 "cells": [
  {
   "cell_type": "code",
   "execution_count": 43,
   "id": "initial_id",
   "metadata": {
    "collapsed": true,
    "ExecuteTime": {
     "end_time": "2023-12-22T11:34:04.071347Z",
     "start_time": "2023-12-22T11:34:04.064631Z"
    }
   },
   "outputs": [],
   "source": [
    "import pandas as pd\n",
    "from sklearn.model_selection import train_test_split\n",
    "from sklearn.linear_model import LinearRegression\n",
    "from sklearn.metrics import mean_absolute_error\n",
    "from joblib import dump\n",
    "import numpy as np\n",
    "from sklearn.model_selection import KFold\n",
    "\n",
    "import sys \n",
    "import os\n",
    "import json\n",
    "sys.path.append(\"../src\")\n",
    "from data_preparation import DataPreparation"
   ]
  },
  {
   "cell_type": "markdown",
   "source": [
    "# Import des données"
   ],
   "metadata": {
    "collapsed": false
   },
   "id": "6cc2c5c0668e68b3"
  },
  {
   "cell_type": "code",
   "execution_count": 2,
   "outputs": [
    {
     "name": "stderr",
     "output_type": "stream",
     "text": [
      "/var/folders/12/33kq22951gn7jfpz3d32v_qc0000gn/T/ipykernel_8614/176984250.py:1: DtypeWarning: Columns (28) have mixed types. Specify dtype option on import or set low_memory=False.\n",
      "  train = pd.read_csv(\"../data/train.csv\")\n",
      "/var/folders/12/33kq22951gn7jfpz3d32v_qc0000gn/T/ipykernel_8614/176984250.py:2: DtypeWarning: Columns (27) have mixed types. Specify dtype option on import or set low_memory=False.\n",
      "  test = pd.read_csv(\"../data/test.csv\")\n"
     ]
    }
   ],
   "source": [
    "train = pd.read_csv(\"../data/train.csv\")\n",
    "test = pd.read_csv(\"../data/test.csv\")"
   ],
   "metadata": {
    "collapsed": false,
    "ExecuteTime": {
     "end_time": "2023-12-22T11:14:36.540630Z",
     "start_time": "2023-12-22T11:13:57.028267Z"
    }
   },
   "id": "867594af876bc965"
  },
  {
   "cell_type": "markdown",
   "source": [
    "# Préparation des données"
   ],
   "metadata": {
    "collapsed": false
   },
   "id": "a74e4cf43c55b2ef"
  },
  {
   "cell_type": "code",
   "execution_count": 3,
   "outputs": [
    {
     "name": "stdout",
     "output_type": "stream",
     "text": [
      "Valeurs manquantes du train supprimées ✅\n",
      "Valeurs manquantes du test supprimées ✅\n",
      "Variables renommées ✅\n",
      "Valeurs manquantes numériques imputées ✅\n",
      "Valeurs manquantes catégorielles imputées ✅\n"
     ]
    }
   ],
   "source": [
    "preprocess = DataPreparation(train, test)\n",
    "train, test = preprocess.prepare_data()"
   ],
   "metadata": {
    "collapsed": false,
    "ExecuteTime": {
     "end_time": "2023-12-22T11:16:31.901471Z",
     "start_time": "2023-12-22T11:14:36.541734Z"
    }
   },
   "id": "8f338bf93557cebe"
  },
  {
   "cell_type": "markdown",
   "source": [
    "# Standardisation des données"
   ],
   "metadata": {
    "collapsed": false
   },
   "id": "780b94739742b5ef"
  },
  {
   "cell_type": "code",
   "execution_count": 20,
   "outputs": [],
   "source": [
    "from sklearn.preprocessing import StandardScaler\n",
    "\n",
    "to_std = train.select_dtypes(exclude = 'object').columns.to_list()\n",
    "to_std.remove(\"Ewltp_(g/km)\")\n",
    "\n",
    "not_std = train.select_dtypes(include = 'object').columns.to_list()\n",
    "not_std_w_y = train.select_dtypes(include = 'object').columns.to_list()\n",
    "\n",
    "not_std_w_y.append(\"Ewltp_(g/km)\")\n",
    "\n",
    "scaler = StandardScaler()\n",
    "\n",
    "# Apply the StandardScaler to the data\n",
    "data_scaled = scaler.fit_transform(train[to_std])\n",
    "test_scaled = scaler.transform(test[to_std])\n",
    "\n",
    "# Save the scaled data\n",
    "data_scaled = pd.DataFrame(data_scaled, columns=to_std)\n",
    "train = pd.concat([data_scaled,train[not_std_w_y]], axis = 1)\n",
    "\n",
    "# Same with test\n",
    "test_scaled = pd.DataFrame(test_scaled, columns=to_std)\n",
    "test = pd.concat([test_scaled,test[not_std]], axis = 1)"
   ],
   "metadata": {
    "collapsed": false,
    "ExecuteTime": {
     "end_time": "2023-12-22T11:23:06.124381Z",
     "start_time": "2023-12-22T11:22:53.474919Z"
    }
   },
   "id": "44272ecc51a5620a"
  },
  {
   "cell_type": "markdown",
   "source": [],
   "metadata": {
    "collapsed": false
   },
   "id": "da621b7994e95878"
  },
  {
   "cell_type": "markdown",
   "source": [
    "# Encoding des variables catégorielles"
   ],
   "metadata": {
    "collapsed": false
   },
   "id": "aa6c5780dacbf1b8"
  },
  {
   "cell_type": "code",
   "execution_count": 28,
   "outputs": [],
   "source": [
    "encoded = pd.get_dummies(train[[\"Ft\"]], dtype=int)\n",
    "train = pd.concat([train, encoded], axis=1)\n",
    "train = train.drop(columns=['Ft'])\n",
    "\n",
    "encoded = pd.get_dummies(test[[\"Ft\"]], dtype=int)\n",
    "test = pd.concat([test, encoded], axis=1)\n",
    "test = test.drop(columns=['Ft'])"
   ],
   "metadata": {
    "collapsed": false,
    "ExecuteTime": {
     "end_time": "2023-12-22T11:25:42.052368Z",
     "start_time": "2023-12-22T11:25:33.868153Z"
    }
   },
   "id": "3d112c88c315d3be"
  },
  {
   "cell_type": "code",
   "execution_count": 29,
   "outputs": [],
   "source": [
    "cat = [\"Cn\", \"VFN\", \"Mk\", \"Man\",'Tan', 'T', 'Va', 'Ve', 'Ct', 'Cr', \"Country\"]\n",
    "impact_dicts = {}\n",
    "\n",
    "for categorical_feature in cat:\n",
    "    category_means = train.groupby(categorical_feature)['Ewltp_(g/km)'].mean()\n",
    "\n",
    "    category_impacts = category_means - category_means.mean()\n",
    "\n",
    "    impact_dicts[categorical_feature] = category_impacts.to_dict()\n",
    "\n",
    "    train['encoded_' + categorical_feature] = train[categorical_feature].map(impact_dicts[categorical_feature])\n",
    "    train.drop(columns=categorical_feature, inplace=True)\n",
    "\n",
    "for categorical_feature in cat:\n",
    "\n",
    "    default_impact = impact_dicts[categorical_feature].get(\"Default\", 0)\n",
    "\n",
    "    test['encoded_' + categorical_feature] = test[categorical_feature].apply(lambda x: impact_dicts[categorical_feature].get(x, default_impact))\n",
    "\n",
    "    test.drop(columns=categorical_feature, inplace=True)"
   ],
   "metadata": {
    "collapsed": false,
    "ExecuteTime": {
     "end_time": "2023-12-22T11:26:16.326179Z",
     "start_time": "2023-12-22T11:25:42.109128Z"
    }
   },
   "id": "f0f18ee3aa161147"
  },
  {
   "cell_type": "markdown",
   "source": [
    "# Séléction de variables"
   ],
   "metadata": {
    "collapsed": false
   },
   "id": "e19b6ed2b9f5549b"
  },
  {
   "cell_type": "code",
   "execution_count": 36,
   "outputs": [
    {
     "data": {
      "text/plain": "['m_(kg)',\n 'Mt',\n 'ec_(cm3)',\n 'Fuel_consumption_',\n 'Electric_range_(km)',\n 'Ft_DIESEL',\n 'Ft_ELECTRIC/HYDROGEN',\n 'Ft_HYBRID',\n 'Ft_PETROL',\n 'encoded_Cn',\n 'encoded_VFN',\n 'encoded_Mk',\n 'encoded_Man',\n 'encoded_Tan',\n 'encoded_T',\n 'encoded_Va',\n 'encoded_Ve',\n 'encoded_Ct',\n 'encoded_Cr',\n 'encoded_Country']"
     },
     "execution_count": 36,
     "metadata": {},
     "output_type": "execute_result"
    }
   ],
   "source": [
    "numericals = train.select_dtypes(exclude = 'object').columns.to_list()\n",
    "correlations = train[numericals].corr()[\"Ewltp_(g/km)\"]\n",
    "selected_features = correlations[abs(correlations) > 0.1].index.tolist()\n",
    "selected_features.remove(\"Ewltp_(g/km)\")\n",
    "selected_features"
   ],
   "metadata": {
    "collapsed": false,
    "ExecuteTime": {
     "end_time": "2023-12-22T11:28:00.624345Z",
     "start_time": "2023-12-22T11:27:38.559011Z"
    }
   },
   "id": "31a5261ae7705737"
  },
  {
   "cell_type": "code",
   "execution_count": 37,
   "outputs": [],
   "source": [
    "X = train[selected_features]\n",
    "y = train[\"Ewltp_(g/km)\"]"
   ],
   "metadata": {
    "collapsed": false,
    "ExecuteTime": {
     "end_time": "2023-12-22T11:28:01.252450Z",
     "start_time": "2023-12-22T11:28:00.626150Z"
    }
   },
   "id": "4bc1d4232b82a334"
  },
  {
   "cell_type": "code",
   "execution_count": 38,
   "outputs": [],
   "source": [
    "X_train, X_test, y_train, y_test = train_test_split(X, y, test_size=0.2, random_state=0)"
   ],
   "metadata": {
    "collapsed": false,
    "ExecuteTime": {
     "end_time": "2023-12-22T11:28:03.417882Z",
     "start_time": "2023-12-22T11:28:01.254824Z"
    }
   },
   "id": "24ebfbda4879d6d"
  },
  {
   "cell_type": "markdown",
   "source": [
    "# Modélisation Régréssion Linéaire"
   ],
   "metadata": {
    "collapsed": false
   },
   "id": "a112c13593c9d6c5"
  },
  {
   "cell_type": "code",
   "execution_count": 45,
   "outputs": [
    {
     "name": "stdout",
     "output_type": "stream",
     "text": [
      "lancement !\n",
      "fit en cours... ⏳\n",
      "fit terminé 🎉\n",
      "predict en cours... ⏳\n",
      "predict effectué 🎉\n",
      "MAE 13.126180461560034\n",
      "fit en cours... ⏳\n",
      "fit terminé 🎉\n",
      "predict en cours... ⏳\n",
      "predict effectué 🎉\n",
      "MAE 13.096683695429427\n",
      "fit en cours... ⏳\n",
      "fit terminé 🎉\n",
      "predict en cours... ⏳\n",
      "predict effectué 🎉\n",
      "MAE 13.109883368609301\n",
      "fit en cours... ⏳\n",
      "fit terminé 🎉\n",
      "predict en cours... ⏳\n",
      "predict effectué 🎉\n",
      "MAE 13.110994692041235\n",
      "MAE moyenne de la régression linéaire avec 4 plis : 13.111\n"
     ]
    }
   ],
   "source": [
    "model = LinearRegression()\n",
    "\n",
    "print(\"lancement !\")\n",
    "\n",
    "n_splits = 4\n",
    "kfold = KFold(n_splits=n_splits)\n",
    "\n",
    "mae_scores = []\n",
    "\n",
    "# Effectuez la validation croisée\n",
    "for train_index, test_index in kfold.split(X_train):\n",
    "    X_train_fold, X_test_fold = X_train.iloc[train_index], X_train.iloc[test_index]\n",
    "    y_train_fold, y_test_fold = y_train.iloc[train_index], y_train.iloc[test_index]\n",
    "\n",
    "    # Fit en cours\n",
    "    print(\"fit en cours... ⏳\")\n",
    "    model.fit(X_train_fold, y_train_fold)\n",
    "    print(\"fit terminé 🎉\")\n",
    "\n",
    "    # Predict en cours\n",
    "    print(\"predict en cours... ⏳\")\n",
    "    y_pred_fold = model.predict(X_test_fold)\n",
    "    print(\"predict effectué 🎉\")\n",
    "    \n",
    "    # Calcul de la MAE pour ce pli\n",
    "    mae_fold = mean_absolute_error(y_test_fold, y_pred_fold)\n",
    "    mae_scores.append(mae_fold)\n",
    "    print(f\"MAE {mae_fold}\")\n",
    "\n",
    "# Calcul de la moyenne des scores MAE de tous les plis\n",
    "mae_mean = np.mean(mae_scores)\n",
    "print(f\"MAE moyenne de la régression linéaire avec {n_splits} plis : {round(mae_mean, 3)}\")"
   ],
   "metadata": {
    "collapsed": false,
    "ExecuteTime": {
     "end_time": "2023-12-22T11:35:13.856526Z",
     "start_time": "2023-12-22T11:34:59.219578Z"
    }
   },
   "id": "37600af9835e7359"
  },
  {
   "cell_type": "markdown",
   "source": [
    "# Sauvegarde des Artefacts"
   ],
   "metadata": {
    "collapsed": false
   },
   "id": "518ef747eb5c6708"
  },
  {
   "cell_type": "code",
   "execution_count": 42,
   "outputs": [
    {
     "data": {
      "text/plain": "['../artefacts/RL_13.13/model_RL.joblib']"
     },
     "execution_count": 42,
     "metadata": {},
     "output_type": "execute_result"
    }
   ],
   "source": [
    "if not os.path.exists(\"../artefacts/\"):\n",
    "    os.makedirs(\"../artefacts/\")\n",
    "\n",
    "if not os.path.exists(f\"../artefacts/RL_{round(mae,2)}\"):\n",
    "    os.makedirs(f\"../artefacts/RL_{round(mae,2)}\")\n",
    "\n",
    "dump(model, f\"../artefacts/RL_{round(mae,2)}/model_RL.joblib\")"
   ],
   "metadata": {
    "collapsed": false,
    "ExecuteTime": {
     "end_time": "2023-12-22T11:28:51.825615Z",
     "start_time": "2023-12-22T11:28:51.819422Z"
    }
   },
   "id": "fbf2b4c0e99f7605"
  }
 ],
 "metadata": {
  "kernelspec": {
   "display_name": "Python 3",
   "language": "python",
   "name": "python3"
  },
  "language_info": {
   "codemirror_mode": {
    "name": "ipython",
    "version": 2
   },
   "file_extension": ".py",
   "mimetype": "text/x-python",
   "name": "python",
   "nbconvert_exporter": "python",
   "pygments_lexer": "ipython2",
   "version": "2.7.6"
  }
 },
 "nbformat": 4,
 "nbformat_minor": 5
}
