{
 "cells": [
  {
   "cell_type": "code",
   "execution_count": 54,
   "id": "initial_id",
   "metadata": {
    "collapsed": true,
    "ExecuteTime": {
     "end_time": "2023-10-26T15:45:01.477641Z",
     "start_time": "2023-10-26T15:45:01.475514Z"
    }
   },
   "outputs": [],
   "source": [
    "import pandas as pd\n",
    "import matplotlib.pyplot as plt\n",
    "from tqdm import tqdm\n",
    "from sklearn.model_selection import train_test_split\n",
    "from sklearn.ensemble import RandomForestRegressor\n",
    "from sklearn.metrics import mean_absolute_error\n",
    "from sklearn.preprocessing import TargetEncoder\n",
    "from sklearn.preprocessing import LabelEncoder\n",
    "from joblib import dump\n",
    "\n",
    "import sys \n",
    "import os\n",
    "import json\n",
    "sys.path.append(\"../src\")\n",
    "from data_preparation import DataPreparation"
   ]
  },
  {
   "cell_type": "markdown",
   "source": [
    "# Import des données"
   ],
   "metadata": {
    "collapsed": false
   },
   "id": "6cc2c5c0668e68b3"
  },
  {
   "cell_type": "code",
   "execution_count": 3,
   "outputs": [
    {
     "name": "stderr",
     "output_type": "stream",
     "text": [
      "/var/folders/12/33kq22951gn7jfpz3d32v_qc0000gn/T/ipykernel_27670/176984250.py:1: DtypeWarning: Columns (28) have mixed types. Specify dtype option on import or set low_memory=False.\n",
      "  train = pd.read_csv(\"../data/train.csv\")\n",
      "/var/folders/12/33kq22951gn7jfpz3d32v_qc0000gn/T/ipykernel_27670/176984250.py:2: DtypeWarning: Columns (27) have mixed types. Specify dtype option on import or set low_memory=False.\n",
      "  test = pd.read_csv(\"../data/test.csv\")\n"
     ]
    }
   ],
   "source": [
    "train = pd.read_csv(\"../data/train.csv\")\n",
    "test = pd.read_csv(\"../data/test.csv\")"
   ],
   "metadata": {
    "collapsed": false,
    "ExecuteTime": {
     "end_time": "2023-10-26T13:38:05.564694Z",
     "start_time": "2023-10-26T13:37:25.224707Z"
    }
   },
   "id": "867594af876bc965"
  },
  {
   "cell_type": "markdown",
   "source": [
    "# Préparation des données"
   ],
   "metadata": {
    "collapsed": false
   },
   "id": "a74e4cf43c55b2ef"
  },
  {
   "cell_type": "code",
   "execution_count": 6,
   "outputs": [
    {
     "name": "stdout",
     "output_type": "stream",
     "text": [
      "Valeurs manquantes du train supprimées ✅\n",
      "Valeurs manquantes du test supprimées ✅\n",
      "Variables renommées ✅\n",
      "Valeurs manquantes numériques imputées ✅\n",
      "Valeurs manquantes catégorielles imputées ✅\n"
     ]
    }
   ],
   "source": [
    "preprocess = DataPreparation(train, test)\n",
    "train, test = preprocess.prepare_data()"
   ],
   "metadata": {
    "collapsed": false,
    "ExecuteTime": {
     "end_time": "2023-10-26T13:43:24.638046Z",
     "start_time": "2023-10-26T13:40:14.106228Z"
    }
   },
   "id": "8f338bf93557cebe"
  },
  {
   "cell_type": "code",
   "execution_count": 7,
   "outputs": [],
   "source": [
    "var_explicatives = ['VFN', 'Tan', 'T', 'Va', 'Ve', 'Cn', 'Ft', 'Fm', 'Fuel_consumption_', 'Electric_range_(km)']"
   ],
   "metadata": {
    "collapsed": false,
    "ExecuteTime": {
     "end_time": "2023-10-26T13:43:24.653178Z",
     "start_time": "2023-10-26T13:43:24.640851Z"
    }
   },
   "id": "39a5ac5e3768d4bf"
  },
  {
   "cell_type": "code",
   "execution_count": 44,
   "outputs": [],
   "source": [
    "X = train[var_explicatives]\n",
    "test_rf = test[var_explicatives]\n",
    "y = train[\"Ewltp_(g/km)\"]"
   ],
   "metadata": {
    "collapsed": false,
    "ExecuteTime": {
     "end_time": "2023-10-26T15:39:18.892004Z",
     "start_time": "2023-10-26T15:39:17.668343Z"
    }
   },
   "id": "4bc1d4232b82a334"
  },
  {
   "cell_type": "code",
   "execution_count": 45,
   "outputs": [],
   "source": [
    "X_train, X_test, y_train, y_test = train_test_split(X, y, test_size=0.2, random_state=0)"
   ],
   "metadata": {
    "collapsed": false,
    "ExecuteTime": {
     "end_time": "2023-10-26T15:39:26.832624Z",
     "start_time": "2023-10-26T15:39:24.427391Z"
    }
   },
   "id": "24ebfbda4879d6d"
  },
  {
   "cell_type": "code",
   "execution_count": 47,
   "outputs": [
    {
     "name": "stderr",
     "output_type": "stream",
     "text": [
      "/var/folders/12/33kq22951gn7jfpz3d32v_qc0000gn/T/ipykernel_27670/2816646882.py:6: SettingWithCopyWarning: \n",
      "A value is trying to be set on a copy of a slice from a DataFrame.\n",
      "Try using .loc[row_indexer,col_indexer] = value instead\n",
      "\n",
      "See the caveats in the documentation: https://pandas.pydata.org/pandas-docs/stable/user_guide/indexing.html#returning-a-view-versus-a-copy\n",
      "  test_rf[col] = encoder.transform(test_rf[col].values.reshape(-1,1))\n",
      "/var/folders/12/33kq22951gn7jfpz3d32v_qc0000gn/T/ipykernel_27670/2816646882.py:6: SettingWithCopyWarning: \n",
      "A value is trying to be set on a copy of a slice from a DataFrame.\n",
      "Try using .loc[row_indexer,col_indexer] = value instead\n",
      "\n",
      "See the caveats in the documentation: https://pandas.pydata.org/pandas-docs/stable/user_guide/indexing.html#returning-a-view-versus-a-copy\n",
      "  test_rf[col] = encoder.transform(test_rf[col].values.reshape(-1,1))\n",
      "/var/folders/12/33kq22951gn7jfpz3d32v_qc0000gn/T/ipykernel_27670/2816646882.py:6: SettingWithCopyWarning: \n",
      "A value is trying to be set on a copy of a slice from a DataFrame.\n",
      "Try using .loc[row_indexer,col_indexer] = value instead\n",
      "\n",
      "See the caveats in the documentation: https://pandas.pydata.org/pandas-docs/stable/user_guide/indexing.html#returning-a-view-versus-a-copy\n",
      "  test_rf[col] = encoder.transform(test_rf[col].values.reshape(-1,1))\n",
      "/var/folders/12/33kq22951gn7jfpz3d32v_qc0000gn/T/ipykernel_27670/2816646882.py:6: SettingWithCopyWarning: \n",
      "A value is trying to be set on a copy of a slice from a DataFrame.\n",
      "Try using .loc[row_indexer,col_indexer] = value instead\n",
      "\n",
      "See the caveats in the documentation: https://pandas.pydata.org/pandas-docs/stable/user_guide/indexing.html#returning-a-view-versus-a-copy\n",
      "  test_rf[col] = encoder.transform(test_rf[col].values.reshape(-1,1))\n",
      "/var/folders/12/33kq22951gn7jfpz3d32v_qc0000gn/T/ipykernel_27670/2816646882.py:6: SettingWithCopyWarning: \n",
      "A value is trying to be set on a copy of a slice from a DataFrame.\n",
      "Try using .loc[row_indexer,col_indexer] = value instead\n",
      "\n",
      "See the caveats in the documentation: https://pandas.pydata.org/pandas-docs/stable/user_guide/indexing.html#returning-a-view-versus-a-copy\n",
      "  test_rf[col] = encoder.transform(test_rf[col].values.reshape(-1,1))\n",
      "/var/folders/12/33kq22951gn7jfpz3d32v_qc0000gn/T/ipykernel_27670/2816646882.py:6: SettingWithCopyWarning: \n",
      "A value is trying to be set on a copy of a slice from a DataFrame.\n",
      "Try using .loc[row_indexer,col_indexer] = value instead\n",
      "\n",
      "See the caveats in the documentation: https://pandas.pydata.org/pandas-docs/stable/user_guide/indexing.html#returning-a-view-versus-a-copy\n",
      "  test_rf[col] = encoder.transform(test_rf[col].values.reshape(-1,1))\n",
      "/var/folders/12/33kq22951gn7jfpz3d32v_qc0000gn/T/ipykernel_27670/2816646882.py:6: SettingWithCopyWarning: \n",
      "A value is trying to be set on a copy of a slice from a DataFrame.\n",
      "Try using .loc[row_indexer,col_indexer] = value instead\n",
      "\n",
      "See the caveats in the documentation: https://pandas.pydata.org/pandas-docs/stable/user_guide/indexing.html#returning-a-view-versus-a-copy\n",
      "  test_rf[col] = encoder.transform(test_rf[col].values.reshape(-1,1))\n",
      "/var/folders/12/33kq22951gn7jfpz3d32v_qc0000gn/T/ipykernel_27670/2816646882.py:6: SettingWithCopyWarning: \n",
      "A value is trying to be set on a copy of a slice from a DataFrame.\n",
      "Try using .loc[row_indexer,col_indexer] = value instead\n",
      "\n",
      "See the caveats in the documentation: https://pandas.pydata.org/pandas-docs/stable/user_guide/indexing.html#returning-a-view-versus-a-copy\n",
      "  test_rf[col] = encoder.transform(test_rf[col].values.reshape(-1,1))\n"
     ]
    }
   ],
   "source": [
    "encoder = TargetEncoder()\n",
    "cat_col = train[var_explicatives].select_dtypes(include=\"object\")\n",
    "for col in cat_col:\n",
    "    X_train[col] = encoder.fit_transform(X_train[col].values.reshape(-1,1),y_train)\n",
    "    X_test[col] = encoder.transform(X_test[col].values.reshape(-1,1))\n",
    "    test_rf[col] = encoder.transform(test_rf[col].values.reshape(-1,1))"
   ],
   "metadata": {
    "collapsed": false,
    "ExecuteTime": {
     "end_time": "2023-10-26T15:40:15.054572Z",
     "start_time": "2023-10-26T15:39:42.771520Z"
    }
   },
   "id": "3d045d8525f24aa1"
  },
  {
   "cell_type": "markdown",
   "source": [
    "# Modélisation Random Forest"
   ],
   "metadata": {
    "collapsed": false
   },
   "id": "a112c13593c9d6c5"
  },
  {
   "cell_type": "code",
   "execution_count": 18,
   "outputs": [],
   "source": [
    "N_ESTIMATORS = 100\n",
    "MAX_DEPTH = 20\n",
    "N_ITERATION = 100"
   ],
   "metadata": {
    "collapsed": false,
    "ExecuteTime": {
     "end_time": "2023-10-26T14:07:45.079375Z",
     "start_time": "2023-10-26T14:07:45.066499Z"
    }
   },
   "id": "27d004b55ca62292"
  },
  {
   "cell_type": "code",
   "execution_count": 19,
   "outputs": [
    {
     "name": "stdout",
     "output_type": "stream",
     "text": [
      "fit en cours... ⏳\n",
      "fit terminé ✅\n"
     ]
    }
   ],
   "source": [
    "rf_model = RandomForestRegressor(n_estimators=N_ESTIMATORS, max_depth=MAX_DEPTH, random_state=0)\n",
    "\n",
    "print(\"fit en cours... ⏳\")\n",
    "rf_model.fit(X_train, y_train)\n",
    "print(\"fit terminé ✅\")"
   ],
   "metadata": {
    "collapsed": false,
    "ExecuteTime": {
     "end_time": "2023-10-26T15:27:56.449647Z",
     "start_time": "2023-10-26T14:07:50.324956Z"
    }
   },
   "id": "41ed3d48fa7df2fe"
  },
  {
   "cell_type": "code",
   "execution_count": 40,
   "outputs": [
    {
     "name": "stdout",
     "output_type": "stream",
     "text": [
      "predict en cours... ⏳\n",
      "predict terminé ✅\n"
     ]
    }
   ],
   "source": [
    "print(\"predict en cours... ⏳\")\n",
    "y_pred = rf_model.predict(X_test)\n",
    "print(\"predict terminé ✅\")"
   ],
   "metadata": {
    "collapsed": false,
    "ExecuteTime": {
     "end_time": "2023-10-26T15:36:33.589085Z",
     "start_time": "2023-10-26T15:35:59.094706Z"
    }
   },
   "id": "d3384cf0ee69b8ca"
  },
  {
   "cell_type": "code",
   "execution_count": 41,
   "outputs": [
    {
     "name": "stdout",
     "output_type": "stream",
     "text": [
      "MAE de la random forest : 3.703663521864543\n"
     ]
    }
   ],
   "source": [
    "mae_rf = mean_absolute_error(y_test, y_pred)\n",
    "print(f\"MAE de la random forest : {mae_rf}\")"
   ],
   "metadata": {
    "collapsed": false,
    "ExecuteTime": {
     "end_time": "2023-10-26T15:36:33.604688Z",
     "start_time": "2023-10-26T15:36:33.590565Z"
    }
   },
   "id": "7134b4bc6e4f1bd7"
  },
  {
   "cell_type": "markdown",
   "source": [
    "# Sauvegarde des Artefacts"
   ],
   "metadata": {
    "collapsed": false
   },
   "id": "518ef747eb5c6708"
  },
  {
   "cell_type": "code",
   "execution_count": 52,
   "outputs": [],
   "source": [
    "parameters_dictionnary = {\"Model\" : \"RandomForest\", \n",
    "                          \"N_ESTIMATORS\" : N_ESTIMATORS, \n",
    "                          'MAX_DEPTH' : MAX_DEPTH,\n",
    "                          \"N_ITERATION\" : N_ITERATION,\n",
    "                          \"MAE\" : mae_rf}"
   ],
   "metadata": {
    "collapsed": false,
    "ExecuteTime": {
     "end_time": "2023-10-26T15:44:51.856682Z",
     "start_time": "2023-10-26T15:44:51.846736Z"
    }
   },
   "id": "ed8d9e280bb2221c"
  },
  {
   "cell_type": "code",
   "execution_count": 60,
   "outputs": [
    {
     "data": {
      "text/plain": "['../artefacts/RF_3.7/RF.joblib']"
     },
     "execution_count": 60,
     "metadata": {},
     "output_type": "execute_result"
    }
   ],
   "source": [
    "if not os.path.exists(\"../artefacts/\"):\n",
    "    os.makedirs(\"../artefacts/\")\n",
    "\n",
    "if not os.path.exists(f\"../artefacts/RF_{round(mae_rf,2)}\"):\n",
    "    os.makedirs(f\"../artefacts/RF_{round(mae_rf,2)}\")\n",
    "\n",
    "with open(f\"../artefacts/RF_{round(mae_rf,2)}/parameters\", \"w\") as json_file:\n",
    "    json.dump(parameters_dictionnary, json_file)\n",
    "\n",
    "dump(rf_model, f\"../artefacts/RF_{round(mae_rf,2)}/RF.joblib\")"
   ],
   "metadata": {
    "collapsed": false,
    "ExecuteTime": {
     "end_time": "2023-10-26T15:49:11.328239Z",
     "start_time": "2023-10-26T15:49:09.658809Z"
    }
   },
   "id": "fbf2b4c0e99f7605"
  },
  {
   "cell_type": "markdown",
   "source": [
    "# Submission"
   ],
   "metadata": {
    "collapsed": false
   },
   "id": "8c3275fa0edc0d5f"
  },
  {
   "cell_type": "code",
   "execution_count": 51,
   "outputs": [],
   "source": [
    "prediction = rf_model.predict(test_rf)\n",
    "\n",
    "submission = test[[\"ID\"]].copy()  \n",
    "submission[\"Ewltp (g/km)\"] = prediction\n",
    "submission.to_csv(\"../data/sample_submission4.csv\", index=False)"
   ],
   "metadata": {
    "collapsed": false,
    "ExecuteTime": {
     "end_time": "2023-10-26T15:43:11.688582Z",
     "start_time": "2023-10-26T15:42:51.561271Z"
    }
   },
   "id": "226faebfcc343d8c"
  }
 ],
 "metadata": {
  "kernelspec": {
   "display_name": "Python 3",
   "language": "python",
   "name": "python3"
  },
  "language_info": {
   "codemirror_mode": {
    "name": "ipython",
    "version": 2
   },
   "file_extension": ".py",
   "mimetype": "text/x-python",
   "name": "python",
   "nbconvert_exporter": "python",
   "pygments_lexer": "ipython2",
   "version": "2.7.6"
  }
 },
 "nbformat": 4,
 "nbformat_minor": 5
}
