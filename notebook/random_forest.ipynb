{
 "cells": [
  {
   "cell_type": "code",
   "execution_count": 1,
   "id": "initial_id",
   "metadata": {
    "collapsed": true,
    "ExecuteTime": {
     "end_time": "2023-10-27T18:50:46.658744Z",
     "start_time": "2023-10-27T18:50:44.199158Z"
    }
   },
   "outputs": [],
   "source": [
    "import pandas as pd\n",
    "import matplotlib.pyplot as plt\n",
    "from tqdm import tqdm\n",
    "from sklearn.model_selection import train_test_split\n",
    "from sklearn.ensemble import RandomForestRegressor\n",
    "from sklearn.metrics import mean_absolute_error\n",
    "from sklearn.preprocessing import TargetEncoder\n",
    "from sklearn.preprocessing import LabelEncoder\n",
    "from joblib import dump\n",
    "\n",
    "import sys \n",
    "import os\n",
    "import json\n",
    "sys.path.append(\"../src\")\n",
    "from data_preparation import DataPreparation"
   ]
  },
  {
   "cell_type": "markdown",
   "source": [
    "# Import des données"
   ],
   "metadata": {
    "collapsed": false
   },
   "id": "6cc2c5c0668e68b3"
  },
  {
   "cell_type": "code",
   "execution_count": 2,
   "outputs": [
    {
     "name": "stderr",
     "output_type": "stream",
     "text": [
      "/var/folders/12/33kq22951gn7jfpz3d32v_qc0000gn/T/ipykernel_32725/176984250.py:1: DtypeWarning: Columns (28) have mixed types. Specify dtype option on import or set low_memory=False.\n",
      "  train = pd.read_csv(\"../data/train.csv\")\n",
      "/var/folders/12/33kq22951gn7jfpz3d32v_qc0000gn/T/ipykernel_32725/176984250.py:2: DtypeWarning: Columns (27) have mixed types. Specify dtype option on import or set low_memory=False.\n",
      "  test = pd.read_csv(\"../data/test.csv\")\n"
     ]
    }
   ],
   "source": [
    "train = pd.read_csv(\"../data/train.csv\")\n",
    "test = pd.read_csv(\"../data/test.csv\")"
   ],
   "metadata": {
    "collapsed": false,
    "ExecuteTime": {
     "end_time": "2023-10-27T11:10:37.320018Z",
     "start_time": "2023-10-27T11:10:01.930905Z"
    }
   },
   "id": "867594af876bc965"
  },
  {
   "cell_type": "markdown",
   "source": [
    "# Préparation des données"
   ],
   "metadata": {
    "collapsed": false
   },
   "id": "a74e4cf43c55b2ef"
  },
  {
   "cell_type": "code",
   "execution_count": 3,
   "outputs": [
    {
     "name": "stdout",
     "output_type": "stream",
     "text": [
      "Valeurs manquantes du train supprimées ✅\n",
      "Valeurs manquantes du test supprimées ✅\n",
      "Variables renommées ✅\n",
      "Valeurs manquantes numériques imputées ✅\n",
      "Valeurs manquantes catégorielles imputées ✅\n"
     ]
    }
   ],
   "source": [
    "preprocess = DataPreparation(train, test)\n",
    "train, test = preprocess.prepare_data()"
   ],
   "metadata": {
    "collapsed": false,
    "ExecuteTime": {
     "end_time": "2023-10-27T11:13:33.573394Z",
     "start_time": "2023-10-27T11:10:37.321784Z"
    }
   },
   "id": "8f338bf93557cebe"
  },
  {
   "cell_type": "code",
   "execution_count": 7,
   "outputs": [],
   "source": [
    "var_explicatives = ['VFN', 'Tan', 'T', 'Va', 'Ve', 'Cn', 'Ft', 'Fm', 'Fuel_consumption_', 'Electric_range_(km)']"
   ],
   "metadata": {
    "collapsed": false
   },
   "id": "39a5ac5e3768d4bf"
  },
  {
   "cell_type": "code",
   "execution_count": 8,
   "outputs": [],
   "source": [
    "X = train[var_explicatives]\n",
    "y = train[\"Ewltp_(g/km)\"]"
   ],
   "metadata": {
    "collapsed": false,
    "ExecuteTime": {
     "end_time": "2023-10-27T11:16:04.789391Z",
     "start_time": "2023-10-27T11:16:04.076146Z"
    }
   },
   "id": "4bc1d4232b82a334"
  },
  {
   "cell_type": "code",
   "execution_count": 11,
   "outputs": [],
   "source": [
    "X_train, X_test, y_train, y_test = train_test_split(X, y, test_size=0.2, random_state=0)"
   ],
   "metadata": {
    "collapsed": false,
    "ExecuteTime": {
     "end_time": "2023-10-27T11:16:30.000803Z",
     "start_time": "2023-10-27T11:16:27.534110Z"
    }
   },
   "id": "24ebfbda4879d6d"
  },
  {
   "cell_type": "code",
   "execution_count": 12,
   "outputs": [
    {
     "name": "stderr",
     "output_type": "stream",
     "text": [
      "/var/folders/12/33kq22951gn7jfpz3d32v_qc0000gn/T/ipykernel_32725/2816646882.py:6: SettingWithCopyWarning: \n",
      "A value is trying to be set on a copy of a slice from a DataFrame.\n",
      "Try using .loc[row_indexer,col_indexer] = value instead\n",
      "\n",
      "See the caveats in the documentation: https://pandas.pydata.org/pandas-docs/stable/user_guide/indexing.html#returning-a-view-versus-a-copy\n",
      "  test_rf[col] = encoder.transform(test_rf[col].values.reshape(-1,1))\n",
      "/var/folders/12/33kq22951gn7jfpz3d32v_qc0000gn/T/ipykernel_32725/2816646882.py:6: SettingWithCopyWarning: \n",
      "A value is trying to be set on a copy of a slice from a DataFrame.\n",
      "Try using .loc[row_indexer,col_indexer] = value instead\n",
      "\n",
      "See the caveats in the documentation: https://pandas.pydata.org/pandas-docs/stable/user_guide/indexing.html#returning-a-view-versus-a-copy\n",
      "  test_rf[col] = encoder.transform(test_rf[col].values.reshape(-1,1))\n",
      "/var/folders/12/33kq22951gn7jfpz3d32v_qc0000gn/T/ipykernel_32725/2816646882.py:6: SettingWithCopyWarning: \n",
      "A value is trying to be set on a copy of a slice from a DataFrame.\n",
      "Try using .loc[row_indexer,col_indexer] = value instead\n",
      "\n",
      "See the caveats in the documentation: https://pandas.pydata.org/pandas-docs/stable/user_guide/indexing.html#returning-a-view-versus-a-copy\n",
      "  test_rf[col] = encoder.transform(test_rf[col].values.reshape(-1,1))\n",
      "/var/folders/12/33kq22951gn7jfpz3d32v_qc0000gn/T/ipykernel_32725/2816646882.py:6: SettingWithCopyWarning: \n",
      "A value is trying to be set on a copy of a slice from a DataFrame.\n",
      "Try using .loc[row_indexer,col_indexer] = value instead\n",
      "\n",
      "See the caveats in the documentation: https://pandas.pydata.org/pandas-docs/stable/user_guide/indexing.html#returning-a-view-versus-a-copy\n",
      "  test_rf[col] = encoder.transform(test_rf[col].values.reshape(-1,1))\n",
      "/var/folders/12/33kq22951gn7jfpz3d32v_qc0000gn/T/ipykernel_32725/2816646882.py:6: SettingWithCopyWarning: \n",
      "A value is trying to be set on a copy of a slice from a DataFrame.\n",
      "Try using .loc[row_indexer,col_indexer] = value instead\n",
      "\n",
      "See the caveats in the documentation: https://pandas.pydata.org/pandas-docs/stable/user_guide/indexing.html#returning-a-view-versus-a-copy\n",
      "  test_rf[col] = encoder.transform(test_rf[col].values.reshape(-1,1))\n",
      "/var/folders/12/33kq22951gn7jfpz3d32v_qc0000gn/T/ipykernel_32725/2816646882.py:6: SettingWithCopyWarning: \n",
      "A value is trying to be set on a copy of a slice from a DataFrame.\n",
      "Try using .loc[row_indexer,col_indexer] = value instead\n",
      "\n",
      "See the caveats in the documentation: https://pandas.pydata.org/pandas-docs/stable/user_guide/indexing.html#returning-a-view-versus-a-copy\n",
      "  test_rf[col] = encoder.transform(test_rf[col].values.reshape(-1,1))\n",
      "/var/folders/12/33kq22951gn7jfpz3d32v_qc0000gn/T/ipykernel_32725/2816646882.py:6: SettingWithCopyWarning: \n",
      "A value is trying to be set on a copy of a slice from a DataFrame.\n",
      "Try using .loc[row_indexer,col_indexer] = value instead\n",
      "\n",
      "See the caveats in the documentation: https://pandas.pydata.org/pandas-docs/stable/user_guide/indexing.html#returning-a-view-versus-a-copy\n",
      "  test_rf[col] = encoder.transform(test_rf[col].values.reshape(-1,1))\n",
      "/var/folders/12/33kq22951gn7jfpz3d32v_qc0000gn/T/ipykernel_32725/2816646882.py:6: SettingWithCopyWarning: \n",
      "A value is trying to be set on a copy of a slice from a DataFrame.\n",
      "Try using .loc[row_indexer,col_indexer] = value instead\n",
      "\n",
      "See the caveats in the documentation: https://pandas.pydata.org/pandas-docs/stable/user_guide/indexing.html#returning-a-view-versus-a-copy\n",
      "  test_rf[col] = encoder.transform(test_rf[col].values.reshape(-1,1))\n"
     ]
    }
   ],
   "source": [
    "encoder = TargetEncoder()\n",
    "cat_col = train[var_explicatives].select_dtypes(include=\"object\")\n",
    "for col in cat_col:\n",
    "    X_train[col] = encoder.fit_transform(X_train[col].values.reshape(-1,1),y_train)\n",
    "    X_test[col] = encoder.transform(X_test[col].values.reshape(-1,1))\n",
    "    test_rf[col] = encoder.transform(test_rf[col].values.reshape(-1,1))"
   ],
   "metadata": {
    "collapsed": false,
    "ExecuteTime": {
     "end_time": "2023-10-27T11:17:07.859299Z",
     "start_time": "2023-10-27T11:16:36.563865Z"
    }
   },
   "id": "3d045d8525f24aa1"
  },
  {
   "cell_type": "markdown",
   "source": [
    "# Modélisation Random Forest"
   ],
   "metadata": {
    "collapsed": false
   },
   "id": "a112c13593c9d6c5"
  },
  {
   "cell_type": "code",
   "execution_count": 13,
   "outputs": [],
   "source": [
    "N_ESTIMATORS = 100\n",
    "MAX_DEPTH = 20\n",
    "N_ITERATION = 100"
   ],
   "metadata": {
    "collapsed": false,
    "ExecuteTime": {
     "end_time": "2023-10-27T11:17:07.859759Z",
     "start_time": "2023-10-27T11:17:07.856446Z"
    }
   },
   "id": "27d004b55ca62292"
  },
  {
   "cell_type": "code",
   "execution_count": 14,
   "outputs": [
    {
     "name": "stdout",
     "output_type": "stream",
     "text": [
      "fit en cours... ⏳\n",
      "fit terminé ✅\n"
     ]
    }
   ],
   "source": [
    "rf_model = RandomForestRegressor(n_estimators=N_ESTIMATORS, max_depth=MAX_DEPTH, random_state=0)\n",
    "\n",
    "print(\"fit en cours... ⏳\")\n",
    "rf_model.fit(X_train, y_train)\n",
    "print(\"fit terminé ✅\")"
   ],
   "metadata": {
    "collapsed": false,
    "ExecuteTime": {
     "end_time": "2023-10-27T13:10:43.703882Z",
     "start_time": "2023-10-27T11:17:14.609Z"
    }
   },
   "id": "41ed3d48fa7df2fe"
  },
  {
   "cell_type": "code",
   "execution_count": 15,
   "outputs": [
    {
     "name": "stdout",
     "output_type": "stream",
     "text": [
      "predict en cours... ⏳\n",
      "predict terminé ✅\n"
     ]
    }
   ],
   "source": [
    "print(\"predict en cours... ⏳\")\n",
    "y_pred = rf_model.predict(X_test)\n",
    "print(\"predict terminé ✅\")"
   ],
   "metadata": {
    "collapsed": false,
    "ExecuteTime": {
     "end_time": "2023-10-27T13:20:18.289885Z",
     "start_time": "2023-10-27T13:19:43.826936Z"
    }
   },
   "id": "d3384cf0ee69b8ca"
  },
  {
   "cell_type": "code",
   "execution_count": 16,
   "outputs": [
    {
     "name": "stdout",
     "output_type": "stream",
     "text": [
      "MAE de la random forest : 2.9940168319148577\n"
     ]
    }
   ],
   "source": [
    "mae_rf = mean_absolute_error(y_test, y_pred)\n",
    "print(f\"MAE de la random forest : {mae_rf}\")"
   ],
   "metadata": {
    "collapsed": false,
    "ExecuteTime": {
     "end_time": "2023-10-27T13:20:18.313099Z",
     "start_time": "2023-10-27T13:20:18.288447Z"
    }
   },
   "id": "7134b4bc6e4f1bd7"
  },
  {
   "cell_type": "markdown",
   "source": [
    "# Sauvegarde des Artefacts"
   ],
   "metadata": {
    "collapsed": false
   },
   "id": "518ef747eb5c6708"
  },
  {
   "cell_type": "code",
   "execution_count": 17,
   "outputs": [],
   "source": [
    "parameters_dictionnary = {\"Model\" : \"RandomForest\", \n",
    "                          \"N_ESTIMATORS\" : N_ESTIMATORS, \n",
    "                          'MAX_DEPTH' : MAX_DEPTH,\n",
    "                          \"N_ITERATION\" : N_ITERATION,\n",
    "                          \"MAE\" : mae_rf}"
   ],
   "metadata": {
    "collapsed": false,
    "ExecuteTime": {
     "end_time": "2023-10-27T13:20:41.032975Z",
     "start_time": "2023-10-27T13:20:41.026964Z"
    }
   },
   "id": "ed8d9e280bb2221c"
  },
  {
   "cell_type": "code",
   "execution_count": 18,
   "outputs": [
    {
     "data": {
      "text/plain": "['../artefacts/RF_2.99/RF.joblib']"
     },
     "execution_count": 18,
     "metadata": {},
     "output_type": "execute_result"
    }
   ],
   "source": [
    "if not os.path.exists(\"../artefacts/\"):\n",
    "    os.makedirs(\"../artefacts/\")\n",
    "\n",
    "if not os.path.exists(f\"../artefacts/RF_{round(mae_rf,2)}\"):\n",
    "    os.makedirs(f\"../artefacts/RF_{round(mae_rf,2)}\")\n",
    "\n",
    "with open(f\"../artefacts/RF_{round(mae_rf,2)}/parameters\", \"w\") as json_file:\n",
    "    json.dump(parameters_dictionnary, json_file)\n",
    "\n",
    "dump(rf_model, f\"../artefacts/RF_{round(mae_rf,2)}/RF.joblib\")"
   ],
   "metadata": {
    "collapsed": false,
    "ExecuteTime": {
     "end_time": "2023-10-27T13:20:46.041121Z",
     "start_time": "2023-10-27T13:20:45.103049Z"
    }
   },
   "id": "fbf2b4c0e99f7605"
  },
  {
   "cell_type": "markdown",
   "source": [
    "# Submission"
   ],
   "metadata": {
    "collapsed": false
   },
   "id": "8c3275fa0edc0d5f"
  },
  {
   "cell_type": "code",
   "execution_count": null,
   "outputs": [],
   "source": [
    "test_rf = test[var_explicatives]"
   ],
   "metadata": {
    "collapsed": false
   },
   "id": "7b373e73226b9170"
  },
  {
   "cell_type": "code",
   "execution_count": 20,
   "outputs": [],
   "source": [
    "prediction = rf_model.predict(test_rf)\n",
    "\n",
    "submission = test[[\"ID\"]].copy()  \n",
    "submission[\"Ewltp (g/km)\"] = prediction\n",
    "submission.to_csv(\"../data/sample_submission5.csv\", index=False)"
   ],
   "metadata": {
    "collapsed": false,
    "ExecuteTime": {
     "end_time": "2023-10-27T13:21:45.841159Z",
     "start_time": "2023-10-27T13:21:19.428405Z"
    }
   },
   "id": "226faebfcc343d8c"
  }
 ],
 "metadata": {
  "kernelspec": {
   "display_name": "Python 3",
   "language": "python",
   "name": "python3"
  },
  "language_info": {
   "codemirror_mode": {
    "name": "ipython",
    "version": 2
   },
   "file_extension": ".py",
   "mimetype": "text/x-python",
   "name": "python",
   "nbconvert_exporter": "python",
   "pygments_lexer": "ipython2",
   "version": "2.7.6"
  }
 },
 "nbformat": 4,
 "nbformat_minor": 5
}
