{
 "cells": [
  {
   "cell_type": "code",
   "execution_count": 8,
   "id": "initial_id",
   "metadata": {
    "collapsed": true,
    "ExecuteTime": {
     "end_time": "2023-10-25T07:59:03.845127100Z",
     "start_time": "2023-10-25T07:59:03.811939700Z"
    }
   },
   "outputs": [],
   "source": [
    "import pandas as pd\n",
    "import sys \n",
    "sys.path.append(\"../src/\")\n",
    "import numpy as np\n",
    "\n",
    "import analyse_exploratoire as ae\n",
    "import data_prep as dp\n",
    "\n",
    "import matplotlib.pyplot as plt\n",
    "import seaborn as sns\n",
    "import pandas as pd"
   ]
  },
  {
   "cell_type": "code",
   "execution_count": 9,
   "outputs": [
    {
     "name": "stderr",
     "output_type": "stream",
     "text": [
      "C:\\Users\\baheu\\AppData\\Local\\Temp\\ipykernel_55024\\176984250.py:1: DtypeWarning: Columns (28) have mixed types. Specify dtype option on import or set low_memory=False.\n",
      "  train = pd.read_csv(\"../data/train.csv\")\n",
      "C:\\Users\\baheu\\AppData\\Local\\Temp\\ipykernel_55024\\176984250.py:2: DtypeWarning: Columns (27) have mixed types. Specify dtype option on import or set low_memory=False.\n",
      "  test = pd.read_csv(\"../data/test.csv\")\n"
     ]
    }
   ],
   "source": [
    "train = pd.read_csv(\"../data/train.csv\")\n",
    "test = pd.read_csv(\"../data/test.csv\")"
   ],
   "metadata": {
    "collapsed": false,
    "ExecuteTime": {
     "end_time": "2023-10-25T08:00:02.689139Z",
     "start_time": "2023-10-25T07:59:03.836682500Z"
    }
   },
   "id": "8ac1439fe4828521"
  },
  {
   "cell_type": "code",
   "execution_count": null,
   "outputs": [],
   "source": [
    "\n",
    "def_variable = {\n",
    "    \"ID\": \"Identification number\",\n",
    "    \"MS\": \"Member state\",\n",
    "    \"Mp\": \"Manufacturer pooling\",\n",
    "    \"VFN\": \"Vehicle family identification number\",\n",
    "    \"Mh\": \"Manufacturer name\",\n",
    "    \"EU standard denomination\": \"EU standard denomination\",\n",
    "    \"Man\": \"Manufacturer name OEM declaration\",\n",
    "    \"MMS\": \"Manufacturer name MS registry denomination\",\n",
    "    \"Tan\": \"Type approval number\",\n",
    "    \"T\": \"Type\",\n",
    "    \"Va\": \"Variant\",\n",
    "    \"Ve\": \"Version\",\n",
    "    \"Mk\": \"Make\",\n",
    "    \"Cn\": \"Commercial name\",\n",
    "    \"Ct\": \"Category of the vehicle type approved\",\n",
    "    \"Cr\": \"Category of the vehicle registered\",\n",
    "    \"m (kg)\": \"Mass in running order Completed/complete vehicle\",\n",
    "    \"Mt\": \"WLTP test mass\",\n",
    "    \"Enedc (g/km)\": \"Specific CO2 Emissions (NEDC)\",\n",
    "    \"Ewltp (g/km)\": \"Specific CO2 Emissions (WLTP)\",\n",
    "    \"W (mm)\": \"Wheel Base\",\n",
    "    \"At1 (mm)\": \"Axle width steering axle\",\n",
    "    \"At2 (mm)\": \"Axle width other axle\",\n",
    "    \"Ft\": \"Fuel type\",\n",
    "    \"Fm\": \"Fuel mode\",\n",
    "    \"ec (cm3)\": \"Engine capacity\",\n",
    "    \"ep (KW)\": \"Engine power\",\n",
    "    \"z (Wh/km)\": \"Electric energy consumption\",\n",
    "    \"IT\": \"Innovative technology or group of innovative technologies\",\n",
    "    \"Ernedc (g/km)\": \"Emissions reduction through innovative technologies\",\n",
    "    \"Erwltp (g/km)\": \"Emissions reduction through innovative technologies (WLTP)\",\n",
    "    \"De\": \"Deviation factor\",\n",
    "    \"Vf\": \"Verification factor\",\n",
    "    \"r\": \"Total new registrations\",\n",
    "    \"Country\" : \"country\", \n",
    "    \"Status\" : \"Status\", \n",
    "    'Date of registration' : \"Date of Registration\"\n",
    "}"
   ],
   "metadata": {
    "collapsed": false,
    "ExecuteTime": {
     "start_time": "2023-10-24T12:30:01.424742Z"
    }
   },
   "id": "5fea9d09c2ceead2"
  },
  {
   "cell_type": "code",
   "execution_count": null,
   "outputs": [],
   "source": [
    "preprocess = dp.DataPreparation(train,test)"
   ],
   "metadata": {
    "collapsed": false
   },
   "id": "2cabde3dc16cd8d"
  },
  {
   "cell_type": "code",
   "execution_count": null,
   "outputs": [],
   "source": [
    "train_clean,test_clean = preprocess.prepare_data()"
   ],
   "metadata": {
    "collapsed": false,
    "ExecuteTime": {
     "start_time": "2023-10-25T08:28:21.919282700Z"
    }
   },
   "id": "b67a4f03c119bd02"
  },
  {
   "cell_type": "code",
   "execution_count": 7,
   "outputs": [
    {
     "data": {
      "text/plain": "Country    0.0\nVFN        0.0\nMh         0.0\nMan        0.0\nTan        0.0\nT          0.0\nVa         0.0\nVe         0.0\nMk         0.0\nCn         0.0\nCt         0.0\nCr         0.0\nFt         0.0\nFm         0.0\ndtype: float64"
     },
     "execution_count": 7,
     "metadata": {},
     "output_type": "execute_result"
    }
   ],
   "source": [
    "train_clean.select_dtypes(include = object).isna().sum()/train_clean.shape[0]*100"
   ],
   "metadata": {
    "collapsed": false,
    "ExecuteTime": {
     "end_time": "2023-10-24T14:29:23.712967300Z",
     "start_time": "2023-10-24T14:29:19.224369800Z"
    }
   },
   "id": "ce72aad865928b43"
  },
  {
   "cell_type": "code",
   "execution_count": 8,
   "outputs": [
    {
     "data": {
      "text/plain": "    ID Country                       VFN             Mp                Mh  \\\n0    0      DE  IP-C519_2022_00008-WF0-1           FORD   FORD WERKE GMBH   \n1    1      FR  IP-MQB27ZZ_A2_0529-WVW-1     VOLKSWAGEN        VOLKSWAGEN   \n2    2      FR  IP-MQB27ZZ_A1_0533-WVW-1     VOLKSWAGEN        VOLKSWAGEN   \n3    3      DE       IP-04-U5Y-2018-1137            KIA      KIA SLOVAKIA   \n4    4      FR  IP-MQB27ZZ_B2_0534-WVW-1     VOLKSWAGEN        VOLKSWAGEN   \n5    5      CZ  IP-MQB27ZZ_A0_1019-TMB-1     VOLKSWAGEN             SKODA   \n6    6      DE       IP-04-U5Y-2018-1137            KIA      KIA SLOVAKIA   \n7    7      FR  IP-MQB27ZZ_B2_0534-WVW-1     VOLKSWAGEN        VOLKSWAGEN   \n8    8      CZ  IP-MQB27ZZ_A0_1019-TMB-1     VOLKSWAGEN             SKODA   \n9    9      DE        IP-2021_0416-W1K-1  MERCEDES-BENZ  MERCEDES-BENZ AG   \n10  10      CZ  IP-MQB27ZZ_A0_1019-TMB-1     VOLKSWAGEN             SKODA   \n11  11      DE       IP-04-U5Y-2018-1137            KIA      KIA SLOVAKIA   \n12  12      DE        IP-2021_0416-W1K-1  MERCEDES-BENZ  MERCEDES-BENZ AG   \n13  13      FR  IP-MQB27ZZ_B2_0534-WVW-1     VOLKSWAGEN        VOLKSWAGEN   \n14  14      DE        IP-2021_0416-W1K-1  MERCEDES-BENZ  MERCEDES-BENZ AG   \n15  15      FR  IP-MQB27ZZ_A2_0529-WVW-1     VOLKSWAGEN        VOLKSWAGEN   \n16  16      DE       IP-04-U5Y-2018-1137            KIA      KIA SLOVAKIA   \n17  17      DE       IP-04-U5Y-2018-1137            KIA      KIA SLOVAKIA   \n18  18      CZ  IP-MQB27ZZ_A0_1019-TMB-1     VOLKSWAGEN             SKODA   \n19  19      CZ  IP-MQB27ZZ_A0_1019-TMB-1     VOLKSWAGEN             SKODA   \n\n                 Man  MMS                   Tan      T        Va  ...  \\\n0    FORD WERKE GMBH  NaN   e13*2007/46*1911*15    DEH   R0DB1NX  ...   \n1      VOLKSWAGEN AG  NaN    e1*2007/46*1783*29     AW    ABDLAC  ...   \n2      VOLKSWAGEN AG  NaN    e1*2007/46*1783*29     AW    ABDLAC  ...   \n3   KIA SLOVAKIA SRO  NaN    e4*2007/46*1299*18     CD     BAP71  ...   \n4      VOLKSWAGEN AG  NaN    e1*2007/46*1783*29     AW    ABDLAA  ...   \n5      SKODA AUTO AS  NaN  e8*2018/858*00014*01     PJ  ABDLACX0  ...   \n6   KIA SLOVAKIA SRO  NaN    e4*2007/46*1299*18     CD     BAP71  ...   \n7      VOLKSWAGEN AG  NaN    e1*2007/46*1783*29     AW    ABDLAA  ...   \n8      SKODA AUTO AS  NaN  e8*2018/858*00014*01     PJ  ABDLACX0  ...   \n9   MERCEDES-BENZ AG  NaN    e1*2007/46*1912*18  F2CLA    338QT2  ...   \n10     SKODA AUTO AS  NaN  e8*2018/858*00014*01     PJ  ABDLACX0  ...   \n11  KIA SLOVAKIA SRO  NaN    e4*2007/46*1299*18     CD     BAP71  ...   \n12  MERCEDES-BENZ AG  NaN    e1*2007/46*1912*18  F2CLA    338QT2  ...   \n13     VOLKSWAGEN AG  NaN    e1*2007/46*1783*29     AW    ABDLAA  ...   \n14  MERCEDES-BENZ AG  NaN    e1*2007/46*1912*18  F2CLA    338QT2  ...   \n15     VOLKSWAGEN AG  NaN    e1*2007/46*1783*29     AW    ABDLAC  ...   \n16  KIA SLOVAKIA SRO  NaN    e4*2007/46*1299*18     CD     BAP71  ...   \n17  KIA SLOVAKIA SRO  NaN    e4*2007/46*1299*18     CD     BAP71  ...   \n18     SKODA AUTO AS  NaN  e8*2018/858*00014*01     PJ  ABDLACX0  ...   \n19     SKODA AUTO AS  NaN  e8*2018/858*00014*01     PJ  ABDLACX0  ...   \n\n   z (Wh/km)         IT Ernedc (g/km) Erwltp (g/km)  De  Vf  Status  \\\n0        NaN  e13 32 37           NaN          2.30 NaN NaN       P   \n1        NaN      e1 29           NaN          1.14 NaN NaN       P   \n2        NaN      e1 29           NaN          1.14 NaN NaN       P   \n3        NaN      e4 28           NaN          0.80 NaN NaN       P   \n4        NaN      e1 29           NaN          1.14 NaN NaN       P   \n5        NaN   e8 29 37           NaN          2.10 NaN NaN       P   \n6        NaN      e4 28           NaN          0.80 NaN NaN       P   \n7        NaN      e1 29           NaN          1.14 NaN NaN       P   \n8        NaN   e8 29 37           NaN          2.10 NaN NaN       P   \n9      180.0        NaN           NaN           NaN NaN NaN       P   \n10       NaN   e8 29 37           NaN          2.10 NaN NaN       P   \n11       NaN      e4 28           NaN          0.80 NaN NaN       P   \n12     175.0        NaN           NaN           NaN NaN NaN       P   \n13       NaN      e1 29           NaN          1.14 NaN NaN       P   \n14     179.0        NaN           NaN           NaN NaN NaN       P   \n15       NaN      e1 29           NaN          1.14 NaN NaN       P   \n16       NaN      e4 28           NaN          0.80 NaN NaN       P   \n17       NaN      e4 28           NaN          0.80 NaN NaN       P   \n18       NaN   e8 29 37           NaN          2.10 NaN NaN       P   \n19       NaN   e8 29 37           NaN          2.10 NaN NaN       P   \n\n    Date of registration  Fuel consumption   Electric range (km)  \n0             2022-08-29                5.6                  NaN  \n1             2022-02-22                5.5                  NaN  \n2             2022-03-26                5.6                  NaN  \n3             2022-09-01                6.8                  NaN  \n4             2022-01-21                5.9                  NaN  \n5             2022-05-05                5.1                  NaN  \n6             2022-09-20                6.8                  NaN  \n7             2022-01-12                5.9                  NaN  \n8             2022-02-14                5.1                  NaN  \n9             2022-11-25                1.0                  NaN  \n10            2022-01-24                5.1                  NaN  \n11            2022-09-30                6.8                  NaN  \n12            2022-11-25                0.9                  NaN  \n13            2022-01-24                5.9                  NaN  \n14            2022-11-22                1.0                  NaN  \n15            2022-04-13                5.2                  NaN  \n16            2022-10-04                6.8                  NaN  \n17            2022-10-07                6.8                  NaN  \n18            2022-01-03                5.1                  NaN  \n19            2022-02-03                5.2                  NaN  \n\n[20 rows x 37 columns]",
      "text/html": "<div>\n<style scoped>\n    .dataframe tbody tr th:only-of-type {\n        vertical-align: middle;\n    }\n\n    .dataframe tbody tr th {\n        vertical-align: top;\n    }\n\n    .dataframe thead th {\n        text-align: right;\n    }\n</style>\n<table border=\"1\" class=\"dataframe\">\n  <thead>\n    <tr style=\"text-align: right;\">\n      <th></th>\n      <th>ID</th>\n      <th>Country</th>\n      <th>VFN</th>\n      <th>Mp</th>\n      <th>Mh</th>\n      <th>Man</th>\n      <th>MMS</th>\n      <th>Tan</th>\n      <th>T</th>\n      <th>Va</th>\n      <th>...</th>\n      <th>z (Wh/km)</th>\n      <th>IT</th>\n      <th>Ernedc (g/km)</th>\n      <th>Erwltp (g/km)</th>\n      <th>De</th>\n      <th>Vf</th>\n      <th>Status</th>\n      <th>Date of registration</th>\n      <th>Fuel consumption</th>\n      <th>Electric range (km)</th>\n    </tr>\n  </thead>\n  <tbody>\n    <tr>\n      <th>0</th>\n      <td>0</td>\n      <td>DE</td>\n      <td>IP-C519_2022_00008-WF0-1</td>\n      <td>FORD</td>\n      <td>FORD WERKE GMBH</td>\n      <td>FORD WERKE GMBH</td>\n      <td>NaN</td>\n      <td>e13*2007/46*1911*15</td>\n      <td>DEH</td>\n      <td>R0DB1NX</td>\n      <td>...</td>\n      <td>NaN</td>\n      <td>e13 32 37</td>\n      <td>NaN</td>\n      <td>2.30</td>\n      <td>NaN</td>\n      <td>NaN</td>\n      <td>P</td>\n      <td>2022-08-29</td>\n      <td>5.6</td>\n      <td>NaN</td>\n    </tr>\n    <tr>\n      <th>1</th>\n      <td>1</td>\n      <td>FR</td>\n      <td>IP-MQB27ZZ_A2_0529-WVW-1</td>\n      <td>VOLKSWAGEN</td>\n      <td>VOLKSWAGEN</td>\n      <td>VOLKSWAGEN AG</td>\n      <td>NaN</td>\n      <td>e1*2007/46*1783*29</td>\n      <td>AW</td>\n      <td>ABDLAC</td>\n      <td>...</td>\n      <td>NaN</td>\n      <td>e1 29</td>\n      <td>NaN</td>\n      <td>1.14</td>\n      <td>NaN</td>\n      <td>NaN</td>\n      <td>P</td>\n      <td>2022-02-22</td>\n      <td>5.5</td>\n      <td>NaN</td>\n    </tr>\n    <tr>\n      <th>2</th>\n      <td>2</td>\n      <td>FR</td>\n      <td>IP-MQB27ZZ_A1_0533-WVW-1</td>\n      <td>VOLKSWAGEN</td>\n      <td>VOLKSWAGEN</td>\n      <td>VOLKSWAGEN AG</td>\n      <td>NaN</td>\n      <td>e1*2007/46*1783*29</td>\n      <td>AW</td>\n      <td>ABDLAC</td>\n      <td>...</td>\n      <td>NaN</td>\n      <td>e1 29</td>\n      <td>NaN</td>\n      <td>1.14</td>\n      <td>NaN</td>\n      <td>NaN</td>\n      <td>P</td>\n      <td>2022-03-26</td>\n      <td>5.6</td>\n      <td>NaN</td>\n    </tr>\n    <tr>\n      <th>3</th>\n      <td>3</td>\n      <td>DE</td>\n      <td>IP-04-U5Y-2018-1137</td>\n      <td>KIA</td>\n      <td>KIA SLOVAKIA</td>\n      <td>KIA SLOVAKIA SRO</td>\n      <td>NaN</td>\n      <td>e4*2007/46*1299*18</td>\n      <td>CD</td>\n      <td>BAP71</td>\n      <td>...</td>\n      <td>NaN</td>\n      <td>e4 28</td>\n      <td>NaN</td>\n      <td>0.80</td>\n      <td>NaN</td>\n      <td>NaN</td>\n      <td>P</td>\n      <td>2022-09-01</td>\n      <td>6.8</td>\n      <td>NaN</td>\n    </tr>\n    <tr>\n      <th>4</th>\n      <td>4</td>\n      <td>FR</td>\n      <td>IP-MQB27ZZ_B2_0534-WVW-1</td>\n      <td>VOLKSWAGEN</td>\n      <td>VOLKSWAGEN</td>\n      <td>VOLKSWAGEN AG</td>\n      <td>NaN</td>\n      <td>e1*2007/46*1783*29</td>\n      <td>AW</td>\n      <td>ABDLAA</td>\n      <td>...</td>\n      <td>NaN</td>\n      <td>e1 29</td>\n      <td>NaN</td>\n      <td>1.14</td>\n      <td>NaN</td>\n      <td>NaN</td>\n      <td>P</td>\n      <td>2022-01-21</td>\n      <td>5.9</td>\n      <td>NaN</td>\n    </tr>\n    <tr>\n      <th>5</th>\n      <td>5</td>\n      <td>CZ</td>\n      <td>IP-MQB27ZZ_A0_1019-TMB-1</td>\n      <td>VOLKSWAGEN</td>\n      <td>SKODA</td>\n      <td>SKODA AUTO AS</td>\n      <td>NaN</td>\n      <td>e8*2018/858*00014*01</td>\n      <td>PJ</td>\n      <td>ABDLACX0</td>\n      <td>...</td>\n      <td>NaN</td>\n      <td>e8 29 37</td>\n      <td>NaN</td>\n      <td>2.10</td>\n      <td>NaN</td>\n      <td>NaN</td>\n      <td>P</td>\n      <td>2022-05-05</td>\n      <td>5.1</td>\n      <td>NaN</td>\n    </tr>\n    <tr>\n      <th>6</th>\n      <td>6</td>\n      <td>DE</td>\n      <td>IP-04-U5Y-2018-1137</td>\n      <td>KIA</td>\n      <td>KIA SLOVAKIA</td>\n      <td>KIA SLOVAKIA SRO</td>\n      <td>NaN</td>\n      <td>e4*2007/46*1299*18</td>\n      <td>CD</td>\n      <td>BAP71</td>\n      <td>...</td>\n      <td>NaN</td>\n      <td>e4 28</td>\n      <td>NaN</td>\n      <td>0.80</td>\n      <td>NaN</td>\n      <td>NaN</td>\n      <td>P</td>\n      <td>2022-09-20</td>\n      <td>6.8</td>\n      <td>NaN</td>\n    </tr>\n    <tr>\n      <th>7</th>\n      <td>7</td>\n      <td>FR</td>\n      <td>IP-MQB27ZZ_B2_0534-WVW-1</td>\n      <td>VOLKSWAGEN</td>\n      <td>VOLKSWAGEN</td>\n      <td>VOLKSWAGEN AG</td>\n      <td>NaN</td>\n      <td>e1*2007/46*1783*29</td>\n      <td>AW</td>\n      <td>ABDLAA</td>\n      <td>...</td>\n      <td>NaN</td>\n      <td>e1 29</td>\n      <td>NaN</td>\n      <td>1.14</td>\n      <td>NaN</td>\n      <td>NaN</td>\n      <td>P</td>\n      <td>2022-01-12</td>\n      <td>5.9</td>\n      <td>NaN</td>\n    </tr>\n    <tr>\n      <th>8</th>\n      <td>8</td>\n      <td>CZ</td>\n      <td>IP-MQB27ZZ_A0_1019-TMB-1</td>\n      <td>VOLKSWAGEN</td>\n      <td>SKODA</td>\n      <td>SKODA AUTO AS</td>\n      <td>NaN</td>\n      <td>e8*2018/858*00014*01</td>\n      <td>PJ</td>\n      <td>ABDLACX0</td>\n      <td>...</td>\n      <td>NaN</td>\n      <td>e8 29 37</td>\n      <td>NaN</td>\n      <td>2.10</td>\n      <td>NaN</td>\n      <td>NaN</td>\n      <td>P</td>\n      <td>2022-02-14</td>\n      <td>5.1</td>\n      <td>NaN</td>\n    </tr>\n    <tr>\n      <th>9</th>\n      <td>9</td>\n      <td>DE</td>\n      <td>IP-2021_0416-W1K-1</td>\n      <td>MERCEDES-BENZ</td>\n      <td>MERCEDES-BENZ AG</td>\n      <td>MERCEDES-BENZ AG</td>\n      <td>NaN</td>\n      <td>e1*2007/46*1912*18</td>\n      <td>F2CLA</td>\n      <td>338QT2</td>\n      <td>...</td>\n      <td>180.0</td>\n      <td>NaN</td>\n      <td>NaN</td>\n      <td>NaN</td>\n      <td>NaN</td>\n      <td>NaN</td>\n      <td>P</td>\n      <td>2022-11-25</td>\n      <td>1.0</td>\n      <td>NaN</td>\n    </tr>\n    <tr>\n      <th>10</th>\n      <td>10</td>\n      <td>CZ</td>\n      <td>IP-MQB27ZZ_A0_1019-TMB-1</td>\n      <td>VOLKSWAGEN</td>\n      <td>SKODA</td>\n      <td>SKODA AUTO AS</td>\n      <td>NaN</td>\n      <td>e8*2018/858*00014*01</td>\n      <td>PJ</td>\n      <td>ABDLACX0</td>\n      <td>...</td>\n      <td>NaN</td>\n      <td>e8 29 37</td>\n      <td>NaN</td>\n      <td>2.10</td>\n      <td>NaN</td>\n      <td>NaN</td>\n      <td>P</td>\n      <td>2022-01-24</td>\n      <td>5.1</td>\n      <td>NaN</td>\n    </tr>\n    <tr>\n      <th>11</th>\n      <td>11</td>\n      <td>DE</td>\n      <td>IP-04-U5Y-2018-1137</td>\n      <td>KIA</td>\n      <td>KIA SLOVAKIA</td>\n      <td>KIA SLOVAKIA SRO</td>\n      <td>NaN</td>\n      <td>e4*2007/46*1299*18</td>\n      <td>CD</td>\n      <td>BAP71</td>\n      <td>...</td>\n      <td>NaN</td>\n      <td>e4 28</td>\n      <td>NaN</td>\n      <td>0.80</td>\n      <td>NaN</td>\n      <td>NaN</td>\n      <td>P</td>\n      <td>2022-09-30</td>\n      <td>6.8</td>\n      <td>NaN</td>\n    </tr>\n    <tr>\n      <th>12</th>\n      <td>12</td>\n      <td>DE</td>\n      <td>IP-2021_0416-W1K-1</td>\n      <td>MERCEDES-BENZ</td>\n      <td>MERCEDES-BENZ AG</td>\n      <td>MERCEDES-BENZ AG</td>\n      <td>NaN</td>\n      <td>e1*2007/46*1912*18</td>\n      <td>F2CLA</td>\n      <td>338QT2</td>\n      <td>...</td>\n      <td>175.0</td>\n      <td>NaN</td>\n      <td>NaN</td>\n      <td>NaN</td>\n      <td>NaN</td>\n      <td>NaN</td>\n      <td>P</td>\n      <td>2022-11-25</td>\n      <td>0.9</td>\n      <td>NaN</td>\n    </tr>\n    <tr>\n      <th>13</th>\n      <td>13</td>\n      <td>FR</td>\n      <td>IP-MQB27ZZ_B2_0534-WVW-1</td>\n      <td>VOLKSWAGEN</td>\n      <td>VOLKSWAGEN</td>\n      <td>VOLKSWAGEN AG</td>\n      <td>NaN</td>\n      <td>e1*2007/46*1783*29</td>\n      <td>AW</td>\n      <td>ABDLAA</td>\n      <td>...</td>\n      <td>NaN</td>\n      <td>e1 29</td>\n      <td>NaN</td>\n      <td>1.14</td>\n      <td>NaN</td>\n      <td>NaN</td>\n      <td>P</td>\n      <td>2022-01-24</td>\n      <td>5.9</td>\n      <td>NaN</td>\n    </tr>\n    <tr>\n      <th>14</th>\n      <td>14</td>\n      <td>DE</td>\n      <td>IP-2021_0416-W1K-1</td>\n      <td>MERCEDES-BENZ</td>\n      <td>MERCEDES-BENZ AG</td>\n      <td>MERCEDES-BENZ AG</td>\n      <td>NaN</td>\n      <td>e1*2007/46*1912*18</td>\n      <td>F2CLA</td>\n      <td>338QT2</td>\n      <td>...</td>\n      <td>179.0</td>\n      <td>NaN</td>\n      <td>NaN</td>\n      <td>NaN</td>\n      <td>NaN</td>\n      <td>NaN</td>\n      <td>P</td>\n      <td>2022-11-22</td>\n      <td>1.0</td>\n      <td>NaN</td>\n    </tr>\n    <tr>\n      <th>15</th>\n      <td>15</td>\n      <td>FR</td>\n      <td>IP-MQB27ZZ_A2_0529-WVW-1</td>\n      <td>VOLKSWAGEN</td>\n      <td>VOLKSWAGEN</td>\n      <td>VOLKSWAGEN AG</td>\n      <td>NaN</td>\n      <td>e1*2007/46*1783*29</td>\n      <td>AW</td>\n      <td>ABDLAC</td>\n      <td>...</td>\n      <td>NaN</td>\n      <td>e1 29</td>\n      <td>NaN</td>\n      <td>1.14</td>\n      <td>NaN</td>\n      <td>NaN</td>\n      <td>P</td>\n      <td>2022-04-13</td>\n      <td>5.2</td>\n      <td>NaN</td>\n    </tr>\n    <tr>\n      <th>16</th>\n      <td>16</td>\n      <td>DE</td>\n      <td>IP-04-U5Y-2018-1137</td>\n      <td>KIA</td>\n      <td>KIA SLOVAKIA</td>\n      <td>KIA SLOVAKIA SRO</td>\n      <td>NaN</td>\n      <td>e4*2007/46*1299*18</td>\n      <td>CD</td>\n      <td>BAP71</td>\n      <td>...</td>\n      <td>NaN</td>\n      <td>e4 28</td>\n      <td>NaN</td>\n      <td>0.80</td>\n      <td>NaN</td>\n      <td>NaN</td>\n      <td>P</td>\n      <td>2022-10-04</td>\n      <td>6.8</td>\n      <td>NaN</td>\n    </tr>\n    <tr>\n      <th>17</th>\n      <td>17</td>\n      <td>DE</td>\n      <td>IP-04-U5Y-2018-1137</td>\n      <td>KIA</td>\n      <td>KIA SLOVAKIA</td>\n      <td>KIA SLOVAKIA SRO</td>\n      <td>NaN</td>\n      <td>e4*2007/46*1299*18</td>\n      <td>CD</td>\n      <td>BAP71</td>\n      <td>...</td>\n      <td>NaN</td>\n      <td>e4 28</td>\n      <td>NaN</td>\n      <td>0.80</td>\n      <td>NaN</td>\n      <td>NaN</td>\n      <td>P</td>\n      <td>2022-10-07</td>\n      <td>6.8</td>\n      <td>NaN</td>\n    </tr>\n    <tr>\n      <th>18</th>\n      <td>18</td>\n      <td>CZ</td>\n      <td>IP-MQB27ZZ_A0_1019-TMB-1</td>\n      <td>VOLKSWAGEN</td>\n      <td>SKODA</td>\n      <td>SKODA AUTO AS</td>\n      <td>NaN</td>\n      <td>e8*2018/858*00014*01</td>\n      <td>PJ</td>\n      <td>ABDLACX0</td>\n      <td>...</td>\n      <td>NaN</td>\n      <td>e8 29 37</td>\n      <td>NaN</td>\n      <td>2.10</td>\n      <td>NaN</td>\n      <td>NaN</td>\n      <td>P</td>\n      <td>2022-01-03</td>\n      <td>5.1</td>\n      <td>NaN</td>\n    </tr>\n    <tr>\n      <th>19</th>\n      <td>19</td>\n      <td>CZ</td>\n      <td>IP-MQB27ZZ_A0_1019-TMB-1</td>\n      <td>VOLKSWAGEN</td>\n      <td>SKODA</td>\n      <td>SKODA AUTO AS</td>\n      <td>NaN</td>\n      <td>e8*2018/858*00014*01</td>\n      <td>PJ</td>\n      <td>ABDLACX0</td>\n      <td>...</td>\n      <td>NaN</td>\n      <td>e8 29 37</td>\n      <td>NaN</td>\n      <td>2.10</td>\n      <td>NaN</td>\n      <td>NaN</td>\n      <td>P</td>\n      <td>2022-02-03</td>\n      <td>5.2</td>\n      <td>NaN</td>\n    </tr>\n  </tbody>\n</table>\n<p>20 rows × 37 columns</p>\n</div>"
     },
     "execution_count": 8,
     "metadata": {},
     "output_type": "execute_result"
    }
   ],
   "source": [
    "train.head(20)"
   ],
   "metadata": {
    "collapsed": false,
    "ExecuteTime": {
     "end_time": "2023-10-24T17:01:15.397940600Z",
     "start_time": "2023-10-24T17:01:15.338877300Z"
    }
   },
   "id": "e8ec2e38ec945688"
  },
  {
   "cell_type": "code",
   "execution_count": 19,
   "outputs": [
    {
     "data": {
      "text/plain": "Empty DataFrame\nColumns: [ID, Country, VFN, Mp, Mh, Man, MMS, Tan, T, Va, Ve, Mk, Cn, Ct, Cr, r, m (kg), Mt, Enedc (g/km), Ewltp (g/km), W (mm), At1 (mm), At2 (mm), Ft, Fm, ec (cm3), ep (KW), z (Wh/km), IT, Ernedc (g/km), Erwltp (g/km), De, Vf, Status, Date of registration, Fuel consumption , Electric range (km)]\nIndex: []\n\n[0 rows x 37 columns]",
      "text/html": "<div>\n<style scoped>\n    .dataframe tbody tr th:only-of-type {\n        vertical-align: middle;\n    }\n\n    .dataframe tbody tr th {\n        vertical-align: top;\n    }\n\n    .dataframe thead th {\n        text-align: right;\n    }\n</style>\n<table border=\"1\" class=\"dataframe\">\n  <thead>\n    <tr style=\"text-align: right;\">\n      <th></th>\n      <th>ID</th>\n      <th>Country</th>\n      <th>VFN</th>\n      <th>Mp</th>\n      <th>Mh</th>\n      <th>Man</th>\n      <th>MMS</th>\n      <th>Tan</th>\n      <th>T</th>\n      <th>Va</th>\n      <th>...</th>\n      <th>z (Wh/km)</th>\n      <th>IT</th>\n      <th>Ernedc (g/km)</th>\n      <th>Erwltp (g/km)</th>\n      <th>De</th>\n      <th>Vf</th>\n      <th>Status</th>\n      <th>Date of registration</th>\n      <th>Fuel consumption</th>\n      <th>Electric range (km)</th>\n    </tr>\n  </thead>\n  <tbody>\n  </tbody>\n</table>\n<p>0 rows × 37 columns</p>\n</div>"
     },
     "execution_count": 19,
     "metadata": {},
     "output_type": "execute_result"
    }
   ],
   "source": [
    "train.loc[train['T']=='FENGON 5']"
   ],
   "metadata": {
    "collapsed": false,
    "ExecuteTime": {
     "end_time": "2023-10-24T13:02:41.186217100Z",
     "start_time": "2023-10-24T13:02:40.776319Z"
    }
   },
   "id": "b36bae4111d4aa20"
  },
  {
   "cell_type": "code",
   "execution_count": 24,
   "outputs": [
    {
     "data": {
      "text/plain": "              ID Country                   VFN    Mh                Man  \\\n1516008  1516008      DE  IP-IX5_SFG15TA-LVZ-1  DFSK  DFSK MOTOR CO LTD   \n\n                        Tan            T       Va   Ve                  Mk  \\\n1516008  e4*ks07/46*0046*01  DXK6471AS3H  FENGON5  NaN  DFSK. SERES. SOKON   \n\n         ... At1 (mm) At2 (mm)      Ft  Fm  ec (cm3)  ep (KW)  \\\n1516008  ...   1580.0   1570.0  PETROL   M    1499.0    101.0   \n\n         Date of registration  Fuel consumption   Electric range (km)  \\\n1516008            2022-01-24            5.57649                  0.0   \n\n              date  \n1516008 2022-01-24  \n\n[1 rows x 27 columns]",
      "text/html": "<div>\n<style scoped>\n    .dataframe tbody tr th:only-of-type {\n        vertical-align: middle;\n    }\n\n    .dataframe tbody tr th {\n        vertical-align: top;\n    }\n\n    .dataframe thead th {\n        text-align: right;\n    }\n</style>\n<table border=\"1\" class=\"dataframe\">\n  <thead>\n    <tr style=\"text-align: right;\">\n      <th></th>\n      <th>ID</th>\n      <th>Country</th>\n      <th>VFN</th>\n      <th>Mh</th>\n      <th>Man</th>\n      <th>Tan</th>\n      <th>T</th>\n      <th>Va</th>\n      <th>Ve</th>\n      <th>Mk</th>\n      <th>...</th>\n      <th>At1 (mm)</th>\n      <th>At2 (mm)</th>\n      <th>Ft</th>\n      <th>Fm</th>\n      <th>ec (cm3)</th>\n      <th>ep (KW)</th>\n      <th>Date of registration</th>\n      <th>Fuel consumption</th>\n      <th>Electric range (km)</th>\n      <th>date</th>\n    </tr>\n  </thead>\n  <tbody>\n    <tr>\n      <th>1516008</th>\n      <td>1516008</td>\n      <td>DE</td>\n      <td>IP-IX5_SFG15TA-LVZ-1</td>\n      <td>DFSK</td>\n      <td>DFSK MOTOR CO LTD</td>\n      <td>e4*ks07/46*0046*01</td>\n      <td>DXK6471AS3H</td>\n      <td>FENGON5</td>\n      <td>NaN</td>\n      <td>DFSK. SERES. SOKON</td>\n      <td>...</td>\n      <td>1580.0</td>\n      <td>1570.0</td>\n      <td>PETROL</td>\n      <td>M</td>\n      <td>1499.0</td>\n      <td>101.0</td>\n      <td>2022-01-24</td>\n      <td>5.57649</td>\n      <td>0.0</td>\n      <td>2022-01-24</td>\n    </tr>\n  </tbody>\n</table>\n<p>1 rows × 27 columns</p>\n</div>"
     },
     "execution_count": 24,
     "metadata": {},
     "output_type": "execute_result"
    }
   ],
   "source": [
    "train_clean.loc[train_clean['ID']==1516008]"
   ],
   "metadata": {
    "collapsed": false,
    "ExecuteTime": {
     "end_time": "2023-10-24T13:19:37.347162700Z",
     "start_time": "2023-10-24T13:19:37.276700500Z"
    }
   },
   "id": "91768602a12b7"
  }
 ],
 "metadata": {
  "kernelspec": {
   "display_name": "Python 3",
   "language": "python",
   "name": "python3"
  },
  "language_info": {
   "codemirror_mode": {
    "name": "ipython",
    "version": 2
   },
   "file_extension": ".py",
   "mimetype": "text/x-python",
   "name": "python",
   "nbconvert_exporter": "python",
   "pygments_lexer": "ipython2",
   "version": "2.7.6"
  }
 },
 "nbformat": 4,
 "nbformat_minor": 5
}
