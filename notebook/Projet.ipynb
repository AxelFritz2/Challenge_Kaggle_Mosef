{
 "cells": [
  {
   "cell_type": "code",
   "execution_count": 1,
   "id": "initial_id",
   "metadata": {
    "collapsed": true,
    "ExecuteTime": {
     "end_time": "2023-10-24T14:24:28.648886300Z",
     "start_time": "2023-10-24T14:24:27.831677700Z"
    }
   },
   "outputs": [],
   "source": [
    "import pandas as pd\n",
    "import sys \n",
    "sys.path.append(\"../src/\")\n",
    "import numpy as np\n",
    "\n",
    "import analyse_exploratoire as ae\n",
    "import data_prep as dp\n",
    "\n",
    "import matplotlib.pyplot as plt\n",
    "import seaborn as sns\n",
    "import pandas as pd"
   ]
  },
  {
   "cell_type": "code",
   "execution_count": 2,
   "outputs": [
    {
     "name": "stderr",
     "output_type": "stream",
     "text": [
      "C:\\Users\\baheu\\AppData\\Local\\Temp\\ipykernel_69016\\176984250.py:1: DtypeWarning: Columns (28) have mixed types. Specify dtype option on import or set low_memory=False.\n",
      "  train = pd.read_csv(\"../data/train.csv\")\n",
      "C:\\Users\\baheu\\AppData\\Local\\Temp\\ipykernel_69016\\176984250.py:2: DtypeWarning: Columns (27) have mixed types. Specify dtype option on import or set low_memory=False.\n",
      "  test = pd.read_csv(\"../data/test.csv\")\n"
     ]
    }
   ],
   "source": [
    "train = pd.read_csv(\"../data/train.csv\")\n",
    "test = pd.read_csv(\"../data/test.csv\")"
   ],
   "metadata": {
    "collapsed": false,
    "ExecuteTime": {
     "end_time": "2023-10-24T14:25:15.606909500Z",
     "start_time": "2023-10-24T14:24:28.650882700Z"
    }
   },
   "id": "8ac1439fe4828521"
  },
  {
   "cell_type": "code",
   "execution_count": null,
   "outputs": [],
   "source": [
    "def_variable = {\n",
    "    \"ID\": \"Identification number\",\n",
    "    \"MS\": \"Member state\",\n",
    "    \"Mp\": \"Manufacturer pooling\",\n",
    "    \"VFN\": \"Vehicle family identification number\",\n",
    "    \"Mh\": \"Manufacturer name\",\n",
    "    \"EU standard denomination\": \"EU standard denomination\",\n",
    "    \"Man\": \"Manufacturer name OEM declaration\",\n",
    "    \"MMS\": \"Manufacturer name MS registry denomination\",\n",
    "    \"Tan\": \"Type approval number\",\n",
    "    \"T\": \"Type\",\n",
    "    \"Va\": \"Variant\",\n",
    "    \"Ve\": \"Version\",\n",
    "    \"Mk\": \"Make\",\n",
    "    \"Cn\": \"Commercial name\",\n",
    "    \"Ct\": \"Category of the vehicle type approved\",\n",
    "    \"Cr\": \"Category of the vehicle registered\",\n",
    "    \"m (kg)\": \"Mass in running order Completed/complete vehicle\",\n",
    "    \"Mt\": \"WLTP test mass\",\n",
    "    \"Enedc (g/km)\": \"Specific CO2 Emissions (NEDC)\",\n",
    "    \"Ewltp (g/km)\": \"Specific CO2 Emissions (WLTP)\",\n",
    "    \"W (mm)\": \"Wheel Base\",\n",
    "    \"At1 (mm)\": \"Axle width steering axle\",\n",
    "    \"At2 (mm)\": \"Axle width other axle\",\n",
    "    \"Ft\": \"Fuel type\",\n",
    "    \"Fm\": \"Fuel mode\",\n",
    "    \"ec (cm3)\": \"Engine capacity\",\n",
    "    \"ep (KW)\": \"Engine power\",\n",
    "    \"z (Wh/km)\": \"Electric energy consumption\",\n",
    "    \"IT\": \"Innovative technology or group of innovative technologies\",\n",
    "    \"Ernedc (g/km)\": \"Emissions reduction through innovative technologies\",\n",
    "    \"Erwltp (g/km)\": \"Emissions reduction through innovative technologies (WLTP)\",\n",
    "    \"De\": \"Deviation factor\",\n",
    "    \"Vf\": \"Verification factor\",\n",
    "    \"r\": \"Total new registrations\",\n",
    "    \"Country\" : \"country\", \n",
    "    \"Status\" : \"Status\", \n",
    "    'Date of registration' : \"Date of Registration\"\n",
    "}"
   ],
   "metadata": {
    "collapsed": false,
    "ExecuteTime": {
     "start_time": "2023-10-24T12:30:01.424742Z"
    }
   },
   "id": "5fea9d09c2ceead2"
  },
  {
   "cell_type": "markdown",
   "source": [
    "# Variables categorielles"
   ],
   "metadata": {
    "collapsed": false
   },
   "id": "ecc5c757e883d000"
  },
  {
   "cell_type": "code",
   "execution_count": 3,
   "outputs": [
    {
     "ename": "NameError",
     "evalue": "name 'df' is not defined",
     "output_type": "error",
     "traceback": [
      "\u001B[1;31m---------------------------------------------------------------------------\u001B[0m",
      "\u001B[1;31mNameError\u001B[0m                                 Traceback (most recent call last)",
      "Cell \u001B[1;32mIn[3], line 1\u001B[0m\n\u001B[1;32m----> 1\u001B[0m \u001B[38;5;28mround\u001B[39m(\u001B[43mdf\u001B[49m\u001B[38;5;241m.\u001B[39mselect_dtypes(include \u001B[38;5;241m=\u001B[39m \u001B[38;5;28mobject\u001B[39m)\u001B[38;5;241m.\u001B[39misna()\u001B[38;5;241m.\u001B[39msum()\u001B[38;5;241m/\u001B[39mdf\u001B[38;5;241m.\u001B[39mshape[\u001B[38;5;241m0\u001B[39m]\u001B[38;5;241m*\u001B[39m\u001B[38;5;241m100\u001B[39m,\u001B[38;5;241m2\u001B[39m)\n",
      "\u001B[1;31mNameError\u001B[0m: name 'df' is not defined"
     ]
    }
   ],
   "source": [
    "round(train.select_dtypes(include = object).isna().sum()/train.shape[0]*100,2)"
   ],
   "metadata": {
    "collapsed": false,
    "ExecuteTime": {
     "end_time": "2023-10-24T12:31:29.487429100Z",
     "start_time": "2023-10-24T12:31:26.410993600Z"
    }
   },
   "id": "85c490a0a8972b54"
  },
  {
   "cell_type": "code",
   "execution_count": null,
   "outputs": [],
   "source": [
    "df2 = train.copy()"
   ],
   "metadata": {
    "collapsed": false,
    "ExecuteTime": {
     "start_time": "2023-10-24T12:31:29.486237900Z"
    }
   },
   "id": "1630cfa2ed5daccd"
  },
  {
   "cell_type": "code",
   "execution_count": null,
   "outputs": [],
   "source": [
    "def impute_missing_values(df, column):\n",
    "    # Calcule le mode du groupe pour la colonne spécifiée\n",
    "    mode_by_group = df.groupby(column)['Mp'].transform(lambda x: x.mode().iloc[0] if not x.mode().empty else None)\n",
    "    \n",
    "    # Remplace les valeurs manquantes par le mode correspondant\n",
    "    df['Mp'].fillna(mode_by_group, inplace=True)\n",
    "\n",
    "def impute_mode_in_order(df, columns_order):\n",
    "    for column in columns_order:\n",
    "        impute_missing_values(df, column)\n",
    "\n",
    "def test(df):\n",
    "    columns_order = ['Mk', 'Mh','Man','Cn','Tan']\n",
    "    impute_mode_in_order(df, columns_order)\n",
    "    \n",
    "    return df['Mp'].isna().sum()\n",
    "\n",
    "result = test(df2)\n",
    "print(f\"Nombre de valeurs manquantes après imputation : {result}\")\n",
    "\n"
   ],
   "metadata": {
    "collapsed": false,
    "ExecuteTime": {
     "start_time": "2023-10-24T12:31:29.487429100Z"
    }
   },
   "id": "2bbc51cab74e7c23"
  },
  {
   "cell_type": "markdown",
   "source": [
    "## Visualisation des nan imputees"
   ],
   "metadata": {
    "collapsed": false
   },
   "id": "ac9f6d642bdd83dd"
  },
  {
   "cell_type": "code",
   "execution_count": 3,
   "outputs": [],
   "source": [
    "df2 = train.copy()"
   ],
   "metadata": {
    "collapsed": false,
    "ExecuteTime": {
     "end_time": "2023-10-24T14:25:17.305632500Z",
     "start_time": "2023-10-24T14:25:15.664568600Z"
    }
   },
   "id": "7e34c5d24af6decc"
  },
  {
   "cell_type": "code",
   "execution_count": 4,
   "outputs": [],
   "source": [
    "preprocess = dp.DataPreparation(train,test)"
   ],
   "metadata": {
    "collapsed": false,
    "ExecuteTime": {
     "end_time": "2023-10-24T14:25:19.395480200Z",
     "start_time": "2023-10-24T14:25:17.312121400Z"
    }
   },
   "id": "2cabde3dc16cd8d"
  },
  {
   "cell_type": "code",
   "execution_count": 5,
   "outputs": [],
   "source": [
    "index_mp_nan = train.loc[train['Mp'].isna()==True].index\n",
    "index_VFN_nan = train.loc[train['VFN'].isna()==True].index"
   ],
   "metadata": {
    "collapsed": false,
    "ExecuteTime": {
     "end_time": "2023-10-24T14:25:22.784032Z",
     "start_time": "2023-10-24T14:25:19.297440600Z"
    }
   },
   "id": "d2308a2b064f258d"
  },
  {
   "cell_type": "code",
   "execution_count": 6,
   "outputs": [
    {
     "name": "stdout",
     "output_type": "stream",
     "text": [
      "Valeurs manquantes du train supprimées ✅\n",
      "Valeurs manquantes du test supprimées ✅\n",
      "Outliers traités ✅\n",
      "Valeurs manquantes numériques imputées ✅\n",
      "Valeurs manquantes catégorielles imputées ✅\n"
     ]
    }
   ],
   "source": [
    "train_clean,test_clean = preprocess.prepare_data()"
   ],
   "metadata": {
    "collapsed": false,
    "ExecuteTime": {
     "end_time": "2023-10-24T14:29:19.189169500Z",
     "start_time": "2023-10-24T14:25:22.791080Z"
    }
   },
   "id": "b67a4f03c119bd02"
  },
  {
   "cell_type": "code",
   "execution_count": 7,
   "outputs": [
    {
     "data": {
      "text/plain": "Country    0.0\nVFN        0.0\nMh         0.0\nMan        0.0\nTan        0.0\nT          0.0\nVa         0.0\nVe         0.0\nMk         0.0\nCn         0.0\nCt         0.0\nCr         0.0\nFt         0.0\nFm         0.0\ndtype: float64"
     },
     "execution_count": 7,
     "metadata": {},
     "output_type": "execute_result"
    }
   ],
   "source": [
    "train_clean.select_dtypes(include = object).isna().sum()/train_clean.shape[0]*100"
   ],
   "metadata": {
    "collapsed": false,
    "ExecuteTime": {
     "end_time": "2023-10-24T14:29:23.712967300Z",
     "start_time": "2023-10-24T14:29:19.224369800Z"
    }
   },
   "id": "ce72aad865928b43"
  },
  {
   "cell_type": "code",
   "execution_count": 40,
   "outputs": [
    {
     "data": {
      "text/plain": "['Tan', 'T', 'Va', 'Ve', 'Mk', 'Ct', 'Fm', 'Date of registration', 'date']"
     },
     "execution_count": 40,
     "metadata": {},
     "output_type": "execute_result"
    }
   ],
   "source": [
    "train_clean.columns[train_clean.isna().sum() > 0].tolist()"
   ],
   "metadata": {
    "collapsed": false,
    "ExecuteTime": {
     "end_time": "2023-10-24T14:18:50.673041800Z",
     "start_time": "2023-10-24T14:18:45.383551900Z"
    }
   },
   "id": "817d040095e74a85"
  },
  {
   "cell_type": "code",
   "execution_count": 22,
   "outputs": [
    {
     "data": {
      "text/plain": "              ID Country                   VFN   Mp       Mh  \\\n244362    244362      DE                   NaN  NaN   AA-IVA   \n277657    277657      DE                   NaN  NaN   AA-IVA   \n278163    278163      DE                   NaN  NaN   AA-IVA   \n278464    278464      DE                   NaN  NaN   AA-IVA   \n278613    278613      DE                   NaN  NaN   AA-IVA   \n278615    278615      DE                   NaN  NaN   AA-IVA   \n280127    280127      DE                   NaN  NaN   AA-IVA   \n285043    285043      DE                   NaN  NaN   AA-IVA   \n467171    467171      DE                   NaN  NaN   AA-IVA   \n971046    971046      DE                   NaN  NaN   AA-IVA   \n971054    971054      DE                   NaN  NaN   AA-IVA   \n983724    983724      DE                   NaN  NaN   AA-IVA   \n989710    989710      DE                   NaN  NaN   AA-IVA   \n1014479  1014479      DE        IP-CX003-202-1  NaN   MORGAN   \n1165991  1165991      SE  IP-2020_246K2C-YV1-1  NaN   AA-IVA   \n1165998  1165998      SE  IP-2020_246K2C-YV1-1  NaN   AA-IVA   \n1166009  1166009      SE  IP-2020_246K2C-YV1-1  NaN   AA-IVA   \n1308815  1308815      DE                   NaN  NaN   AA-IVA   \n1308942  1308942      DE                   NaN  NaN   AA-IVA   \n1391441  1391441      DE      IP-F173HFA-ZFF-1  NaN  FERRARI   \n\n                             Man  MMS                 Tan               T  \\\n244362                    AA-IVA  NaN                 NaN              SK   \n277657                    AA-IVA  NaN                 NaN             Y1A   \n278163                    AA-IVA  NaN                 NaN             Y1A   \n278464                    AA-IVA  NaN                 NaN             Y1A   \n278613                    AA-IVA  NaN                 NaN             Y1A   \n278615                    AA-IVA  NaN                 NaN             Y1A   \n280127                    AA-IVA  NaN                 NaN             Y1A   \n285043                    AA-IVA  NaN                 NaN             Y1A   \n467171                    AA-IVA  NaN                 NaN       ALPINAG30   \n971046                    AA-IVA  NaN                 NaN             SX2   \n971054                    AA-IVA  NaN                 NaN              OS   \n983724                    AA-IVA  NaN                 NaN  VJA300L-GNUZZV   \n989710                    AA-IVA  NaN                 NaN              CE   \n1014479  MORGAN TECHNOLOGIES LTD  NaN  e9*ks07/46*6806*00            MP19   \n1165991                   AA-IVA  NaN                 NaN             NaN   \n1165998                   AA-IVA  NaN                 NaN             NaN   \n1166009                   AA-IVA  NaN                 NaN             NaN   \n1308815                   AA-IVA  NaN                 NaN            2121   \n1308942                   AA-IVA  NaN                 NaN            2121   \n1391441              FERRARI SPA  NaN  e3*2007/46*0634*01             NaN   \n\n             Va  ... z (Wh/km)   IT Ernedc (g/km) Erwltp (g/km)  De  Vf  \\\n244362      NaN  ...       NaN  NaN           NaN           NaN NaN NaN   \n277657      NaN  ...     263.0  NaN           NaN           NaN NaN NaN   \n278163      NaN  ...     263.0  NaN           NaN           NaN NaN NaN   \n278464      NaN  ...     275.0  NaN           NaN           NaN NaN NaN   \n278613      NaN  ...     270.0  NaN           NaN           NaN NaN NaN   \n278615      NaN  ...     275.0  NaN           NaN           NaN NaN NaN   \n280127      NaN  ...       NaN  NaN           NaN           NaN NaN NaN   \n285043      NaN  ...     270.0  NaN           NaN           NaN NaN NaN   \n467171   5212LL  ...       NaN  NaN           NaN           NaN NaN NaN   \n971046      NaN  ...     230.0  NaN           NaN           NaN NaN NaN   \n971054      NaN  ...       NaN  NaN           NaN           NaN NaN NaN   \n983724      NaN  ...       NaN  NaN           NaN           NaN NaN NaN   \n989710      NaN  ...     160.0  NaN           NaN           NaN NaN NaN   \n1014479   CA15W  ...       NaN  NaN           NaN           NaN NaN NaN   \n1165991     NaN  ...       NaN  NaN           NaN           NaN NaN NaN   \n1165998     NaN  ...       NaN  NaN           NaN           NaN NaN NaN   \n1166009     NaN  ...       NaN  NaN           NaN           NaN NaN NaN   \n1308815      40  ...       NaN  NaN           NaN           NaN NaN NaN   \n1308942      40  ...       NaN  NaN           NaN           NaN NaN NaN   \n1391441      HF  ...     123.0  NaN           NaN           NaN NaN NaN   \n\n         Status  Date of registration  Fuel consumption   Electric range (km)  \n244362        P            2022-04-04                NaN                  NaN  \n277657        P            2022-12-19                NaN                  NaN  \n278163        P            2022-11-30                NaN                  NaN  \n278464        P            2022-10-13                NaN                  NaN  \n278613        P            2022-10-13                NaN                  NaN  \n278615        P            2022-10-25                NaN                  NaN  \n280127        P            2022-08-30                NaN                  NaN  \n285043        P            2022-12-09                NaN                  NaN  \n467171        P            2022-11-10                NaN                  NaN  \n971046        P            2022-07-08                NaN                  NaN  \n971054        P            2022-07-05                NaN                  NaN  \n983724        P            2022-11-02                NaN                  NaN  \n989710        P            2022-05-09                NaN                  NaN  \n1014479       P            2022-05-17                NaN                  NaN  \n1165991       P            2022-03-14                6.8                  NaN  \n1165998       P            2022-03-21                6.8                  NaN  \n1166009       P            2022-07-01                6.8                  NaN  \n1308815       P            2022-04-06                NaN                  NaN  \n1308942       P            2022-04-04                NaN                  NaN  \n1391441       P            2022-01-11                NaN                  NaN  \n\n[20 rows x 37 columns]",
      "text/html": "<div>\n<style scoped>\n    .dataframe tbody tr th:only-of-type {\n        vertical-align: middle;\n    }\n\n    .dataframe tbody tr th {\n        vertical-align: top;\n    }\n\n    .dataframe thead th {\n        text-align: right;\n    }\n</style>\n<table border=\"1\" class=\"dataframe\">\n  <thead>\n    <tr style=\"text-align: right;\">\n      <th></th>\n      <th>ID</th>\n      <th>Country</th>\n      <th>VFN</th>\n      <th>Mp</th>\n      <th>Mh</th>\n      <th>Man</th>\n      <th>MMS</th>\n      <th>Tan</th>\n      <th>T</th>\n      <th>Va</th>\n      <th>...</th>\n      <th>z (Wh/km)</th>\n      <th>IT</th>\n      <th>Ernedc (g/km)</th>\n      <th>Erwltp (g/km)</th>\n      <th>De</th>\n      <th>Vf</th>\n      <th>Status</th>\n      <th>Date of registration</th>\n      <th>Fuel consumption</th>\n      <th>Electric range (km)</th>\n    </tr>\n  </thead>\n  <tbody>\n    <tr>\n      <th>244362</th>\n      <td>244362</td>\n      <td>DE</td>\n      <td>NaN</td>\n      <td>NaN</td>\n      <td>AA-IVA</td>\n      <td>AA-IVA</td>\n      <td>NaN</td>\n      <td>NaN</td>\n      <td>SK</td>\n      <td>NaN</td>\n      <td>...</td>\n      <td>NaN</td>\n      <td>NaN</td>\n      <td>NaN</td>\n      <td>NaN</td>\n      <td>NaN</td>\n      <td>NaN</td>\n      <td>P</td>\n      <td>2022-04-04</td>\n      <td>NaN</td>\n      <td>NaN</td>\n    </tr>\n    <tr>\n      <th>277657</th>\n      <td>277657</td>\n      <td>DE</td>\n      <td>NaN</td>\n      <td>NaN</td>\n      <td>AA-IVA</td>\n      <td>AA-IVA</td>\n      <td>NaN</td>\n      <td>NaN</td>\n      <td>Y1A</td>\n      <td>NaN</td>\n      <td>...</td>\n      <td>263.0</td>\n      <td>NaN</td>\n      <td>NaN</td>\n      <td>NaN</td>\n      <td>NaN</td>\n      <td>NaN</td>\n      <td>P</td>\n      <td>2022-12-19</td>\n      <td>NaN</td>\n      <td>NaN</td>\n    </tr>\n    <tr>\n      <th>278163</th>\n      <td>278163</td>\n      <td>DE</td>\n      <td>NaN</td>\n      <td>NaN</td>\n      <td>AA-IVA</td>\n      <td>AA-IVA</td>\n      <td>NaN</td>\n      <td>NaN</td>\n      <td>Y1A</td>\n      <td>NaN</td>\n      <td>...</td>\n      <td>263.0</td>\n      <td>NaN</td>\n      <td>NaN</td>\n      <td>NaN</td>\n      <td>NaN</td>\n      <td>NaN</td>\n      <td>P</td>\n      <td>2022-11-30</td>\n      <td>NaN</td>\n      <td>NaN</td>\n    </tr>\n    <tr>\n      <th>278464</th>\n      <td>278464</td>\n      <td>DE</td>\n      <td>NaN</td>\n      <td>NaN</td>\n      <td>AA-IVA</td>\n      <td>AA-IVA</td>\n      <td>NaN</td>\n      <td>NaN</td>\n      <td>Y1A</td>\n      <td>NaN</td>\n      <td>...</td>\n      <td>275.0</td>\n      <td>NaN</td>\n      <td>NaN</td>\n      <td>NaN</td>\n      <td>NaN</td>\n      <td>NaN</td>\n      <td>P</td>\n      <td>2022-10-13</td>\n      <td>NaN</td>\n      <td>NaN</td>\n    </tr>\n    <tr>\n      <th>278613</th>\n      <td>278613</td>\n      <td>DE</td>\n      <td>NaN</td>\n      <td>NaN</td>\n      <td>AA-IVA</td>\n      <td>AA-IVA</td>\n      <td>NaN</td>\n      <td>NaN</td>\n      <td>Y1A</td>\n      <td>NaN</td>\n      <td>...</td>\n      <td>270.0</td>\n      <td>NaN</td>\n      <td>NaN</td>\n      <td>NaN</td>\n      <td>NaN</td>\n      <td>NaN</td>\n      <td>P</td>\n      <td>2022-10-13</td>\n      <td>NaN</td>\n      <td>NaN</td>\n    </tr>\n    <tr>\n      <th>278615</th>\n      <td>278615</td>\n      <td>DE</td>\n      <td>NaN</td>\n      <td>NaN</td>\n      <td>AA-IVA</td>\n      <td>AA-IVA</td>\n      <td>NaN</td>\n      <td>NaN</td>\n      <td>Y1A</td>\n      <td>NaN</td>\n      <td>...</td>\n      <td>275.0</td>\n      <td>NaN</td>\n      <td>NaN</td>\n      <td>NaN</td>\n      <td>NaN</td>\n      <td>NaN</td>\n      <td>P</td>\n      <td>2022-10-25</td>\n      <td>NaN</td>\n      <td>NaN</td>\n    </tr>\n    <tr>\n      <th>280127</th>\n      <td>280127</td>\n      <td>DE</td>\n      <td>NaN</td>\n      <td>NaN</td>\n      <td>AA-IVA</td>\n      <td>AA-IVA</td>\n      <td>NaN</td>\n      <td>NaN</td>\n      <td>Y1A</td>\n      <td>NaN</td>\n      <td>...</td>\n      <td>NaN</td>\n      <td>NaN</td>\n      <td>NaN</td>\n      <td>NaN</td>\n      <td>NaN</td>\n      <td>NaN</td>\n      <td>P</td>\n      <td>2022-08-30</td>\n      <td>NaN</td>\n      <td>NaN</td>\n    </tr>\n    <tr>\n      <th>285043</th>\n      <td>285043</td>\n      <td>DE</td>\n      <td>NaN</td>\n      <td>NaN</td>\n      <td>AA-IVA</td>\n      <td>AA-IVA</td>\n      <td>NaN</td>\n      <td>NaN</td>\n      <td>Y1A</td>\n      <td>NaN</td>\n      <td>...</td>\n      <td>270.0</td>\n      <td>NaN</td>\n      <td>NaN</td>\n      <td>NaN</td>\n      <td>NaN</td>\n      <td>NaN</td>\n      <td>P</td>\n      <td>2022-12-09</td>\n      <td>NaN</td>\n      <td>NaN</td>\n    </tr>\n    <tr>\n      <th>467171</th>\n      <td>467171</td>\n      <td>DE</td>\n      <td>NaN</td>\n      <td>NaN</td>\n      <td>AA-IVA</td>\n      <td>AA-IVA</td>\n      <td>NaN</td>\n      <td>NaN</td>\n      <td>ALPINAG30</td>\n      <td>5212LL</td>\n      <td>...</td>\n      <td>NaN</td>\n      <td>NaN</td>\n      <td>NaN</td>\n      <td>NaN</td>\n      <td>NaN</td>\n      <td>NaN</td>\n      <td>P</td>\n      <td>2022-11-10</td>\n      <td>NaN</td>\n      <td>NaN</td>\n    </tr>\n    <tr>\n      <th>971046</th>\n      <td>971046</td>\n      <td>DE</td>\n      <td>NaN</td>\n      <td>NaN</td>\n      <td>AA-IVA</td>\n      <td>AA-IVA</td>\n      <td>NaN</td>\n      <td>NaN</td>\n      <td>SX2</td>\n      <td>NaN</td>\n      <td>...</td>\n      <td>230.0</td>\n      <td>NaN</td>\n      <td>NaN</td>\n      <td>NaN</td>\n      <td>NaN</td>\n      <td>NaN</td>\n      <td>P</td>\n      <td>2022-07-08</td>\n      <td>NaN</td>\n      <td>NaN</td>\n    </tr>\n    <tr>\n      <th>971054</th>\n      <td>971054</td>\n      <td>DE</td>\n      <td>NaN</td>\n      <td>NaN</td>\n      <td>AA-IVA</td>\n      <td>AA-IVA</td>\n      <td>NaN</td>\n      <td>NaN</td>\n      <td>OS</td>\n      <td>NaN</td>\n      <td>...</td>\n      <td>NaN</td>\n      <td>NaN</td>\n      <td>NaN</td>\n      <td>NaN</td>\n      <td>NaN</td>\n      <td>NaN</td>\n      <td>P</td>\n      <td>2022-07-05</td>\n      <td>NaN</td>\n      <td>NaN</td>\n    </tr>\n    <tr>\n      <th>983724</th>\n      <td>983724</td>\n      <td>DE</td>\n      <td>NaN</td>\n      <td>NaN</td>\n      <td>AA-IVA</td>\n      <td>AA-IVA</td>\n      <td>NaN</td>\n      <td>NaN</td>\n      <td>VJA300L-GNUZZV</td>\n      <td>NaN</td>\n      <td>...</td>\n      <td>NaN</td>\n      <td>NaN</td>\n      <td>NaN</td>\n      <td>NaN</td>\n      <td>NaN</td>\n      <td>NaN</td>\n      <td>P</td>\n      <td>2022-11-02</td>\n      <td>NaN</td>\n      <td>NaN</td>\n    </tr>\n    <tr>\n      <th>989710</th>\n      <td>989710</td>\n      <td>DE</td>\n      <td>NaN</td>\n      <td>NaN</td>\n      <td>AA-IVA</td>\n      <td>AA-IVA</td>\n      <td>NaN</td>\n      <td>NaN</td>\n      <td>CE</td>\n      <td>NaN</td>\n      <td>...</td>\n      <td>160.0</td>\n      <td>NaN</td>\n      <td>NaN</td>\n      <td>NaN</td>\n      <td>NaN</td>\n      <td>NaN</td>\n      <td>P</td>\n      <td>2022-05-09</td>\n      <td>NaN</td>\n      <td>NaN</td>\n    </tr>\n    <tr>\n      <th>1014479</th>\n      <td>1014479</td>\n      <td>DE</td>\n      <td>IP-CX003-202-1</td>\n      <td>NaN</td>\n      <td>MORGAN</td>\n      <td>MORGAN TECHNOLOGIES LTD</td>\n      <td>NaN</td>\n      <td>e9*ks07/46*6806*00</td>\n      <td>MP19</td>\n      <td>CA15W</td>\n      <td>...</td>\n      <td>NaN</td>\n      <td>NaN</td>\n      <td>NaN</td>\n      <td>NaN</td>\n      <td>NaN</td>\n      <td>NaN</td>\n      <td>P</td>\n      <td>2022-05-17</td>\n      <td>NaN</td>\n      <td>NaN</td>\n    </tr>\n    <tr>\n      <th>1165991</th>\n      <td>1165991</td>\n      <td>SE</td>\n      <td>IP-2020_246K2C-YV1-1</td>\n      <td>NaN</td>\n      <td>AA-IVA</td>\n      <td>AA-IVA</td>\n      <td>NaN</td>\n      <td>NaN</td>\n      <td>NaN</td>\n      <td>NaN</td>\n      <td>...</td>\n      <td>NaN</td>\n      <td>NaN</td>\n      <td>NaN</td>\n      <td>NaN</td>\n      <td>NaN</td>\n      <td>NaN</td>\n      <td>P</td>\n      <td>2022-03-14</td>\n      <td>6.8</td>\n      <td>NaN</td>\n    </tr>\n    <tr>\n      <th>1165998</th>\n      <td>1165998</td>\n      <td>SE</td>\n      <td>IP-2020_246K2C-YV1-1</td>\n      <td>NaN</td>\n      <td>AA-IVA</td>\n      <td>AA-IVA</td>\n      <td>NaN</td>\n      <td>NaN</td>\n      <td>NaN</td>\n      <td>NaN</td>\n      <td>...</td>\n      <td>NaN</td>\n      <td>NaN</td>\n      <td>NaN</td>\n      <td>NaN</td>\n      <td>NaN</td>\n      <td>NaN</td>\n      <td>P</td>\n      <td>2022-03-21</td>\n      <td>6.8</td>\n      <td>NaN</td>\n    </tr>\n    <tr>\n      <th>1166009</th>\n      <td>1166009</td>\n      <td>SE</td>\n      <td>IP-2020_246K2C-YV1-1</td>\n      <td>NaN</td>\n      <td>AA-IVA</td>\n      <td>AA-IVA</td>\n      <td>NaN</td>\n      <td>NaN</td>\n      <td>NaN</td>\n      <td>NaN</td>\n      <td>...</td>\n      <td>NaN</td>\n      <td>NaN</td>\n      <td>NaN</td>\n      <td>NaN</td>\n      <td>NaN</td>\n      <td>NaN</td>\n      <td>P</td>\n      <td>2022-07-01</td>\n      <td>6.8</td>\n      <td>NaN</td>\n    </tr>\n    <tr>\n      <th>1308815</th>\n      <td>1308815</td>\n      <td>DE</td>\n      <td>NaN</td>\n      <td>NaN</td>\n      <td>AA-IVA</td>\n      <td>AA-IVA</td>\n      <td>NaN</td>\n      <td>NaN</td>\n      <td>2121</td>\n      <td>40</td>\n      <td>...</td>\n      <td>NaN</td>\n      <td>NaN</td>\n      <td>NaN</td>\n      <td>NaN</td>\n      <td>NaN</td>\n      <td>NaN</td>\n      <td>P</td>\n      <td>2022-04-06</td>\n      <td>NaN</td>\n      <td>NaN</td>\n    </tr>\n    <tr>\n      <th>1308942</th>\n      <td>1308942</td>\n      <td>DE</td>\n      <td>NaN</td>\n      <td>NaN</td>\n      <td>AA-IVA</td>\n      <td>AA-IVA</td>\n      <td>NaN</td>\n      <td>NaN</td>\n      <td>2121</td>\n      <td>40</td>\n      <td>...</td>\n      <td>NaN</td>\n      <td>NaN</td>\n      <td>NaN</td>\n      <td>NaN</td>\n      <td>NaN</td>\n      <td>NaN</td>\n      <td>P</td>\n      <td>2022-04-04</td>\n      <td>NaN</td>\n      <td>NaN</td>\n    </tr>\n    <tr>\n      <th>1391441</th>\n      <td>1391441</td>\n      <td>DE</td>\n      <td>IP-F173HFA-ZFF-1</td>\n      <td>NaN</td>\n      <td>FERRARI</td>\n      <td>FERRARI SPA</td>\n      <td>NaN</td>\n      <td>e3*2007/46*0634*01</td>\n      <td>NaN</td>\n      <td>HF</td>\n      <td>...</td>\n      <td>123.0</td>\n      <td>NaN</td>\n      <td>NaN</td>\n      <td>NaN</td>\n      <td>NaN</td>\n      <td>NaN</td>\n      <td>P</td>\n      <td>2022-01-11</td>\n      <td>NaN</td>\n      <td>NaN</td>\n    </tr>\n  </tbody>\n</table>\n<p>20 rows × 37 columns</p>\n</div>"
     },
     "execution_count": 22,
     "metadata": {},
     "output_type": "execute_result"
    }
   ],
   "source": [
    "train.loc[train['Cn'].isna()==True].head(20)"
   ],
   "metadata": {
    "collapsed": false,
    "ExecuteTime": {
     "end_time": "2023-10-24T13:18:18.438232700Z",
     "start_time": "2023-10-24T13:18:16.946763700Z"
    }
   },
   "id": "e8ec2e38ec945688"
  },
  {
   "cell_type": "code",
   "execution_count": 19,
   "outputs": [
    {
     "data": {
      "text/plain": "Empty DataFrame\nColumns: [ID, Country, VFN, Mp, Mh, Man, MMS, Tan, T, Va, Ve, Mk, Cn, Ct, Cr, r, m (kg), Mt, Enedc (g/km), Ewltp (g/km), W (mm), At1 (mm), At2 (mm), Ft, Fm, ec (cm3), ep (KW), z (Wh/km), IT, Ernedc (g/km), Erwltp (g/km), De, Vf, Status, Date of registration, Fuel consumption , Electric range (km)]\nIndex: []\n\n[0 rows x 37 columns]",
      "text/html": "<div>\n<style scoped>\n    .dataframe tbody tr th:only-of-type {\n        vertical-align: middle;\n    }\n\n    .dataframe tbody tr th {\n        vertical-align: top;\n    }\n\n    .dataframe thead th {\n        text-align: right;\n    }\n</style>\n<table border=\"1\" class=\"dataframe\">\n  <thead>\n    <tr style=\"text-align: right;\">\n      <th></th>\n      <th>ID</th>\n      <th>Country</th>\n      <th>VFN</th>\n      <th>Mp</th>\n      <th>Mh</th>\n      <th>Man</th>\n      <th>MMS</th>\n      <th>Tan</th>\n      <th>T</th>\n      <th>Va</th>\n      <th>...</th>\n      <th>z (Wh/km)</th>\n      <th>IT</th>\n      <th>Ernedc (g/km)</th>\n      <th>Erwltp (g/km)</th>\n      <th>De</th>\n      <th>Vf</th>\n      <th>Status</th>\n      <th>Date of registration</th>\n      <th>Fuel consumption</th>\n      <th>Electric range (km)</th>\n    </tr>\n  </thead>\n  <tbody>\n  </tbody>\n</table>\n<p>0 rows × 37 columns</p>\n</div>"
     },
     "execution_count": 19,
     "metadata": {},
     "output_type": "execute_result"
    }
   ],
   "source": [
    "train.loc[train['T']=='FENGON 5']"
   ],
   "metadata": {
    "collapsed": false,
    "ExecuteTime": {
     "end_time": "2023-10-24T13:02:41.186217100Z",
     "start_time": "2023-10-24T13:02:40.776319Z"
    }
   },
   "id": "b36bae4111d4aa20"
  },
  {
   "cell_type": "code",
   "execution_count": 24,
   "outputs": [
    {
     "data": {
      "text/plain": "              ID Country                   VFN    Mh                Man  \\\n1516008  1516008      DE  IP-IX5_SFG15TA-LVZ-1  DFSK  DFSK MOTOR CO LTD   \n\n                        Tan            T       Va   Ve                  Mk  \\\n1516008  e4*ks07/46*0046*01  DXK6471AS3H  FENGON5  NaN  DFSK. SERES. SOKON   \n\n         ... At1 (mm) At2 (mm)      Ft  Fm  ec (cm3)  ep (KW)  \\\n1516008  ...   1580.0   1570.0  PETROL   M    1499.0    101.0   \n\n         Date of registration  Fuel consumption   Electric range (km)  \\\n1516008            2022-01-24            5.57649                  0.0   \n\n              date  \n1516008 2022-01-24  \n\n[1 rows x 27 columns]",
      "text/html": "<div>\n<style scoped>\n    .dataframe tbody tr th:only-of-type {\n        vertical-align: middle;\n    }\n\n    .dataframe tbody tr th {\n        vertical-align: top;\n    }\n\n    .dataframe thead th {\n        text-align: right;\n    }\n</style>\n<table border=\"1\" class=\"dataframe\">\n  <thead>\n    <tr style=\"text-align: right;\">\n      <th></th>\n      <th>ID</th>\n      <th>Country</th>\n      <th>VFN</th>\n      <th>Mh</th>\n      <th>Man</th>\n      <th>Tan</th>\n      <th>T</th>\n      <th>Va</th>\n      <th>Ve</th>\n      <th>Mk</th>\n      <th>...</th>\n      <th>At1 (mm)</th>\n      <th>At2 (mm)</th>\n      <th>Ft</th>\n      <th>Fm</th>\n      <th>ec (cm3)</th>\n      <th>ep (KW)</th>\n      <th>Date of registration</th>\n      <th>Fuel consumption</th>\n      <th>Electric range (km)</th>\n      <th>date</th>\n    </tr>\n  </thead>\n  <tbody>\n    <tr>\n      <th>1516008</th>\n      <td>1516008</td>\n      <td>DE</td>\n      <td>IP-IX5_SFG15TA-LVZ-1</td>\n      <td>DFSK</td>\n      <td>DFSK MOTOR CO LTD</td>\n      <td>e4*ks07/46*0046*01</td>\n      <td>DXK6471AS3H</td>\n      <td>FENGON5</td>\n      <td>NaN</td>\n      <td>DFSK. SERES. SOKON</td>\n      <td>...</td>\n      <td>1580.0</td>\n      <td>1570.0</td>\n      <td>PETROL</td>\n      <td>M</td>\n      <td>1499.0</td>\n      <td>101.0</td>\n      <td>2022-01-24</td>\n      <td>5.57649</td>\n      <td>0.0</td>\n      <td>2022-01-24</td>\n    </tr>\n  </tbody>\n</table>\n<p>1 rows × 27 columns</p>\n</div>"
     },
     "execution_count": 24,
     "metadata": {},
     "output_type": "execute_result"
    }
   ],
   "source": [
    "train_clean.loc[train_clean['ID']==1516008]"
   ],
   "metadata": {
    "collapsed": false,
    "ExecuteTime": {
     "end_time": "2023-10-24T13:19:37.347162700Z",
     "start_time": "2023-10-24T13:19:37.276700500Z"
    }
   },
   "id": "91768602a12b7"
  }
 ],
 "metadata": {
  "kernelspec": {
   "display_name": "Python 3",
   "language": "python",
   "name": "python3"
  },
  "language_info": {
   "codemirror_mode": {
    "name": "ipython",
    "version": 2
   },
   "file_extension": ".py",
   "mimetype": "text/x-python",
   "name": "python",
   "nbconvert_exporter": "python",
   "pygments_lexer": "ipython2",
   "version": "2.7.6"
  }
 },
 "nbformat": 4,
 "nbformat_minor": 5
}
