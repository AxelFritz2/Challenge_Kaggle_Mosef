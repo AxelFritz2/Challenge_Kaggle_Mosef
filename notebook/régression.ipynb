{
 "cells": [
  {
   "cell_type": "code",
   "execution_count": 1,
   "id": "initial_id",
   "metadata": {
    "collapsed": true,
    "ExecuteTime": {
     "end_time": "2023-11-01T10:50:37.299553Z",
     "start_time": "2023-11-01T10:50:35.720600Z"
    }
   },
   "outputs": [],
   "source": [
    "import pandas as pd\n",
    "import numpy as np\n",
    "import sys\n",
    "sys.path.append(\"../src/\")\n",
    "import data_preparation as dp\n",
    "from sklearn.model_selection import train_test_split\n",
    "import seaborn as sns\n",
    "from sklearn.linear_model import LinearRegression\n",
    "import warnings\n",
    "from sklearn.metrics import mean_absolute_error\n",
    "warnings.filterwarnings(\"ignore\", category=FutureWarning)\n",
    "import statsmodels.api as sm\n",
    "from statsmodels.formula.api import ols"
   ]
  },
  {
   "cell_type": "markdown",
   "source": [
    "# Import des données"
   ],
   "metadata": {
    "collapsed": false
   },
   "id": "291c47d264d3d8db"
  },
  {
   "cell_type": "code",
   "execution_count": 2,
   "outputs": [],
   "source": [
    "train = pd.read_csv(\"../data/train_clean.csv\")\n",
    "test = pd.read_csv(\"../data/test_clean.csv\")"
   ],
   "metadata": {
    "collapsed": false,
    "ExecuteTime": {
     "end_time": "2023-11-01T10:51:11.503565Z",
     "start_time": "2023-11-01T10:50:40.710005Z"
    }
   },
   "id": "6ca5d5474b55baad"
  },
  {
   "cell_type": "code",
   "execution_count": 3,
   "outputs": [],
   "source": [
    "preprocess = dp.DataPreparation(train, test)"
   ],
   "metadata": {
    "collapsed": false,
    "ExecuteTime": {
     "end_time": "2023-10-26T13:10:33.552442Z",
     "start_time": "2023-10-26T13:10:31.699219Z"
    }
   },
   "id": "fed7776e4d4000a6"
  },
  {
   "cell_type": "code",
   "execution_count": 4,
   "outputs": [
    {
     "name": "stdout",
     "output_type": "stream",
     "text": [
      "Valeurs manquantes du train supprimées ✅\n",
      "Valeurs manquantes du test supprimées ✅\n",
      "Variables renommées ✅\n",
      "Valeurs manquantes numériques imputées ✅\n",
      "Valeurs manquantes catégorielles imputées ✅\n"
     ]
    }
   ],
   "source": [
    "train_clean, test_clean = preprocess.prepare_data()"
   ],
   "metadata": {
    "collapsed": false,
    "ExecuteTime": {
     "end_time": "2023-10-26T13:13:17.486018Z",
     "start_time": "2023-10-26T13:10:33.553134Z"
    }
   },
   "id": "277eccbff1eefce5"
  },
  {
   "cell_type": "code",
   "execution_count": 5,
   "outputs": [
    {
     "ename": "KeyError",
     "evalue": "\"['Ewltp (g/km)'] not found in axis\"",
     "output_type": "error",
     "traceback": [
      "\u001B[0;31m---------------------------------------------------------------------------\u001B[0m",
      "\u001B[0;31mKeyError\u001B[0m                                  Traceback (most recent call last)",
      "Cell \u001B[0;32mIn[5], line 1\u001B[0m\n\u001B[0;32m----> 1\u001B[0m X_train \u001B[38;5;241m=\u001B[39m \u001B[43mtrain_clean\u001B[49m\u001B[38;5;241;43m.\u001B[39;49m\u001B[43mdrop\u001B[49m\u001B[43m(\u001B[49m\u001B[43mcolumns\u001B[49m\u001B[43m \u001B[49m\u001B[38;5;241;43m=\u001B[39;49m\u001B[43m \u001B[49m\u001B[43m[\u001B[49m\u001B[38;5;124;43m\"\u001B[39;49m\u001B[38;5;124;43mEwltp (g/km)\u001B[39;49m\u001B[38;5;124;43m\"\u001B[39;49m\u001B[43m]\u001B[49m\u001B[43m)\u001B[49m\n\u001B[1;32m      2\u001B[0m y_train \u001B[38;5;241m=\u001B[39m train_clean[\u001B[38;5;124m\"\u001B[39m\u001B[38;5;124mEwltp (g/km)\u001B[39m\u001B[38;5;124m\"\u001B[39m]\n",
      "File \u001B[0;32m~/Documents/École/Université/M2/M2_S1/Data_Mining/ChallengeKaggle/venv/lib/python3.10/site-packages/pandas/core/frame.py:5347\u001B[0m, in \u001B[0;36mDataFrame.drop\u001B[0;34m(self, labels, axis, index, columns, level, inplace, errors)\u001B[0m\n\u001B[1;32m   5199\u001B[0m \u001B[38;5;28;01mdef\u001B[39;00m \u001B[38;5;21mdrop\u001B[39m(\n\u001B[1;32m   5200\u001B[0m     \u001B[38;5;28mself\u001B[39m,\n\u001B[1;32m   5201\u001B[0m     labels: IndexLabel \u001B[38;5;241m|\u001B[39m \u001B[38;5;28;01mNone\u001B[39;00m \u001B[38;5;241m=\u001B[39m \u001B[38;5;28;01mNone\u001B[39;00m,\n\u001B[0;32m   (...)\u001B[0m\n\u001B[1;32m   5208\u001B[0m     errors: IgnoreRaise \u001B[38;5;241m=\u001B[39m \u001B[38;5;124m\"\u001B[39m\u001B[38;5;124mraise\u001B[39m\u001B[38;5;124m\"\u001B[39m,\n\u001B[1;32m   5209\u001B[0m ) \u001B[38;5;241m-\u001B[39m\u001B[38;5;241m>\u001B[39m DataFrame \u001B[38;5;241m|\u001B[39m \u001B[38;5;28;01mNone\u001B[39;00m:\n\u001B[1;32m   5210\u001B[0m \u001B[38;5;250m    \u001B[39m\u001B[38;5;124;03m\"\"\"\u001B[39;00m\n\u001B[1;32m   5211\u001B[0m \u001B[38;5;124;03m    Drop specified labels from rows or columns.\u001B[39;00m\n\u001B[1;32m   5212\u001B[0m \n\u001B[0;32m   (...)\u001B[0m\n\u001B[1;32m   5345\u001B[0m \u001B[38;5;124;03m            weight  1.0     0.8\u001B[39;00m\n\u001B[1;32m   5346\u001B[0m \u001B[38;5;124;03m    \"\"\"\u001B[39;00m\n\u001B[0;32m-> 5347\u001B[0m     \u001B[38;5;28;01mreturn\u001B[39;00m \u001B[38;5;28;43msuper\u001B[39;49m\u001B[43m(\u001B[49m\u001B[43m)\u001B[49m\u001B[38;5;241;43m.\u001B[39;49m\u001B[43mdrop\u001B[49m\u001B[43m(\u001B[49m\n\u001B[1;32m   5348\u001B[0m \u001B[43m        \u001B[49m\u001B[43mlabels\u001B[49m\u001B[38;5;241;43m=\u001B[39;49m\u001B[43mlabels\u001B[49m\u001B[43m,\u001B[49m\n\u001B[1;32m   5349\u001B[0m \u001B[43m        \u001B[49m\u001B[43maxis\u001B[49m\u001B[38;5;241;43m=\u001B[39;49m\u001B[43maxis\u001B[49m\u001B[43m,\u001B[49m\n\u001B[1;32m   5350\u001B[0m \u001B[43m        \u001B[49m\u001B[43mindex\u001B[49m\u001B[38;5;241;43m=\u001B[39;49m\u001B[43mindex\u001B[49m\u001B[43m,\u001B[49m\n\u001B[1;32m   5351\u001B[0m \u001B[43m        \u001B[49m\u001B[43mcolumns\u001B[49m\u001B[38;5;241;43m=\u001B[39;49m\u001B[43mcolumns\u001B[49m\u001B[43m,\u001B[49m\n\u001B[1;32m   5352\u001B[0m \u001B[43m        \u001B[49m\u001B[43mlevel\u001B[49m\u001B[38;5;241;43m=\u001B[39;49m\u001B[43mlevel\u001B[49m\u001B[43m,\u001B[49m\n\u001B[1;32m   5353\u001B[0m \u001B[43m        \u001B[49m\u001B[43minplace\u001B[49m\u001B[38;5;241;43m=\u001B[39;49m\u001B[43minplace\u001B[49m\u001B[43m,\u001B[49m\n\u001B[1;32m   5354\u001B[0m \u001B[43m        \u001B[49m\u001B[43merrors\u001B[49m\u001B[38;5;241;43m=\u001B[39;49m\u001B[43merrors\u001B[49m\u001B[43m,\u001B[49m\n\u001B[1;32m   5355\u001B[0m \u001B[43m    \u001B[49m\u001B[43m)\u001B[49m\n",
      "File \u001B[0;32m~/Documents/École/Université/M2/M2_S1/Data_Mining/ChallengeKaggle/venv/lib/python3.10/site-packages/pandas/core/generic.py:4711\u001B[0m, in \u001B[0;36mNDFrame.drop\u001B[0;34m(self, labels, axis, index, columns, level, inplace, errors)\u001B[0m\n\u001B[1;32m   4709\u001B[0m \u001B[38;5;28;01mfor\u001B[39;00m axis, labels \u001B[38;5;129;01min\u001B[39;00m axes\u001B[38;5;241m.\u001B[39mitems():\n\u001B[1;32m   4710\u001B[0m     \u001B[38;5;28;01mif\u001B[39;00m labels \u001B[38;5;129;01mis\u001B[39;00m \u001B[38;5;129;01mnot\u001B[39;00m \u001B[38;5;28;01mNone\u001B[39;00m:\n\u001B[0;32m-> 4711\u001B[0m         obj \u001B[38;5;241m=\u001B[39m \u001B[43mobj\u001B[49m\u001B[38;5;241;43m.\u001B[39;49m\u001B[43m_drop_axis\u001B[49m\u001B[43m(\u001B[49m\u001B[43mlabels\u001B[49m\u001B[43m,\u001B[49m\u001B[43m \u001B[49m\u001B[43maxis\u001B[49m\u001B[43m,\u001B[49m\u001B[43m \u001B[49m\u001B[43mlevel\u001B[49m\u001B[38;5;241;43m=\u001B[39;49m\u001B[43mlevel\u001B[49m\u001B[43m,\u001B[49m\u001B[43m \u001B[49m\u001B[43merrors\u001B[49m\u001B[38;5;241;43m=\u001B[39;49m\u001B[43merrors\u001B[49m\u001B[43m)\u001B[49m\n\u001B[1;32m   4713\u001B[0m \u001B[38;5;28;01mif\u001B[39;00m inplace:\n\u001B[1;32m   4714\u001B[0m     \u001B[38;5;28mself\u001B[39m\u001B[38;5;241m.\u001B[39m_update_inplace(obj)\n",
      "File \u001B[0;32m~/Documents/École/Université/M2/M2_S1/Data_Mining/ChallengeKaggle/venv/lib/python3.10/site-packages/pandas/core/generic.py:4753\u001B[0m, in \u001B[0;36mNDFrame._drop_axis\u001B[0;34m(self, labels, axis, level, errors, only_slice)\u001B[0m\n\u001B[1;32m   4751\u001B[0m         new_axis \u001B[38;5;241m=\u001B[39m axis\u001B[38;5;241m.\u001B[39mdrop(labels, level\u001B[38;5;241m=\u001B[39mlevel, errors\u001B[38;5;241m=\u001B[39merrors)\n\u001B[1;32m   4752\u001B[0m     \u001B[38;5;28;01melse\u001B[39;00m:\n\u001B[0;32m-> 4753\u001B[0m         new_axis \u001B[38;5;241m=\u001B[39m \u001B[43maxis\u001B[49m\u001B[38;5;241;43m.\u001B[39;49m\u001B[43mdrop\u001B[49m\u001B[43m(\u001B[49m\u001B[43mlabels\u001B[49m\u001B[43m,\u001B[49m\u001B[43m \u001B[49m\u001B[43merrors\u001B[49m\u001B[38;5;241;43m=\u001B[39;49m\u001B[43merrors\u001B[49m\u001B[43m)\u001B[49m\n\u001B[1;32m   4754\u001B[0m     indexer \u001B[38;5;241m=\u001B[39m axis\u001B[38;5;241m.\u001B[39mget_indexer(new_axis)\n\u001B[1;32m   4756\u001B[0m \u001B[38;5;66;03m# Case for non-unique axis\u001B[39;00m\n\u001B[1;32m   4757\u001B[0m \u001B[38;5;28;01melse\u001B[39;00m:\n",
      "File \u001B[0;32m~/Documents/École/Université/M2/M2_S1/Data_Mining/ChallengeKaggle/venv/lib/python3.10/site-packages/pandas/core/indexes/base.py:6992\u001B[0m, in \u001B[0;36mIndex.drop\u001B[0;34m(self, labels, errors)\u001B[0m\n\u001B[1;32m   6990\u001B[0m \u001B[38;5;28;01mif\u001B[39;00m mask\u001B[38;5;241m.\u001B[39many():\n\u001B[1;32m   6991\u001B[0m     \u001B[38;5;28;01mif\u001B[39;00m errors \u001B[38;5;241m!=\u001B[39m \u001B[38;5;124m\"\u001B[39m\u001B[38;5;124mignore\u001B[39m\u001B[38;5;124m\"\u001B[39m:\n\u001B[0;32m-> 6992\u001B[0m         \u001B[38;5;28;01mraise\u001B[39;00m \u001B[38;5;167;01mKeyError\u001B[39;00m(\u001B[38;5;124mf\u001B[39m\u001B[38;5;124m\"\u001B[39m\u001B[38;5;132;01m{\u001B[39;00mlabels[mask]\u001B[38;5;241m.\u001B[39mtolist()\u001B[38;5;132;01m}\u001B[39;00m\u001B[38;5;124m not found in axis\u001B[39m\u001B[38;5;124m\"\u001B[39m)\n\u001B[1;32m   6993\u001B[0m     indexer \u001B[38;5;241m=\u001B[39m indexer[\u001B[38;5;241m~\u001B[39mmask]\n\u001B[1;32m   6994\u001B[0m \u001B[38;5;28;01mreturn\u001B[39;00m \u001B[38;5;28mself\u001B[39m\u001B[38;5;241m.\u001B[39mdelete(indexer)\n",
      "\u001B[0;31mKeyError\u001B[0m: \"['Ewltp (g/km)'] not found in axis\""
     ]
    }
   ],
   "source": [
    "X_train = train_clean.drop(columns = [\"Ewltp_(g/km)\", \"ID\"])\n",
    "y_train = train_clean[\"Ewltp_(g/km)\"]"
   ],
   "metadata": {
    "collapsed": false,
    "ExecuteTime": {
     "end_time": "2023-10-26T13:13:18.708160Z",
     "start_time": "2023-10-26T13:13:17.481213Z"
    }
   },
   "id": "902922cf168f406c"
  },
  {
   "cell_type": "code",
   "execution_count": null,
   "outputs": [],
   "source": [
    "X_train, X_val, y_train, y_val = train_test_split(X_train, y_train, test_size=0.2, random_state=0)"
   ],
   "metadata": {
    "collapsed": false,
    "ExecuteTime": {
     "start_time": "2023-10-26T13:13:18.710938Z"
    }
   },
   "id": "7852087390eefc28"
  },
  {
   "cell_type": "code",
   "execution_count": null,
   "outputs": [],
   "source": [
    "numericals = train_clean.select_dtypes(exclude='object').columns.to_list()\n",
    "categoricals = train_clean.select_dtypes(include='object').columns.to_list()\n",
    "\n",
    "numericals.remove('ID')\n",
    "numericals.remove('date')"
   ],
   "metadata": {
    "collapsed": false,
    "ExecuteTime": {
     "start_time": "2023-10-26T13:13:18.713127Z"
    }
   },
   "id": "30fb311ae49711f5"
  },
  {
   "cell_type": "markdown",
   "source": [
    "# Choix des variables à inclure"
   ],
   "metadata": {
    "collapsed": false
   },
   "id": "6a2651baa2f94dc7"
  },
  {
   "cell_type": "code",
   "execution_count": null,
   "outputs": [],
   "source": [
    "y_corr = train[numericals].corr()\n",
    "sns.heatmap(y_corr, annot=True)"
   ],
   "metadata": {
    "collapsed": false,
    "ExecuteTime": {
     "end_time": "2023-10-26T13:13:18.721035Z",
     "start_time": "2023-10-26T13:13:18.716013Z"
    }
   },
   "id": "4a6c53bcb3cc1201"
  },
  {
   "cell_type": "code",
   "execution_count": null,
   "outputs": [],
   "source": [
    "correlation_vector = train[numericals].corr()[\"Ewltp (g/km)\"][:]\n",
    "correlation_vector = np.abs(correlation_vector)\n",
    "correlation_vector = correlation_vector.sort_values(ascending=False)[1:]"
   ],
   "metadata": {
    "collapsed": false,
    "ExecuteTime": {
     "start_time": "2023-10-26T13:13:18.718682Z"
    }
   },
   "id": "8427f0a69904cbf2"
  },
  {
   "cell_type": "code",
   "execution_count": null,
   "outputs": [],
   "source": [
    "var_explicatives = correlation_vector.index[:4].to_list()"
   ],
   "metadata": {
    "collapsed": false,
    "ExecuteTime": {
     "start_time": "2023-10-26T13:13:18.721725Z"
    }
   },
   "id": "d91a0acbf1e30f2a"
  },
  {
   "cell_type": "markdown",
   "source": [
    "# Modélisation"
   ],
   "metadata": {
    "collapsed": false
   },
   "id": "e0d73848717919c1"
  },
  {
   "cell_type": "code",
   "execution_count": null,
   "outputs": [],
   "source": [
    "reg = LinearRegression().fit(X_train[var_explicatives], y_train)"
   ],
   "metadata": {
    "collapsed": false,
    "ExecuteTime": {
     "start_time": "2023-10-26T13:13:18.724026Z"
    }
   },
   "id": "60e67b2b3c1e26"
  },
  {
   "cell_type": "code",
   "execution_count": null,
   "outputs": [],
   "source": [
    "pred = reg.predict(X_val[var_explicatives])"
   ],
   "metadata": {
    "collapsed": false,
    "ExecuteTime": {
     "start_time": "2023-10-26T13:13:18.726284Z"
    }
   },
   "id": "1914aa423cd6461e"
  },
  {
   "cell_type": "code",
   "execution_count": null,
   "outputs": [],
   "source": [
    "mae = mean_absolute_error(y_val, pred)"
   ],
   "metadata": {
    "collapsed": false,
    "ExecuteTime": {
     "start_time": "2023-10-26T13:13:18.728366Z"
    }
   },
   "id": "dec6f6b830599cc9"
  },
  {
   "cell_type": "code",
   "execution_count": null,
   "outputs": [],
   "source": [
    "mae"
   ],
   "metadata": {
    "collapsed": false,
    "ExecuteTime": {
     "end_time": "2023-10-26T13:13:18.735632Z",
     "start_time": "2023-10-26T13:13:18.732305Z"
    }
   },
   "id": "ad2bf10a2846b738"
  },
  {
   "cell_type": "markdown",
   "source": [
    "# Test"
   ],
   "metadata": {
    "collapsed": false
   },
   "id": "3b51fce34fd9dabb"
  },
  {
   "cell_type": "code",
   "execution_count": null,
   "outputs": [],
   "source": [
    "test_pred = reg.predict(test_clean[var_explicatives])"
   ],
   "metadata": {
    "collapsed": false,
    "ExecuteTime": {
     "start_time": "2023-10-26T13:13:18.734749Z"
    }
   },
   "id": "af82d693490019d1"
  },
  {
   "cell_type": "code",
   "execution_count": null,
   "outputs": [],
   "source": [
    "sub = test[[\"ID\", 'ec (cm3)']]"
   ],
   "metadata": {
    "collapsed": false,
    "ExecuteTime": {
     "start_time": "2023-10-26T13:13:18.737679Z"
    }
   },
   "id": "e44d170ebe58b821"
  },
  {
   "cell_type": "code",
   "execution_count": null,
   "outputs": [],
   "source": [
    "sub[\"Ewltp (g/km)\"] = test_pred"
   ],
   "metadata": {
    "collapsed": false,
    "ExecuteTime": {
     "start_time": "2023-10-26T13:13:18.740279Z"
    }
   },
   "id": "ffb451dbd6affcd7"
  },
  {
   "cell_type": "code",
   "execution_count": null,
   "outputs": [],
   "source": [
    "sub.drop(columns=['ec (cm3)'], inplace = True)"
   ],
   "metadata": {
    "collapsed": false,
    "ExecuteTime": {
     "start_time": "2023-10-26T13:13:18.742278Z"
    }
   },
   "id": "28a17143a9bda9d"
  },
  {
   "cell_type": "code",
   "execution_count": null,
   "outputs": [],
   "source": [
    "sub.to_csv(\"../data/sample_submission2.csv\", index=False)"
   ],
   "metadata": {
    "collapsed": false,
    "ExecuteTime": {
     "end_time": "2023-10-26T13:13:18.785276Z",
     "start_time": "2023-10-26T13:13:18.743914Z"
    }
   },
   "id": "b1473504b61bc48e"
  },
  {
   "cell_type": "markdown",
   "source": [
    "# Correlation catégorielle"
   ],
   "metadata": {
    "collapsed": false
   },
   "id": "827d33d30db9e235"
  },
  {
   "cell_type": "code",
   "execution_count": 4,
   "outputs": [],
   "source": [
    "X_train = train.drop(columns=[\"Ewltp_(g/km)\", \"ID\"])\n",
    "y_train = train[\"Ewltp_(g/km)\"]\n",
    "\n",
    "X_train, X_val, y_train, y_val = train_test_split(X_train, y_train, test_size=0.2, random_state=0)"
   ],
   "metadata": {
    "collapsed": false,
    "ExecuteTime": {
     "end_time": "2023-11-01T10:51:39.330515Z",
     "start_time": "2023-11-01T10:51:33.879121Z"
    }
   },
   "id": "11af6c23dcbb2735"
  },
  {
   "cell_type": "code",
   "execution_count": 6,
   "outputs": [],
   "source": [
    "train = train.rename(columns={\"Ewltp_(g/km)\": \"Ewltp_g_km\"})"
   ],
   "metadata": {
    "collapsed": false,
    "ExecuteTime": {
     "end_time": "2023-11-01T10:51:53.735825Z",
     "start_time": "2023-11-01T10:51:51.465994Z"
    }
   },
   "id": "4c65791d70b9237d"
  },
  {
   "cell_type": "code",
   "execution_count": 9,
   "outputs": [],
   "source": [
    "col_categoricals = train.select_dtypes(include=[\"object\"]).columns.to_list()"
   ],
   "metadata": {
    "collapsed": false,
    "ExecuteTime": {
     "end_time": "2023-11-01T10:52:46.808624Z",
     "start_time": "2023-11-01T10:52:46.806382Z"
    }
   },
   "id": "d3bad95d214fd851"
  },
  {
   "cell_type": "code",
   "execution_count": 16,
   "outputs": [
    {
     "name": "stdout",
     "output_type": "stream",
     "text": [
      "--------------------------- Table Anova ---------------------------\n",
      "                  sum_sq      df             F         PR(>F)\n",
      "C(Country)  7.095331e+03    28.0      2.860691   7.519735e-07\n",
      "C(VFN)      2.245715e+07  1771.0    143.150348   0.000000e+00\n",
      "C(Mh)       4.673946e+06    64.0    824.441758   0.000000e+00\n",
      "C(Man)      4.113907e+06    63.0    737.174193   0.000000e+00\n",
      "C(Tan)      1.729563e+07  1586.0    123.108896   0.000000e+00\n",
      "C(T)        1.183919e+07   380.0    351.717925   0.000000e+00\n",
      "C(Va)       2.165030e+07  1343.0    181.988609   0.000000e+00\n",
      "C(Ve)       2.563572e+07  3084.0     93.839867   0.000000e+00\n",
      "C(Mk)       7.892996e+06    89.0   1001.170592   0.000000e+00\n",
      "C(Cn)       2.149978e+07  1188.0    204.302598   0.000000e+00\n",
      "C(Ct)       8.494822e+04     2.0    479.491058  1.524793e-190\n",
      "C(Cr)       1.511453e+04     1.0    170.628254   2.422057e-38\n",
      "C(Ft)       3.346387e+06     9.0   4197.491964   0.000000e+00\n",
      "C(Fm)       8.207048e+06     5.0  18529.904644   0.000000e+00\n",
      "Residual    4.243061e+05  4790.0           NaN            NaN\n",
      "--------------------------- Eta Carré ---------------------------\n",
      "Country : 0.0\n",
      "VFN : 15.0\n",
      "Mh : 3.0\n",
      "Man : 3.0\n",
      "Tan : 12.0\n",
      "T : 8.0\n",
      "Va : 15.0\n",
      "Ve : 17.0\n",
      "Mk : 5.0\n",
      "Cn : 14.000000000000002\n",
      "Ct : 0.0\n",
      "Cr : 0.0\n",
      "Ft : 2.0\n",
      "Fm : 6.0\n"
     ]
    }
   ],
   "source": [
    "formula = 'Ewltp_g_km ~ ' + ' + '.join(['C(' + var + ')' for var in col_categoricals])\n",
    "\n",
    "model = ols(formula, data=train.sample(10000)).fit()\n",
    "aov_table = sm.stats.anova_lm(model, typ=2) \n",
    "\n",
    "print('--------------------------- Table Anova ---------------------------')\n",
    "print(aov_table)\n",
    "\n",
    "print('--------------------------- Eta Carré ---------------------------')\n",
    "eta = [aov_table['sum_sq'][i] / sum(aov_table['sum_sq']) for i in range(len(col_categoricals))]\n",
    "for i in range(len(col_categoricals)):\n",
    "    print(f'{col_categoricals[i]} : {round(eta[i], 2)*100}')"
   ],
   "metadata": {
    "collapsed": false,
    "ExecuteTime": {
     "end_time": "2023-11-01T11:33:49.426979Z",
     "start_time": "2023-11-01T11:15:15.439837Z"
    }
   },
   "id": "49ec90a053a9fb55"
  },
  {
   "cell_type": "code",
   "execution_count": 20,
   "outputs": [],
   "source": [
    "contrib = {}\n",
    "for i in range(len(col_categoricals)):\n",
    "    contrib[col_categoricals[i]] = round(eta[i], 2)*100"
   ],
   "metadata": {
    "collapsed": false,
    "ExecuteTime": {
     "end_time": "2023-11-01T11:38:07.805672Z",
     "start_time": "2023-11-01T11:38:07.797395Z"
    }
   },
   "id": "64b5e325271c9b5c"
  },
  {
   "cell_type": "code",
   "execution_count": 26,
   "outputs": [
    {
     "data": {
      "text/plain": "{'Country': 0.0,\n 'Ct': 0.0,\n 'Cr': 0.0,\n 'Ft': 2.0,\n 'Mh': 3.0,\n 'Man': 3.0,\n 'Mk': 5.0,\n 'Fm': 6.0,\n 'T': 8.0,\n 'Tan': 12.0,\n 'Cn': 14.000000000000002,\n 'VFN': 15.0,\n 'Va': 15.0,\n 'Ve': 17.0}"
     },
     "execution_count": 26,
     "metadata": {},
     "output_type": "execute_result"
    }
   ],
   "source": [
    "dict(sorted(contrib.items(), key=lambda item: item[1]))"
   ],
   "metadata": {
    "collapsed": false,
    "ExecuteTime": {
     "end_time": "2023-11-01T11:39:58.313408Z",
     "start_time": "2023-11-01T11:39:58.303024Z"
    }
   },
   "id": "4e5251dd8614e253"
  },
  {
   "cell_type": "code",
   "execution_count": 30,
   "outputs": [
    {
     "data": {
      "text/plain": "0          IP-C519_2022_00008-WF0-1\n1          IP-MQB27ZZ_A2_0529-WVW-1\n2          IP-MQB27ZZ_A1_0533-WVW-1\n3               IP-04-U5Y-2018-1137\n4          IP-MQB27ZZ_B2_0534-WVW-1\n                     ...           \n7571644    IP-MLB42AZ_B0_0685-WAU-1\n7571645    IP-MLB42AZ_B0_0685-WAU-1\n7571646    IP-MLB42AZ_B0_0685-WAU-1\n7571647    IP-K14A1RTP6DAF_00-JN1-1\n7571648        IP-20_GR6_0023-JHM-1\nName: VFN, Length: 7571649, dtype: object"
     },
     "execution_count": 30,
     "metadata": {},
     "output_type": "execute_result"
    }
   ],
   "source": [
    "train[\"VFN\"]"
   ],
   "metadata": {
    "collapsed": false,
    "ExecuteTime": {
     "end_time": "2023-11-01T11:41:35.240954Z",
     "start_time": "2023-11-01T11:41:35.228781Z"
    }
   },
   "id": "f1e7d467c4b13054"
  },
  {
   "cell_type": "markdown",
   "source": [
    "# Feature Engineering"
   ],
   "metadata": {
    "collapsed": false
   },
   "id": "86e95018a3d0f54a"
  },
  {
   "cell_type": "code",
   "execution_count": null,
   "outputs": [],
   "source": [
    "vehicles = pd.read_csv(\"../data/all-vehicles-model.csv\", sep = ';')"
   ],
   "metadata": {
    "collapsed": false,
    "ExecuteTime": {
     "start_time": "2023-10-26T13:13:18.749516Z"
    }
   },
   "id": "ab7d95bfc849c70e"
  },
  {
   "cell_type": "code",
   "execution_count": null,
   "outputs": [],
   "source": [
    "vehicles"
   ],
   "metadata": {
    "collapsed": false,
    "ExecuteTime": {
     "start_time": "2023-10-26T13:13:18.750724Z"
    }
   },
   "id": "73b3afc3a3f07c88"
  },
  {
   "cell_type": "code",
   "execution_count": null,
   "outputs": [],
   "source": [
    "modeles = list(vehicles[\"Model\"].unique())"
   ],
   "metadata": {
    "collapsed": false,
    "ExecuteTime": {
     "start_time": "2023-10-26T13:13:18.752058Z"
    }
   },
   "id": "ee5a727a257c6803"
  },
  {
   "cell_type": "code",
   "execution_count": null,
   "outputs": [],
   "source": [
    "import Levenshtein\n",
    "from tqdm import tqdm\n",
    "modeles2 = list(train_clean[\"Cn\"].unique())\n",
    "commun = {}\n",
    "for element in tqdm(modeles2) : \n",
    "    commun[element]=[]\n",
    "    similarity_score = {element2 : Levenshtein.ratio(element, element2) for element2 in modeles}\n",
    "    for keys, value in similarity_score.items():\n",
    "        if value > 0.6 :\n",
    "            commun[element].append(vehicles[vehicles[\"Model\"]==keys][\"Vehicle Size Class\"].to_list()[0])\n"
   ],
   "metadata": {
    "collapsed": false,
    "ExecuteTime": {
     "start_time": "2023-10-26T13:13:18.753560Z"
    }
   },
   "id": "2d79ebdaa9d08c66"
  },
  {
   "cell_type": "code",
   "execution_count": null,
   "outputs": [],
   "source": [
    "commun"
   ],
   "metadata": {
    "collapsed": false,
    "ExecuteTime": {
     "start_time": "2023-10-26T13:13:18.754901Z"
    }
   },
   "id": "c76734b777cbcaeb"
  },
  {
   "cell_type": "code",
   "execution_count": null,
   "outputs": [],
   "source": [
    "from statistics import mode\n",
    "\n",
    "commun_red = {keys : mode(value)for keys,value in commun.items() if len(value) > 0}"
   ],
   "metadata": {
    "collapsed": false,
    "ExecuteTime": {
     "start_time": "2023-10-26T13:13:18.756383Z"
    }
   },
   "id": "bf2810e4cfefdd9c"
  },
  {
   "cell_type": "code",
   "execution_count": null,
   "outputs": [],
   "source": [
    "len(commun_red)"
   ],
   "metadata": {
    "collapsed": false,
    "ExecuteTime": {
     "start_time": "2023-10-26T13:13:18.757722Z"
    }
   },
   "id": "2eb35c791cefaa7c"
  },
  {
   "cell_type": "code",
   "execution_count": null,
   "outputs": [],
   "source": [
    "train_clean[\"Cn\"].nunique()"
   ],
   "metadata": {
    "collapsed": false,
    "ExecuteTime": {
     "start_time": "2023-10-26T13:13:18.759054Z"
    }
   },
   "id": "4d8a58a180fee375"
  },
  {
   "cell_type": "code",
   "execution_count": 31,
   "outputs": [
    {
     "name": "stderr",
     "output_type": "stream",
     "text": [
      "/var/folders/12/33kq22951gn7jfpz3d32v_qc0000gn/T/ipykernel_12248/4078368454.py:1: DtypeWarning: Columns (28) have mixed types. Specify dtype option on import or set low_memory=False.\n",
      "  a = pd.read_csv(\"../data/train.csv\")\n"
     ]
    }
   ],
   "source": [
    "a = pd.read_csv(\"../data/train.csv\")"
   ],
   "metadata": {
    "collapsed": false,
    "ExecuteTime": {
     "end_time": "2023-11-01T12:04:43.899586Z",
     "start_time": "2023-11-01T12:04:05.505373Z"
    }
   },
   "id": "b5a7689c607eb552"
  },
  {
   "cell_type": "code",
   "execution_count": 42,
   "outputs": [
    {
     "data": {
      "text/plain": "Ft\nELECTRIC           1021754\nHYDROGEN               981\nNG                      12\nPETROL/ELECTRIC          9\nPETROL                   8\nDIESEL                   1\nName: count, dtype: int64"
     },
     "execution_count": 42,
     "metadata": {},
     "output_type": "execute_result"
    }
   ],
   "source": [
    "a.loc[a[\"ec (cm3)\"].isna()][\"Ft\"].value_counts()"
   ],
   "metadata": {
    "collapsed": false,
    "ExecuteTime": {
     "end_time": "2023-11-01T12:17:26.871043Z",
     "start_time": "2023-11-01T12:17:25.221977Z"
    }
   },
   "id": "2b1f696cd273c23e"
  },
  {
   "cell_type": "code",
   "execution_count": 41,
   "outputs": [
    {
     "data": {
      "text/plain": "ID                                  1185643\nCountry                                  ES\nVFN                                     NaN\nMp                                      NaN\nMh                             OUT OF SCOPE\nMan                     AUTOMOBILES CITROEN\nMMS                                     NaN\nTan                     E49*2007/46*0024*12\nT                                      PLA9\nVa                                    2B2MS\nVe                                 3221CE3R\nMk                               GIOTTILINE\nCn                                      322\nCt                                       M1\nCr                                       M1\nr                                         1\nm (kg)                               2778.0\nMt                                      NaN\nEnedc (g/km)                            NaN\nEwltp (g/km)                     847.146825\nW (mm)                               3450.0\nAt1 (mm)                             1810.0\nAt2 (mm)                             1980.0\nFt                                   DIESEL\nFm                                        M\nec (cm3)                                NaN\nep (KW)                               103.0\nz (Wh/km)                               NaN\nIT                                      NaN\nErnedc (g/km)                           NaN\nErwltp (g/km)                           NaN\nDe                                      NaN\nVf                                      NaN\nStatus                                    P\nDate of registration             2022-12-19\nFuel consumption                        NaN\nElectric range (km)                     NaN\nName: 1185643, dtype: object"
     },
     "execution_count": 41,
     "metadata": {},
     "output_type": "execute_result"
    }
   ],
   "source": [
    "a.loc[1185643]"
   ],
   "metadata": {
    "collapsed": false,
    "ExecuteTime": {
     "end_time": "2023-11-01T12:11:48.695188Z",
     "start_time": "2023-11-01T12:11:48.661117Z"
    }
   },
   "id": "c0795493162eff34"
  },
  {
   "cell_type": "code",
   "execution_count": null,
   "outputs": [],
   "source": [],
   "metadata": {
    "collapsed": false
   },
   "id": "6afe520530ccc315"
  }
 ],
 "metadata": {
  "kernelspec": {
   "display_name": "Python 3",
   "language": "python",
   "name": "python3"
  },
  "language_info": {
   "codemirror_mode": {
    "name": "ipython",
    "version": 2
   },
   "file_extension": ".py",
   "mimetype": "text/x-python",
   "name": "python",
   "nbconvert_exporter": "python",
   "pygments_lexer": "ipython2",
   "version": "2.7.6"
  }
 },
 "nbformat": 4,
 "nbformat_minor": 5
}
