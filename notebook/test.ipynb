{
 "cells": [
  {
   "cell_type": "code",
   "execution_count": 1,
   "id": "initial_id",
   "metadata": {
    "collapsed": true,
    "ExecuteTime": {
     "end_time": "2023-10-14T14:40:30.516904Z",
     "start_time": "2023-10-14T14:40:30.359263Z"
    }
   },
   "outputs": [],
   "source": [
    "import pandas as pd\n",
    "import  sys \n",
    "sys.path.append(\"../src/\")\n",
    "import data_preparation as dp"
   ]
  },
  {
   "cell_type": "code",
   "execution_count": 2,
   "outputs": [
    {
     "name": "stderr",
     "output_type": "stream",
     "text": [
      "/var/folders/12/33kq22951gn7jfpz3d32v_qc0000gn/T/ipykernel_32762/3597601614.py:1: DtypeWarning: Columns (28) have mixed types. Specify dtype option on import or set low_memory=False.\n",
      "  df = pd.read_csv(\"../data/train.csv\")\n"
     ]
    }
   ],
   "source": [
    "df = pd.read_csv(\"../data/train.csv\")"
   ],
   "metadata": {
    "collapsed": false,
    "ExecuteTime": {
     "end_time": "2023-10-14T14:40:52.962900Z",
     "start_time": "2023-10-14T14:40:30.735464Z"
    }
   },
   "id": "fd2c119ac145f032"
  },
  {
   "cell_type": "code",
   "execution_count": 3,
   "outputs": [],
   "source": [
    "df = df.drop(columns=['MMS', 'Vf', 'De', 'Ernedc (g/km)', 'Enedc (g/km)', 'z (Wh/km)', 'Erwltp (g/km)', 'r' , 'Status'])"
   ],
   "metadata": {
    "collapsed": false,
    "ExecuteTime": {
     "end_time": "2023-10-14T14:40:54.246709Z",
     "start_time": "2023-10-14T14:40:52.964185Z"
    }
   },
   "id": "1167f003f414ba74"
  },
  {
   "cell_type": "code",
   "execution_count": 4,
   "outputs": [],
   "source": [
    "df['Electric range (km)'].fillna(0, inplace=True)"
   ],
   "metadata": {
    "collapsed": false,
    "ExecuteTime": {
     "end_time": "2023-10-14T14:40:54.265149Z",
     "start_time": "2023-10-14T14:40:54.248274Z"
    }
   },
   "id": "f90645cb9540cb82"
  },
  {
   "cell_type": "code",
   "execution_count": 5,
   "outputs": [],
   "source": [
    "exp = dp.DataPreparation(df)"
   ],
   "metadata": {
    "collapsed": false,
    "ExecuteTime": {
     "end_time": "2023-10-14T14:40:54.976645Z",
     "start_time": "2023-10-14T14:40:54.267150Z"
    }
   },
   "id": "6e15ef612bdc112c"
  },
  {
   "cell_type": "code",
   "execution_count": 6,
   "outputs": [],
   "source": [
    "exp.get_type_list()"
   ],
   "metadata": {
    "collapsed": false,
    "ExecuteTime": {
     "end_time": "2023-10-14T14:40:56.389079Z",
     "start_time": "2023-10-14T14:40:54.978228Z"
    }
   },
   "id": "114e960c60ed4f22"
  },
  {
   "cell_type": "code",
   "execution_count": 7,
   "outputs": [
    {
     "name": "stderr",
     "output_type": "stream",
     "text": [
      "100%|██████████| 8/8 [00:42<00:00,  5.34s/it]\n"
     ]
    }
   ],
   "source": [
    "exp.impute_numerical()"
   ],
   "metadata": {
    "collapsed": false,
    "ExecuteTime": {
     "end_time": "2023-10-14T14:41:41.544364Z",
     "start_time": "2023-10-14T14:40:56.390166Z"
    }
   },
   "id": "289873df62c89e50"
  }
 ],
 "metadata": {
  "kernelspec": {
   "display_name": "Python 3",
   "language": "python",
   "name": "python3"
  },
  "language_info": {
   "codemirror_mode": {
    "name": "ipython",
    "version": 2
   },
   "file_extension": ".py",
   "mimetype": "text/x-python",
   "name": "python",
   "nbconvert_exporter": "python",
   "pygments_lexer": "ipython2",
   "version": "2.7.6"
  }
 },
 "nbformat": 4,
 "nbformat_minor": 5
}
