{
 "cells": [
  {
   "cell_type": "code",
   "execution_count": 2,
   "id": "initial_id",
   "metadata": {
    "collapsed": true,
    "ExecuteTime": {
     "end_time": "2023-10-10T07:43:44.256646500Z",
     "start_time": "2023-10-10T07:43:39.562817400Z"
    }
   },
   "outputs": [],
   "source": [
    "import pandas as pd\n",
    "import sys \n",
    "sys.path.append(\"./src/\")\n",
    "\n",
    "import analyse_exploratoire as ae"
   ]
  },
  {
   "cell_type": "code",
   "execution_count": 4,
   "outputs": [
    {
     "name": "stderr",
     "output_type": "stream",
     "text": [
      "C:\\Users\\baheu\\AppData\\Local\\Temp\\ipykernel_20556\\4207432485.py:1: DtypeWarning: Columns (28) have mixed types. Specify dtype option on import or set low_memory=False.\n",
      "  df = pd.read_csv('data/train.csv')\n"
     ]
    }
   ],
   "source": [
    "df = pd.read_csv('data/train.csv')"
   ],
   "metadata": {
    "collapsed": false,
    "ExecuteTime": {
     "end_time": "2023-10-09T20:30:56.558268600Z",
     "start_time": "2023-10-09T20:30:11.900327500Z"
    }
   },
   "id": "8ac1439fe4828521"
  },
  {
   "cell_type": "code",
   "execution_count": 5,
   "outputs": [
    {
     "data": {
      "text/plain": "   ID Country                       VFN          Mp               Mh  \\\n0   0      DE  IP-C519_2022_00008-WF0-1        FORD  FORD WERKE GMBH   \n1   1      FR  IP-MQB27ZZ_A2_0529-WVW-1  VOLKSWAGEN       VOLKSWAGEN   \n2   2      FR  IP-MQB27ZZ_A1_0533-WVW-1  VOLKSWAGEN       VOLKSWAGEN   \n3   3      DE       IP-04-U5Y-2018-1137         KIA     KIA SLOVAKIA   \n4   4      FR  IP-MQB27ZZ_B2_0534-WVW-1  VOLKSWAGEN       VOLKSWAGEN   \n\n                Man  MMS                  Tan    T       Va  ... z (Wh/km)  \\\n0   FORD WERKE GMBH  NaN  e13*2007/46*1911*15  DEH  R0DB1NX  ...       NaN   \n1     VOLKSWAGEN AG  NaN   e1*2007/46*1783*29   AW   ABDLAC  ...       NaN   \n2     VOLKSWAGEN AG  NaN   e1*2007/46*1783*29   AW   ABDLAC  ...       NaN   \n3  KIA SLOVAKIA SRO  NaN   e4*2007/46*1299*18   CD    BAP71  ...       NaN   \n4     VOLKSWAGEN AG  NaN   e1*2007/46*1783*29   AW   ABDLAA  ...       NaN   \n\n          IT Ernedc (g/km) Erwltp (g/km)  De  Vf  Status  \\\n0  e13 32 37           NaN          2.30 NaN NaN       P   \n1      e1 29           NaN          1.14 NaN NaN       P   \n2      e1 29           NaN          1.14 NaN NaN       P   \n3      e4 28           NaN          0.80 NaN NaN       P   \n4      e1 29           NaN          1.14 NaN NaN       P   \n\n   Date of registration  Fuel consumption   Electric range (km)  \n0            2022-08-29                5.6                  NaN  \n1            2022-02-22                5.5                  NaN  \n2            2022-03-26                5.6                  NaN  \n3            2022-09-01                6.8                  NaN  \n4            2022-01-21                5.9                  NaN  \n\n[5 rows x 37 columns]",
      "text/html": "<div>\n<style scoped>\n    .dataframe tbody tr th:only-of-type {\n        vertical-align: middle;\n    }\n\n    .dataframe tbody tr th {\n        vertical-align: top;\n    }\n\n    .dataframe thead th {\n        text-align: right;\n    }\n</style>\n<table border=\"1\" class=\"dataframe\">\n  <thead>\n    <tr style=\"text-align: right;\">\n      <th></th>\n      <th>ID</th>\n      <th>Country</th>\n      <th>VFN</th>\n      <th>Mp</th>\n      <th>Mh</th>\n      <th>Man</th>\n      <th>MMS</th>\n      <th>Tan</th>\n      <th>T</th>\n      <th>Va</th>\n      <th>...</th>\n      <th>z (Wh/km)</th>\n      <th>IT</th>\n      <th>Ernedc (g/km)</th>\n      <th>Erwltp (g/km)</th>\n      <th>De</th>\n      <th>Vf</th>\n      <th>Status</th>\n      <th>Date of registration</th>\n      <th>Fuel consumption</th>\n      <th>Electric range (km)</th>\n    </tr>\n  </thead>\n  <tbody>\n    <tr>\n      <th>0</th>\n      <td>0</td>\n      <td>DE</td>\n      <td>IP-C519_2022_00008-WF0-1</td>\n      <td>FORD</td>\n      <td>FORD WERKE GMBH</td>\n      <td>FORD WERKE GMBH</td>\n      <td>NaN</td>\n      <td>e13*2007/46*1911*15</td>\n      <td>DEH</td>\n      <td>R0DB1NX</td>\n      <td>...</td>\n      <td>NaN</td>\n      <td>e13 32 37</td>\n      <td>NaN</td>\n      <td>2.30</td>\n      <td>NaN</td>\n      <td>NaN</td>\n      <td>P</td>\n      <td>2022-08-29</td>\n      <td>5.6</td>\n      <td>NaN</td>\n    </tr>\n    <tr>\n      <th>1</th>\n      <td>1</td>\n      <td>FR</td>\n      <td>IP-MQB27ZZ_A2_0529-WVW-1</td>\n      <td>VOLKSWAGEN</td>\n      <td>VOLKSWAGEN</td>\n      <td>VOLKSWAGEN AG</td>\n      <td>NaN</td>\n      <td>e1*2007/46*1783*29</td>\n      <td>AW</td>\n      <td>ABDLAC</td>\n      <td>...</td>\n      <td>NaN</td>\n      <td>e1 29</td>\n      <td>NaN</td>\n      <td>1.14</td>\n      <td>NaN</td>\n      <td>NaN</td>\n      <td>P</td>\n      <td>2022-02-22</td>\n      <td>5.5</td>\n      <td>NaN</td>\n    </tr>\n    <tr>\n      <th>2</th>\n      <td>2</td>\n      <td>FR</td>\n      <td>IP-MQB27ZZ_A1_0533-WVW-1</td>\n      <td>VOLKSWAGEN</td>\n      <td>VOLKSWAGEN</td>\n      <td>VOLKSWAGEN AG</td>\n      <td>NaN</td>\n      <td>e1*2007/46*1783*29</td>\n      <td>AW</td>\n      <td>ABDLAC</td>\n      <td>...</td>\n      <td>NaN</td>\n      <td>e1 29</td>\n      <td>NaN</td>\n      <td>1.14</td>\n      <td>NaN</td>\n      <td>NaN</td>\n      <td>P</td>\n      <td>2022-03-26</td>\n      <td>5.6</td>\n      <td>NaN</td>\n    </tr>\n    <tr>\n      <th>3</th>\n      <td>3</td>\n      <td>DE</td>\n      <td>IP-04-U5Y-2018-1137</td>\n      <td>KIA</td>\n      <td>KIA SLOVAKIA</td>\n      <td>KIA SLOVAKIA SRO</td>\n      <td>NaN</td>\n      <td>e4*2007/46*1299*18</td>\n      <td>CD</td>\n      <td>BAP71</td>\n      <td>...</td>\n      <td>NaN</td>\n      <td>e4 28</td>\n      <td>NaN</td>\n      <td>0.80</td>\n      <td>NaN</td>\n      <td>NaN</td>\n      <td>P</td>\n      <td>2022-09-01</td>\n      <td>6.8</td>\n      <td>NaN</td>\n    </tr>\n    <tr>\n      <th>4</th>\n      <td>4</td>\n      <td>FR</td>\n      <td>IP-MQB27ZZ_B2_0534-WVW-1</td>\n      <td>VOLKSWAGEN</td>\n      <td>VOLKSWAGEN</td>\n      <td>VOLKSWAGEN AG</td>\n      <td>NaN</td>\n      <td>e1*2007/46*1783*29</td>\n      <td>AW</td>\n      <td>ABDLAA</td>\n      <td>...</td>\n      <td>NaN</td>\n      <td>e1 29</td>\n      <td>NaN</td>\n      <td>1.14</td>\n      <td>NaN</td>\n      <td>NaN</td>\n      <td>P</td>\n      <td>2022-01-21</td>\n      <td>5.9</td>\n      <td>NaN</td>\n    </tr>\n  </tbody>\n</table>\n<p>5 rows × 37 columns</p>\n</div>"
     },
     "execution_count": 5,
     "metadata": {},
     "output_type": "execute_result"
    }
   ],
   "source": [
    "df.head()"
   ],
   "metadata": {
    "collapsed": false,
    "ExecuteTime": {
     "end_time": "2023-10-09T20:31:13.980872600Z",
     "start_time": "2023-10-09T20:31:13.909429300Z"
    }
   },
   "id": "6fd9b59ed9fbf55"
  },
  {
   "cell_type": "code",
   "execution_count": null,
   "outputs": [],
   "source": [],
   "metadata": {
    "collapsed": false
   },
   "id": "3b2ecabee2395332"
  }
 ],
 "metadata": {
  "kernelspec": {
   "display_name": "Python 3",
   "language": "python",
   "name": "python3"
  },
  "language_info": {
   "codemirror_mode": {
    "name": "ipython",
    "version": 2
   },
   "file_extension": ".py",
   "mimetype": "text/x-python",
   "name": "python",
   "nbconvert_exporter": "python",
   "pygments_lexer": "ipython2",
   "version": "2.7.6"
  }
 },
 "nbformat": 4,
 "nbformat_minor": 5
}
